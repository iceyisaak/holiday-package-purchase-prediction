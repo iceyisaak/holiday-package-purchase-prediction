{
 "cells": [
  {
   "cell_type": "markdown",
   "id": "900b195f",
   "metadata": {},
   "source": [
    "# Holiday Package Purchase Prediction"
   ]
  },
  {
   "cell_type": "markdown",
   "id": "e4fb7981",
   "metadata": {},
   "source": [
    "###### Dataset: https://www.kaggle.com/datasets/susant4learning/holiday-package-purchase-prediction"
   ]
  },
  {
   "cell_type": "markdown",
   "id": "0fa3bb57",
   "metadata": {
    "vscode": {
     "languageId": "plaintext"
    }
   },
   "source": [
    "\"Trips & Travel.Com\" company wants to enable and establish a viable business model to expand the customer base. One of the ways to expand the customer base is to introduce a new offering of packages. Currently, there are 5 types of packages the company is offering - Basic, Standard, Deluxe, Super Deluxe, King. Looking at the data of the last year, we observed that 18% of the customers purchased the packages. \n",
    "\n",
    "However, the marketing cost was quite high because customers were contacted at random without looking at the available information. The company is now planning to launch a new product i.e. \n",
    "\n",
    "Wellness Tourism Package. Wellness Tourism is defined as Travel that allows the traveler to maintain, enhance or kick-start a healthy lifestyle, and support or increase one's sense of well-being. However, this time company wants to harness the available data of existing and potential customers to make the marketing expenditure more efficient."
   ]
  },
  {
   "cell_type": "markdown",
   "id": "6fa733b5",
   "metadata": {},
   "source": [
    "## Part 1: Data Cleaning"
   ]
  },
  {
   "cell_type": "code",
   "execution_count": 1,
   "id": "84dd3bfb",
   "metadata": {},
   "outputs": [],
   "source": [
    "import numpy as np\n",
    "import pandas as pd\n",
    "import seaborn as sns\n",
    "import matplotlib.pyplot as plt\n",
    "\n",
    "%matplotlib inline"
   ]
  },
  {
   "cell_type": "code",
   "execution_count": 2,
   "id": "00bb64e0",
   "metadata": {},
   "outputs": [],
   "source": [
    "import plotly.express as px"
   ]
  },
  {
   "cell_type": "code",
   "execution_count": 3,
   "id": "7a658aad",
   "metadata": {},
   "outputs": [],
   "source": [
    "import warnings\n",
    "warnings.filterwarnings('ignore')"
   ]
  },
  {
   "cell_type": "code",
   "execution_count": 4,
   "id": "0de4f558",
   "metadata": {},
   "outputs": [],
   "source": [
    "df0 = pd.read_csv('Travel.csv')\n",
    "df = df0.copy()"
   ]
  },
  {
   "cell_type": "code",
   "execution_count": 5,
   "id": "289e1ae2",
   "metadata": {},
   "outputs": [
    {
     "name": "stdout",
     "output_type": "stream",
     "text": [
      "<class 'pandas.core.frame.DataFrame'>\n",
      "RangeIndex: 4888 entries, 0 to 4887\n",
      "Data columns (total 20 columns):\n",
      " #   Column                    Non-Null Count  Dtype  \n",
      "---  ------                    --------------  -----  \n",
      " 0   CustomerID                4888 non-null   int64  \n",
      " 1   ProdTaken                 4888 non-null   int64  \n",
      " 2   Age                       4662 non-null   float64\n",
      " 3   TypeofContact             4863 non-null   object \n",
      " 4   CityTier                  4888 non-null   int64  \n",
      " 5   DurationOfPitch           4637 non-null   float64\n",
      " 6   Occupation                4888 non-null   object \n",
      " 7   Gender                    4888 non-null   object \n",
      " 8   NumberOfPersonVisiting    4888 non-null   int64  \n",
      " 9   NumberOfFollowups         4843 non-null   float64\n",
      " 10  ProductPitched            4888 non-null   object \n",
      " 11  PreferredPropertyStar     4862 non-null   float64\n",
      " 12  MaritalStatus             4888 non-null   object \n",
      " 13  NumberOfTrips             4748 non-null   float64\n",
      " 14  Passport                  4888 non-null   int64  \n",
      " 15  PitchSatisfactionScore    4888 non-null   int64  \n",
      " 16  OwnCar                    4888 non-null   int64  \n",
      " 17  NumberOfChildrenVisiting  4822 non-null   float64\n",
      " 18  Designation               4888 non-null   object \n",
      " 19  MonthlyIncome             4655 non-null   float64\n",
      "dtypes: float64(7), int64(7), object(6)\n",
      "memory usage: 763.9+ KB\n"
     ]
    }
   ],
   "source": [
    "df.info()"
   ]
  },
  {
   "cell_type": "code",
   "execution_count": 6,
   "id": "2e57f633",
   "metadata": {},
   "outputs": [
    {
     "data": {
      "text/html": [
       "<div>\n",
       "<style scoped>\n",
       "    .dataframe tbody tr th:only-of-type {\n",
       "        vertical-align: middle;\n",
       "    }\n",
       "\n",
       "    .dataframe tbody tr th {\n",
       "        vertical-align: top;\n",
       "    }\n",
       "\n",
       "    .dataframe thead th {\n",
       "        text-align: right;\n",
       "    }\n",
       "</style>\n",
       "<table border=\"1\" class=\"dataframe\">\n",
       "  <thead>\n",
       "    <tr style=\"text-align: right;\">\n",
       "      <th></th>\n",
       "      <th>CustomerID</th>\n",
       "      <th>ProdTaken</th>\n",
       "      <th>Age</th>\n",
       "      <th>TypeofContact</th>\n",
       "      <th>CityTier</th>\n",
       "      <th>DurationOfPitch</th>\n",
       "      <th>Occupation</th>\n",
       "      <th>Gender</th>\n",
       "      <th>NumberOfPersonVisiting</th>\n",
       "      <th>NumberOfFollowups</th>\n",
       "      <th>ProductPitched</th>\n",
       "      <th>PreferredPropertyStar</th>\n",
       "      <th>MaritalStatus</th>\n",
       "      <th>NumberOfTrips</th>\n",
       "      <th>Passport</th>\n",
       "      <th>PitchSatisfactionScore</th>\n",
       "      <th>OwnCar</th>\n",
       "      <th>NumberOfChildrenVisiting</th>\n",
       "      <th>Designation</th>\n",
       "      <th>MonthlyIncome</th>\n",
       "    </tr>\n",
       "  </thead>\n",
       "  <tbody>\n",
       "    <tr>\n",
       "      <th>0</th>\n",
       "      <td>200000</td>\n",
       "      <td>1</td>\n",
       "      <td>41.0</td>\n",
       "      <td>Self Enquiry</td>\n",
       "      <td>3</td>\n",
       "      <td>6.0</td>\n",
       "      <td>Salaried</td>\n",
       "      <td>Female</td>\n",
       "      <td>3</td>\n",
       "      <td>3.0</td>\n",
       "      <td>Deluxe</td>\n",
       "      <td>3.0</td>\n",
       "      <td>Single</td>\n",
       "      <td>1.0</td>\n",
       "      <td>1</td>\n",
       "      <td>2</td>\n",
       "      <td>1</td>\n",
       "      <td>0.0</td>\n",
       "      <td>Manager</td>\n",
       "      <td>20993.0</td>\n",
       "    </tr>\n",
       "    <tr>\n",
       "      <th>1</th>\n",
       "      <td>200001</td>\n",
       "      <td>0</td>\n",
       "      <td>49.0</td>\n",
       "      <td>Company Invited</td>\n",
       "      <td>1</td>\n",
       "      <td>14.0</td>\n",
       "      <td>Salaried</td>\n",
       "      <td>Male</td>\n",
       "      <td>3</td>\n",
       "      <td>4.0</td>\n",
       "      <td>Deluxe</td>\n",
       "      <td>4.0</td>\n",
       "      <td>Divorced</td>\n",
       "      <td>2.0</td>\n",
       "      <td>0</td>\n",
       "      <td>3</td>\n",
       "      <td>1</td>\n",
       "      <td>2.0</td>\n",
       "      <td>Manager</td>\n",
       "      <td>20130.0</td>\n",
       "    </tr>\n",
       "    <tr>\n",
       "      <th>2</th>\n",
       "      <td>200002</td>\n",
       "      <td>1</td>\n",
       "      <td>37.0</td>\n",
       "      <td>Self Enquiry</td>\n",
       "      <td>1</td>\n",
       "      <td>8.0</td>\n",
       "      <td>Free Lancer</td>\n",
       "      <td>Male</td>\n",
       "      <td>3</td>\n",
       "      <td>4.0</td>\n",
       "      <td>Basic</td>\n",
       "      <td>3.0</td>\n",
       "      <td>Single</td>\n",
       "      <td>7.0</td>\n",
       "      <td>1</td>\n",
       "      <td>3</td>\n",
       "      <td>0</td>\n",
       "      <td>0.0</td>\n",
       "      <td>Executive</td>\n",
       "      <td>17090.0</td>\n",
       "    </tr>\n",
       "    <tr>\n",
       "      <th>3</th>\n",
       "      <td>200003</td>\n",
       "      <td>0</td>\n",
       "      <td>33.0</td>\n",
       "      <td>Company Invited</td>\n",
       "      <td>1</td>\n",
       "      <td>9.0</td>\n",
       "      <td>Salaried</td>\n",
       "      <td>Female</td>\n",
       "      <td>2</td>\n",
       "      <td>3.0</td>\n",
       "      <td>Basic</td>\n",
       "      <td>3.0</td>\n",
       "      <td>Divorced</td>\n",
       "      <td>2.0</td>\n",
       "      <td>1</td>\n",
       "      <td>5</td>\n",
       "      <td>1</td>\n",
       "      <td>1.0</td>\n",
       "      <td>Executive</td>\n",
       "      <td>17909.0</td>\n",
       "    </tr>\n",
       "    <tr>\n",
       "      <th>4</th>\n",
       "      <td>200004</td>\n",
       "      <td>0</td>\n",
       "      <td>NaN</td>\n",
       "      <td>Self Enquiry</td>\n",
       "      <td>1</td>\n",
       "      <td>8.0</td>\n",
       "      <td>Small Business</td>\n",
       "      <td>Male</td>\n",
       "      <td>2</td>\n",
       "      <td>3.0</td>\n",
       "      <td>Basic</td>\n",
       "      <td>4.0</td>\n",
       "      <td>Divorced</td>\n",
       "      <td>1.0</td>\n",
       "      <td>0</td>\n",
       "      <td>5</td>\n",
       "      <td>1</td>\n",
       "      <td>0.0</td>\n",
       "      <td>Executive</td>\n",
       "      <td>18468.0</td>\n",
       "    </tr>\n",
       "  </tbody>\n",
       "</table>\n",
       "</div>"
      ],
      "text/plain": [
       "   CustomerID  ProdTaken   Age    TypeofContact  CityTier  DurationOfPitch  \\\n",
       "0      200000          1  41.0     Self Enquiry         3              6.0   \n",
       "1      200001          0  49.0  Company Invited         1             14.0   \n",
       "2      200002          1  37.0     Self Enquiry         1              8.0   \n",
       "3      200003          0  33.0  Company Invited         1              9.0   \n",
       "4      200004          0   NaN     Self Enquiry         1              8.0   \n",
       "\n",
       "       Occupation  Gender  NumberOfPersonVisiting  NumberOfFollowups  \\\n",
       "0        Salaried  Female                       3                3.0   \n",
       "1        Salaried    Male                       3                4.0   \n",
       "2     Free Lancer    Male                       3                4.0   \n",
       "3        Salaried  Female                       2                3.0   \n",
       "4  Small Business    Male                       2                3.0   \n",
       "\n",
       "  ProductPitched  PreferredPropertyStar MaritalStatus  NumberOfTrips  \\\n",
       "0         Deluxe                    3.0        Single            1.0   \n",
       "1         Deluxe                    4.0      Divorced            2.0   \n",
       "2          Basic                    3.0        Single            7.0   \n",
       "3          Basic                    3.0      Divorced            2.0   \n",
       "4          Basic                    4.0      Divorced            1.0   \n",
       "\n",
       "   Passport  PitchSatisfactionScore  OwnCar  NumberOfChildrenVisiting  \\\n",
       "0         1                       2       1                       0.0   \n",
       "1         0                       3       1                       2.0   \n",
       "2         1                       3       0                       0.0   \n",
       "3         1                       5       1                       1.0   \n",
       "4         0                       5       1                       0.0   \n",
       "\n",
       "  Designation  MonthlyIncome  \n",
       "0     Manager        20993.0  \n",
       "1     Manager        20130.0  \n",
       "2   Executive        17090.0  \n",
       "3   Executive        17909.0  \n",
       "4   Executive        18468.0  "
      ]
     },
     "execution_count": 6,
     "metadata": {},
     "output_type": "execute_result"
    }
   ],
   "source": [
    "df.head()"
   ]
  },
  {
   "cell_type": "markdown",
   "id": "bc4e9b49",
   "metadata": {},
   "source": [
    "# Data Cleaning"
   ]
  },
  {
   "cell_type": "markdown",
   "id": "57c49ef1",
   "metadata": {},
   "source": [
    "### Rename Columns"
   ]
  },
  {
   "cell_type": "code",
   "execution_count": 7,
   "id": "8be4d923",
   "metadata": {},
   "outputs": [
    {
     "data": {
      "text/plain": [
       "['CustomerID',\n",
       " 'ProdTaken',\n",
       " 'Age',\n",
       " 'TypeofContact',\n",
       " 'CityTier',\n",
       " 'DurationOfPitch',\n",
       " 'Occupation',\n",
       " 'Gender',\n",
       " 'NumberOfPersonVisiting',\n",
       " 'NumberOfFollowups',\n",
       " 'ProductPitched',\n",
       " 'PreferredPropertyStar',\n",
       " 'MaritalStatus',\n",
       " 'NumberOfTrips',\n",
       " 'Passport',\n",
       " 'PitchSatisfactionScore',\n",
       " 'OwnCar',\n",
       " 'NumberOfChildrenVisiting',\n",
       " 'Designation',\n",
       " 'MonthlyIncome']"
      ]
     },
     "execution_count": 7,
     "metadata": {},
     "output_type": "execute_result"
    }
   ],
   "source": [
    "df.columns.tolist()"
   ]
  },
  {
   "cell_type": "code",
   "execution_count": 8,
   "id": "7f72924a",
   "metadata": {},
   "outputs": [],
   "source": [
    "cols_to_rename = {\n",
    "    'CustomerID':'customer_id',\n",
    "    'ProdTaken':'prod_taken',\n",
    "    'TypeofContact':'type_of_contact',\n",
    "    'CityTier':'city_tier',\n",
    "    'DurationOfPitch':'duration_of_pitch',\n",
    "    'NumberOfPersonVisiting':'no_of_person_visiting',\n",
    "    'NumberOfFollowups':'no_of_followups',\n",
    "    'ProductPitched':'product_pitched',\n",
    "    'PreferredPropertyStar':'preferred_property_star',\n",
    "    'MaritalStatus':'marital_status',\n",
    "    'NumberOfTrips':'no_of_trips',\n",
    "    'PitchSatisfactionScore':'pitch_satisfaction_score',\n",
    "    'OwnCar':'car_owner',\n",
    "    'NumberOfChildrenVisiting':'no_of_children_visiting',\n",
    "    'MonthlyIncome':'monthly_income'\n",
    "}"
   ]
  },
  {
   "cell_type": "code",
   "execution_count": 9,
   "id": "11ad37e6",
   "metadata": {},
   "outputs": [],
   "source": [
    "df = df.rename(columns=cols_to_rename)"
   ]
  },
  {
   "cell_type": "code",
   "execution_count": 10,
   "id": "16d0fa95",
   "metadata": {},
   "outputs": [
    {
     "data": {
      "text/plain": [
       "['customer_id',\n",
       " 'prod_taken',\n",
       " 'Age',\n",
       " 'type_of_contact',\n",
       " 'city_tier',\n",
       " 'duration_of_pitch',\n",
       " 'Occupation',\n",
       " 'Gender',\n",
       " 'no_of_person_visiting',\n",
       " 'no_of_followups',\n",
       " 'product_pitched',\n",
       " 'preferred_property_star',\n",
       " 'marital_status',\n",
       " 'no_of_trips',\n",
       " 'Passport',\n",
       " 'pitch_satisfaction_score',\n",
       " 'car_owner',\n",
       " 'no_of_children_visiting',\n",
       " 'Designation',\n",
       " 'monthly_income']"
      ]
     },
     "execution_count": 10,
     "metadata": {},
     "output_type": "execute_result"
    }
   ],
   "source": [
    "df.columns.tolist()"
   ]
  },
  {
   "cell_type": "markdown",
   "id": "4587194e",
   "metadata": {},
   "source": [
    "### Convert Columns to Lower Case"
   ]
  },
  {
   "cell_type": "code",
   "execution_count": 11,
   "id": "32a57aa9",
   "metadata": {},
   "outputs": [],
   "source": [
    "df.columns = df.columns.str.lower()"
   ]
  },
  {
   "cell_type": "code",
   "execution_count": 12,
   "id": "d2f16151",
   "metadata": {},
   "outputs": [
    {
     "data": {
      "text/plain": [
       "Index(['customer_id', 'prod_taken', 'age', 'type_of_contact', 'city_tier',\n",
       "       'duration_of_pitch', 'occupation', 'gender', 'no_of_person_visiting',\n",
       "       'no_of_followups', 'product_pitched', 'preferred_property_star',\n",
       "       'marital_status', 'no_of_trips', 'passport', 'pitch_satisfaction_score',\n",
       "       'car_owner', 'no_of_children_visiting', 'designation',\n",
       "       'monthly_income'],\n",
       "      dtype='object')"
      ]
     },
     "execution_count": 12,
     "metadata": {},
     "output_type": "execute_result"
    }
   ],
   "source": [
    "df.columns"
   ]
  },
  {
   "cell_type": "code",
   "execution_count": 13,
   "id": "edde8c3b",
   "metadata": {},
   "outputs": [
    {
     "name": "stdout",
     "output_type": "stream",
     "text": [
      "<class 'pandas.core.frame.DataFrame'>\n",
      "RangeIndex: 4888 entries, 0 to 4887\n",
      "Data columns (total 20 columns):\n",
      " #   Column                    Non-Null Count  Dtype  \n",
      "---  ------                    --------------  -----  \n",
      " 0   customer_id               4888 non-null   int64  \n",
      " 1   prod_taken                4888 non-null   int64  \n",
      " 2   age                       4662 non-null   float64\n",
      " 3   type_of_contact           4863 non-null   object \n",
      " 4   city_tier                 4888 non-null   int64  \n",
      " 5   duration_of_pitch         4637 non-null   float64\n",
      " 6   occupation                4888 non-null   object \n",
      " 7   gender                    4888 non-null   object \n",
      " 8   no_of_person_visiting     4888 non-null   int64  \n",
      " 9   no_of_followups           4843 non-null   float64\n",
      " 10  product_pitched           4888 non-null   object \n",
      " 11  preferred_property_star   4862 non-null   float64\n",
      " 12  marital_status            4888 non-null   object \n",
      " 13  no_of_trips               4748 non-null   float64\n",
      " 14  passport                  4888 non-null   int64  \n",
      " 15  pitch_satisfaction_score  4888 non-null   int64  \n",
      " 16  car_owner                 4888 non-null   int64  \n",
      " 17  no_of_children_visiting   4822 non-null   float64\n",
      " 18  designation               4888 non-null   object \n",
      " 19  monthly_income            4655 non-null   float64\n",
      "dtypes: float64(7), int64(7), object(6)\n",
      "memory usage: 763.9+ KB\n"
     ]
    }
   ],
   "source": [
    "df.info()"
   ]
  },
  {
   "cell_type": "markdown",
   "id": "21e3e061",
   "metadata": {},
   "source": [
    "### Resequence Columns"
   ]
  },
  {
   "cell_type": "code",
   "execution_count": 14,
   "id": "ec8884ad",
   "metadata": {},
   "outputs": [
    {
     "data": {
      "text/plain": [
       "['customer_id',\n",
       " 'prod_taken',\n",
       " 'age',\n",
       " 'type_of_contact',\n",
       " 'city_tier',\n",
       " 'duration_of_pitch',\n",
       " 'occupation',\n",
       " 'gender',\n",
       " 'no_of_person_visiting',\n",
       " 'no_of_followups',\n",
       " 'product_pitched',\n",
       " 'preferred_property_star',\n",
       " 'marital_status',\n",
       " 'no_of_trips',\n",
       " 'passport',\n",
       " 'pitch_satisfaction_score',\n",
       " 'car_owner',\n",
       " 'no_of_children_visiting',\n",
       " 'designation',\n",
       " 'monthly_income']"
      ]
     },
     "execution_count": 14,
     "metadata": {},
     "output_type": "execute_result"
    }
   ],
   "source": [
    "df.columns.tolist()"
   ]
  },
  {
   "cell_type": "code",
   "execution_count": 15,
   "id": "c7854123",
   "metadata": {},
   "outputs": [],
   "source": [
    "col_sequence = [\n",
    " 'customer_id',\n",
    " 'age',\n",
    " 'gender',\n",
    " 'marital_status',\n",
    " 'city_tier',\n",
    " 'occupation',\n",
    " 'monthly_income',\n",
    " 'no_of_person_visiting',\n",
    " 'no_of_children_visiting',\n",
    " 'type_of_contact',\n",
    " 'no_of_followups',\n",
    " 'product_pitched',\n",
    " 'duration_of_pitch',\n",
    " 'pitch_satisfaction_score',\n",
    " 'preferred_property_star',\n",
    " 'no_of_trips',\n",
    " 'passport',\n",
    " 'car_owner',\n",
    " 'designation',\n",
    " 'prod_taken'\n",
    "]"
   ]
  },
  {
   "cell_type": "code",
   "execution_count": 16,
   "id": "eeb674b3",
   "metadata": {},
   "outputs": [],
   "source": [
    "df = df[col_sequence]"
   ]
  },
  {
   "cell_type": "code",
   "execution_count": 17,
   "id": "1c4c4aea",
   "metadata": {},
   "outputs": [
    {
     "data": {
      "text/plain": [
       "['customer_id',\n",
       " 'age',\n",
       " 'gender',\n",
       " 'marital_status',\n",
       " 'city_tier',\n",
       " 'occupation',\n",
       " 'monthly_income',\n",
       " 'no_of_person_visiting',\n",
       " 'no_of_children_visiting',\n",
       " 'type_of_contact',\n",
       " 'no_of_followups',\n",
       " 'product_pitched',\n",
       " 'duration_of_pitch',\n",
       " 'pitch_satisfaction_score',\n",
       " 'preferred_property_star',\n",
       " 'no_of_trips',\n",
       " 'passport',\n",
       " 'car_owner',\n",
       " 'designation',\n",
       " 'prod_taken']"
      ]
     },
     "execution_count": 17,
     "metadata": {},
     "output_type": "execute_result"
    }
   ],
   "source": [
    "df.columns.tolist()"
   ]
  },
  {
   "cell_type": "code",
   "execution_count": 18,
   "id": "b0a8e7c6",
   "metadata": {},
   "outputs": [
    {
     "name": "stdout",
     "output_type": "stream",
     "text": [
      "<class 'pandas.core.frame.DataFrame'>\n",
      "RangeIndex: 4888 entries, 0 to 4887\n",
      "Data columns (total 20 columns):\n",
      " #   Column                    Non-Null Count  Dtype  \n",
      "---  ------                    --------------  -----  \n",
      " 0   customer_id               4888 non-null   int64  \n",
      " 1   age                       4662 non-null   float64\n",
      " 2   gender                    4888 non-null   object \n",
      " 3   marital_status            4888 non-null   object \n",
      " 4   city_tier                 4888 non-null   int64  \n",
      " 5   occupation                4888 non-null   object \n",
      " 6   monthly_income            4655 non-null   float64\n",
      " 7   no_of_person_visiting     4888 non-null   int64  \n",
      " 8   no_of_children_visiting   4822 non-null   float64\n",
      " 9   type_of_contact           4863 non-null   object \n",
      " 10  no_of_followups           4843 non-null   float64\n",
      " 11  product_pitched           4888 non-null   object \n",
      " 12  duration_of_pitch         4637 non-null   float64\n",
      " 13  pitch_satisfaction_score  4888 non-null   int64  \n",
      " 14  preferred_property_star   4862 non-null   float64\n",
      " 15  no_of_trips               4748 non-null   float64\n",
      " 16  passport                  4888 non-null   int64  \n",
      " 17  car_owner                 4888 non-null   int64  \n",
      " 18  designation               4888 non-null   object \n",
      " 19  prod_taken                4888 non-null   int64  \n",
      "dtypes: float64(7), int64(7), object(6)\n",
      "memory usage: 763.9+ KB\n"
     ]
    }
   ],
   "source": [
    "df.info()"
   ]
  },
  {
   "cell_type": "markdown",
   "id": "db73301a",
   "metadata": {},
   "source": [
    "---"
   ]
  },
  {
   "cell_type": "markdown",
   "id": "66b4c06c",
   "metadata": {},
   "source": [
    "## Customer ID"
   ]
  },
  {
   "cell_type": "code",
   "execution_count": 19,
   "id": "b1d04134",
   "metadata": {},
   "outputs": [],
   "source": [
    "df = df.drop('customer_id', axis=1)"
   ]
  },
  {
   "cell_type": "code",
   "execution_count": 20,
   "id": "7efe7d0b",
   "metadata": {},
   "outputs": [
    {
     "data": {
      "text/plain": [
       "['age',\n",
       " 'gender',\n",
       " 'marital_status',\n",
       " 'city_tier',\n",
       " 'occupation',\n",
       " 'monthly_income',\n",
       " 'no_of_person_visiting',\n",
       " 'no_of_children_visiting',\n",
       " 'type_of_contact',\n",
       " 'no_of_followups',\n",
       " 'product_pitched',\n",
       " 'duration_of_pitch',\n",
       " 'pitch_satisfaction_score',\n",
       " 'preferred_property_star',\n",
       " 'no_of_trips',\n",
       " 'passport',\n",
       " 'car_owner',\n",
       " 'designation',\n",
       " 'prod_taken']"
      ]
     },
     "execution_count": 20,
     "metadata": {},
     "output_type": "execute_result"
    }
   ],
   "source": [
    "df.columns.tolist()"
   ]
  },
  {
   "cell_type": "markdown",
   "id": "7eb33a68",
   "metadata": {},
   "source": [
    "---"
   ]
  },
  {
   "cell_type": "markdown",
   "id": "799a39ff",
   "metadata": {},
   "source": [
    "# Handle Missing Values"
   ]
  },
  {
   "cell_type": "code",
   "execution_count": 21,
   "id": "7dcf00d5",
   "metadata": {},
   "outputs": [],
   "source": [
    "df_isna_sum = df.isna().sum()"
   ]
  },
  {
   "cell_type": "code",
   "execution_count": 22,
   "id": "f8e7dee7",
   "metadata": {},
   "outputs": [
    {
     "data": {
      "text/plain": [
       "age                         226\n",
       "gender                        0\n",
       "marital_status                0\n",
       "city_tier                     0\n",
       "occupation                    0\n",
       "monthly_income              233\n",
       "no_of_person_visiting         0\n",
       "no_of_children_visiting      66\n",
       "type_of_contact              25\n",
       "no_of_followups              45\n",
       "product_pitched               0\n",
       "duration_of_pitch           251\n",
       "pitch_satisfaction_score      0\n",
       "preferred_property_star      26\n",
       "no_of_trips                 140\n",
       "passport                      0\n",
       "car_owner                     0\n",
       "designation                   0\n",
       "prod_taken                    0\n",
       "dtype: int64"
      ]
     },
     "execution_count": 22,
     "metadata": {},
     "output_type": "execute_result"
    }
   ],
   "source": [
    "df_isna_sum"
   ]
  },
  {
   "cell_type": "code",
   "execution_count": 23,
   "id": "0be1db10",
   "metadata": {},
   "outputs": [],
   "source": [
    "df_isna_pct = (df_isna_sum/len(df))*100"
   ]
  },
  {
   "cell_type": "code",
   "execution_count": 24,
   "id": "85156164",
   "metadata": {},
   "outputs": [
    {
     "name": "stdout",
     "output_type": "stream",
     "text": [
      "Percentage of Missing Value by Col\n"
     ]
    },
    {
     "data": {
      "text/plain": [
       "age                         4.62\n",
       "gender                      0.00\n",
       "marital_status              0.00\n",
       "city_tier                   0.00\n",
       "occupation                  0.00\n",
       "monthly_income              4.77\n",
       "no_of_person_visiting       0.00\n",
       "no_of_children_visiting     1.35\n",
       "type_of_contact             0.51\n",
       "no_of_followups             0.92\n",
       "product_pitched             0.00\n",
       "duration_of_pitch           5.14\n",
       "pitch_satisfaction_score    0.00\n",
       "preferred_property_star     0.53\n",
       "no_of_trips                 2.86\n",
       "passport                    0.00\n",
       "car_owner                   0.00\n",
       "designation                 0.00\n",
       "prod_taken                  0.00\n",
       "dtype: float64"
      ]
     },
     "execution_count": 24,
     "metadata": {},
     "output_type": "execute_result"
    }
   ],
   "source": [
    "print('Percentage of Missing Value by Col')\n",
    "df_isna_pct.round(2)"
   ]
  },
  {
   "cell_type": "code",
   "execution_count": 25,
   "id": "de58cbf8",
   "metadata": {},
   "outputs": [
    {
     "data": {
      "text/html": [
       "<div>\n",
       "<style scoped>\n",
       "    .dataframe tbody tr th:only-of-type {\n",
       "        vertical-align: middle;\n",
       "    }\n",
       "\n",
       "    .dataframe tbody tr th {\n",
       "        vertical-align: top;\n",
       "    }\n",
       "\n",
       "    .dataframe thead th {\n",
       "        text-align: right;\n",
       "    }\n",
       "</style>\n",
       "<table border=\"1\" class=\"dataframe\">\n",
       "  <thead>\n",
       "    <tr style=\"text-align: right;\">\n",
       "      <th></th>\n",
       "      <th>age</th>\n",
       "      <th>gender</th>\n",
       "      <th>marital_status</th>\n",
       "      <th>city_tier</th>\n",
       "      <th>occupation</th>\n",
       "      <th>monthly_income</th>\n",
       "      <th>no_of_person_visiting</th>\n",
       "      <th>no_of_children_visiting</th>\n",
       "      <th>type_of_contact</th>\n",
       "      <th>no_of_followups</th>\n",
       "      <th>product_pitched</th>\n",
       "      <th>duration_of_pitch</th>\n",
       "      <th>pitch_satisfaction_score</th>\n",
       "      <th>preferred_property_star</th>\n",
       "      <th>no_of_trips</th>\n",
       "      <th>passport</th>\n",
       "      <th>car_owner</th>\n",
       "      <th>designation</th>\n",
       "      <th>prod_taken</th>\n",
       "    </tr>\n",
       "  </thead>\n",
       "  <tbody>\n",
       "    <tr>\n",
       "      <th>0</th>\n",
       "      <td>41.0</td>\n",
       "      <td>Female</td>\n",
       "      <td>Single</td>\n",
       "      <td>3</td>\n",
       "      <td>Salaried</td>\n",
       "      <td>20993.0</td>\n",
       "      <td>3</td>\n",
       "      <td>0.0</td>\n",
       "      <td>Self Enquiry</td>\n",
       "      <td>3.0</td>\n",
       "      <td>Deluxe</td>\n",
       "      <td>6.0</td>\n",
       "      <td>2</td>\n",
       "      <td>3.0</td>\n",
       "      <td>1.0</td>\n",
       "      <td>1</td>\n",
       "      <td>1</td>\n",
       "      <td>Manager</td>\n",
       "      <td>1</td>\n",
       "    </tr>\n",
       "    <tr>\n",
       "      <th>1</th>\n",
       "      <td>49.0</td>\n",
       "      <td>Male</td>\n",
       "      <td>Divorced</td>\n",
       "      <td>1</td>\n",
       "      <td>Salaried</td>\n",
       "      <td>20130.0</td>\n",
       "      <td>3</td>\n",
       "      <td>2.0</td>\n",
       "      <td>Company Invited</td>\n",
       "      <td>4.0</td>\n",
       "      <td>Deluxe</td>\n",
       "      <td>14.0</td>\n",
       "      <td>3</td>\n",
       "      <td>4.0</td>\n",
       "      <td>2.0</td>\n",
       "      <td>0</td>\n",
       "      <td>1</td>\n",
       "      <td>Manager</td>\n",
       "      <td>0</td>\n",
       "    </tr>\n",
       "    <tr>\n",
       "      <th>2</th>\n",
       "      <td>37.0</td>\n",
       "      <td>Male</td>\n",
       "      <td>Single</td>\n",
       "      <td>1</td>\n",
       "      <td>Free Lancer</td>\n",
       "      <td>17090.0</td>\n",
       "      <td>3</td>\n",
       "      <td>0.0</td>\n",
       "      <td>Self Enquiry</td>\n",
       "      <td>4.0</td>\n",
       "      <td>Basic</td>\n",
       "      <td>8.0</td>\n",
       "      <td>3</td>\n",
       "      <td>3.0</td>\n",
       "      <td>7.0</td>\n",
       "      <td>1</td>\n",
       "      <td>0</td>\n",
       "      <td>Executive</td>\n",
       "      <td>1</td>\n",
       "    </tr>\n",
       "    <tr>\n",
       "      <th>3</th>\n",
       "      <td>33.0</td>\n",
       "      <td>Female</td>\n",
       "      <td>Divorced</td>\n",
       "      <td>1</td>\n",
       "      <td>Salaried</td>\n",
       "      <td>17909.0</td>\n",
       "      <td>2</td>\n",
       "      <td>1.0</td>\n",
       "      <td>Company Invited</td>\n",
       "      <td>3.0</td>\n",
       "      <td>Basic</td>\n",
       "      <td>9.0</td>\n",
       "      <td>5</td>\n",
       "      <td>3.0</td>\n",
       "      <td>2.0</td>\n",
       "      <td>1</td>\n",
       "      <td>1</td>\n",
       "      <td>Executive</td>\n",
       "      <td>0</td>\n",
       "    </tr>\n",
       "    <tr>\n",
       "      <th>4</th>\n",
       "      <td>NaN</td>\n",
       "      <td>Male</td>\n",
       "      <td>Divorced</td>\n",
       "      <td>1</td>\n",
       "      <td>Small Business</td>\n",
       "      <td>18468.0</td>\n",
       "      <td>2</td>\n",
       "      <td>0.0</td>\n",
       "      <td>Self Enquiry</td>\n",
       "      <td>3.0</td>\n",
       "      <td>Basic</td>\n",
       "      <td>8.0</td>\n",
       "      <td>5</td>\n",
       "      <td>4.0</td>\n",
       "      <td>1.0</td>\n",
       "      <td>0</td>\n",
       "      <td>1</td>\n",
       "      <td>Executive</td>\n",
       "      <td>0</td>\n",
       "    </tr>\n",
       "  </tbody>\n",
       "</table>\n",
       "</div>"
      ],
      "text/plain": [
       "    age  gender marital_status  city_tier      occupation  monthly_income  \\\n",
       "0  41.0  Female         Single          3        Salaried         20993.0   \n",
       "1  49.0    Male       Divorced          1        Salaried         20130.0   \n",
       "2  37.0    Male         Single          1     Free Lancer         17090.0   \n",
       "3  33.0  Female       Divorced          1        Salaried         17909.0   \n",
       "4   NaN    Male       Divorced          1  Small Business         18468.0   \n",
       "\n",
       "   no_of_person_visiting  no_of_children_visiting  type_of_contact  \\\n",
       "0                      3                      0.0     Self Enquiry   \n",
       "1                      3                      2.0  Company Invited   \n",
       "2                      3                      0.0     Self Enquiry   \n",
       "3                      2                      1.0  Company Invited   \n",
       "4                      2                      0.0     Self Enquiry   \n",
       "\n",
       "   no_of_followups product_pitched  duration_of_pitch  \\\n",
       "0              3.0          Deluxe                6.0   \n",
       "1              4.0          Deluxe               14.0   \n",
       "2              4.0           Basic                8.0   \n",
       "3              3.0           Basic                9.0   \n",
       "4              3.0           Basic                8.0   \n",
       "\n",
       "   pitch_satisfaction_score  preferred_property_star  no_of_trips  passport  \\\n",
       "0                         2                      3.0          1.0         1   \n",
       "1                         3                      4.0          2.0         0   \n",
       "2                         3                      3.0          7.0         1   \n",
       "3                         5                      3.0          2.0         1   \n",
       "4                         5                      4.0          1.0         0   \n",
       "\n",
       "   car_owner designation  prod_taken  \n",
       "0          1     Manager           1  \n",
       "1          1     Manager           0  \n",
       "2          0   Executive           1  \n",
       "3          1   Executive           0  \n",
       "4          1   Executive           0  "
      ]
     },
     "execution_count": 25,
     "metadata": {},
     "output_type": "execute_result"
    }
   ],
   "source": [
    "df.head()"
   ]
  },
  {
   "cell_type": "code",
   "execution_count": 26,
   "id": "e1827828",
   "metadata": {},
   "outputs": [
    {
     "data": {
      "text/plain": [
       "age                        226\n",
       "monthly_income             233\n",
       "no_of_children_visiting     66\n",
       "type_of_contact             25\n",
       "no_of_followups             45\n",
       "duration_of_pitch          251\n",
       "preferred_property_star     26\n",
       "no_of_trips                140\n",
       "dtype: int64"
      ]
     },
     "execution_count": 26,
     "metadata": {},
     "output_type": "execute_result"
    }
   ],
   "source": [
    "df_isna_sum[df_isna_sum > 0]"
   ]
  },
  {
   "cell_type": "code",
   "execution_count": 27,
   "id": "89961872",
   "metadata": {},
   "outputs": [
    {
     "name": "stdout",
     "output_type": "stream",
     "text": [
      "                         Missing Count  Missing Percentage\n",
      "age                                226            4.623568\n",
      "monthly_income                     233            4.766776\n",
      "no_of_children_visiting             66            1.350245\n",
      "type_of_contact                     25            0.511457\n",
      "no_of_followups                     45            0.920622\n",
      "duration_of_pitch                  251            5.135025\n",
      "preferred_property_star             26            0.531915\n",
      "no_of_trips                        140            2.864157\n"
     ]
    }
   ],
   "source": [
    "# 1. Create a new DataFrame using a dictionary\n",
    "combined_missing_info = pd.DataFrame({\n",
    "    'Missing Count': df_isna_sum,\n",
    "    'Missing Percentage': df_isna_pct\n",
    "})\n",
    "\n",
    "# 2. Filter to show only columns with missing values\n",
    "combined_missing_info = combined_missing_info[combined_missing_info['Missing Count'] > 0]\n",
    "\n",
    "print(combined_missing_info)"
   ]
  },
  {
   "cell_type": "code",
   "execution_count": 28,
   "id": "d9bc4e30",
   "metadata": {},
   "outputs": [
    {
     "name": "stdout",
     "output_type": "stream",
     "text": [
      "age 4.62357 % missing value\n",
      "monthly_income 4.76678 % missing value\n",
      "no_of_children_visiting 1.35025 % missing value\n",
      "type_of_contact 0.51146 % missing value\n",
      "no_of_followups 0.92062 % missing value\n",
      "duration_of_pitch 5.13502 % missing value\n",
      "preferred_property_star 0.53191 % missing value\n",
      "no_of_trips 2.86416 % missing value\n"
     ]
    }
   ],
   "source": [
    "features_with_na = [features for features in df.columns if df[features].isna().sum()>=1]\n",
    "for feature in features_with_na:\n",
    "    print(feature, np.round(df[feature].isna().mean()*100,5), '% missing value')"
   ]
  },
  {
   "cell_type": "code",
   "execution_count": 29,
   "id": "3684a5b8",
   "metadata": {},
   "outputs": [
    {
     "data": {
      "text/html": [
       "<div>\n",
       "<style scoped>\n",
       "    .dataframe tbody tr th:only-of-type {\n",
       "        vertical-align: middle;\n",
       "    }\n",
       "\n",
       "    .dataframe tbody tr th {\n",
       "        vertical-align: top;\n",
       "    }\n",
       "\n",
       "    .dataframe thead th {\n",
       "        text-align: right;\n",
       "    }\n",
       "</style>\n",
       "<table border=\"1\" class=\"dataframe\">\n",
       "  <thead>\n",
       "    <tr style=\"text-align: right;\">\n",
       "      <th></th>\n",
       "      <th>age</th>\n",
       "      <th>monthly_income</th>\n",
       "      <th>no_of_children_visiting</th>\n",
       "      <th>no_of_followups</th>\n",
       "      <th>duration_of_pitch</th>\n",
       "      <th>preferred_property_star</th>\n",
       "      <th>no_of_trips</th>\n",
       "    </tr>\n",
       "  </thead>\n",
       "  <tbody>\n",
       "    <tr>\n",
       "      <th>count</th>\n",
       "      <td>4662.000000</td>\n",
       "      <td>4655.000000</td>\n",
       "      <td>4822.000000</td>\n",
       "      <td>4843.000000</td>\n",
       "      <td>4637.000000</td>\n",
       "      <td>4862.000000</td>\n",
       "      <td>4748.000000</td>\n",
       "    </tr>\n",
       "    <tr>\n",
       "      <th>mean</th>\n",
       "      <td>37.622265</td>\n",
       "      <td>23619.853491</td>\n",
       "      <td>1.187267</td>\n",
       "      <td>3.708445</td>\n",
       "      <td>15.490835</td>\n",
       "      <td>3.581037</td>\n",
       "      <td>3.236521</td>\n",
       "    </tr>\n",
       "    <tr>\n",
       "      <th>std</th>\n",
       "      <td>9.316387</td>\n",
       "      <td>5380.698361</td>\n",
       "      <td>0.857861</td>\n",
       "      <td>1.002509</td>\n",
       "      <td>8.519643</td>\n",
       "      <td>0.798009</td>\n",
       "      <td>1.849019</td>\n",
       "    </tr>\n",
       "    <tr>\n",
       "      <th>min</th>\n",
       "      <td>18.000000</td>\n",
       "      <td>1000.000000</td>\n",
       "      <td>0.000000</td>\n",
       "      <td>1.000000</td>\n",
       "      <td>5.000000</td>\n",
       "      <td>3.000000</td>\n",
       "      <td>1.000000</td>\n",
       "    </tr>\n",
       "    <tr>\n",
       "      <th>25%</th>\n",
       "      <td>31.000000</td>\n",
       "      <td>20346.000000</td>\n",
       "      <td>1.000000</td>\n",
       "      <td>3.000000</td>\n",
       "      <td>9.000000</td>\n",
       "      <td>3.000000</td>\n",
       "      <td>2.000000</td>\n",
       "    </tr>\n",
       "    <tr>\n",
       "      <th>50%</th>\n",
       "      <td>36.000000</td>\n",
       "      <td>22347.000000</td>\n",
       "      <td>1.000000</td>\n",
       "      <td>4.000000</td>\n",
       "      <td>13.000000</td>\n",
       "      <td>3.000000</td>\n",
       "      <td>3.000000</td>\n",
       "    </tr>\n",
       "    <tr>\n",
       "      <th>75%</th>\n",
       "      <td>44.000000</td>\n",
       "      <td>25571.000000</td>\n",
       "      <td>2.000000</td>\n",
       "      <td>4.000000</td>\n",
       "      <td>20.000000</td>\n",
       "      <td>4.000000</td>\n",
       "      <td>4.000000</td>\n",
       "    </tr>\n",
       "    <tr>\n",
       "      <th>max</th>\n",
       "      <td>61.000000</td>\n",
       "      <td>98678.000000</td>\n",
       "      <td>3.000000</td>\n",
       "      <td>6.000000</td>\n",
       "      <td>127.000000</td>\n",
       "      <td>5.000000</td>\n",
       "      <td>22.000000</td>\n",
       "    </tr>\n",
       "  </tbody>\n",
       "</table>\n",
       "</div>"
      ],
      "text/plain": [
       "               age  monthly_income  no_of_children_visiting  no_of_followups  \\\n",
       "count  4662.000000     4655.000000              4822.000000      4843.000000   \n",
       "mean     37.622265    23619.853491                 1.187267         3.708445   \n",
       "std       9.316387     5380.698361                 0.857861         1.002509   \n",
       "min      18.000000     1000.000000                 0.000000         1.000000   \n",
       "25%      31.000000    20346.000000                 1.000000         3.000000   \n",
       "50%      36.000000    22347.000000                 1.000000         4.000000   \n",
       "75%      44.000000    25571.000000                 2.000000         4.000000   \n",
       "max      61.000000    98678.000000                 3.000000         6.000000   \n",
       "\n",
       "       duration_of_pitch  preferred_property_star  no_of_trips  \n",
       "count        4637.000000              4862.000000  4748.000000  \n",
       "mean           15.490835                 3.581037     3.236521  \n",
       "std             8.519643                 0.798009     1.849019  \n",
       "min             5.000000                 3.000000     1.000000  \n",
       "25%             9.000000                 3.000000     2.000000  \n",
       "50%            13.000000                 3.000000     3.000000  \n",
       "75%            20.000000                 4.000000     4.000000  \n",
       "max           127.000000                 5.000000    22.000000  "
      ]
     },
     "execution_count": 29,
     "metadata": {},
     "output_type": "execute_result"
    }
   ],
   "source": [
    "df[features_with_na].select_dtypes(exclude='object').describe()"
   ]
  },
  {
   "cell_type": "markdown",
   "id": "a87b59a3",
   "metadata": {},
   "source": [
    "---"
   ]
  },
  {
   "cell_type": "code",
   "execution_count": 30,
   "id": "6cee1bfe",
   "metadata": {},
   "outputs": [
    {
     "data": {
      "text/plain": [
       "['age',\n",
       " 'gender',\n",
       " 'marital_status',\n",
       " 'city_tier',\n",
       " 'occupation',\n",
       " 'monthly_income',\n",
       " 'no_of_person_visiting',\n",
       " 'no_of_children_visiting',\n",
       " 'type_of_contact',\n",
       " 'no_of_followups',\n",
       " 'product_pitched',\n",
       " 'duration_of_pitch',\n",
       " 'pitch_satisfaction_score',\n",
       " 'preferred_property_star',\n",
       " 'no_of_trips',\n",
       " 'passport',\n",
       " 'car_owner',\n",
       " 'designation',\n",
       " 'prod_taken']"
      ]
     },
     "execution_count": 30,
     "metadata": {},
     "output_type": "execute_result"
    }
   ],
   "source": [
    "df.columns.tolist()"
   ]
  },
  {
   "cell_type": "markdown",
   "id": "bb599f06",
   "metadata": {},
   "source": [
    "---"
   ]
  },
  {
   "cell_type": "markdown",
   "id": "87d594fc",
   "metadata": {},
   "source": [
    "## Age"
   ]
  },
  {
   "cell_type": "code",
   "execution_count": 31,
   "id": "5ee8f460",
   "metadata": {},
   "outputs": [
    {
     "data": {
      "image/png": "[encoded data removed]",
      "text/plain": [
       "<Figure size 640x480 with 1 Axes>"
      ]
     },
     "metadata": {},
     "output_type": "display_data"
    }
   ],
   "source": [
    "sns.histplot(data=df,x='age',kde=True);"
   ]
  },
  {
   "cell_type": "code",
   "execution_count": 32,
   "id": "b316fc2c",
   "metadata": {},
   "outputs": [
    {
     "data": {
      "text/plain": [
       "np.int64(226)"
      ]
     },
     "execution_count": 32,
     "metadata": {},
     "output_type": "execute_result"
    }
   ],
   "source": [
    "df['age'].isna().sum()"
   ]
  },
  {
   "cell_type": "code",
   "execution_count": 33,
   "id": "9d62be73",
   "metadata": {},
   "outputs": [],
   "source": [
    "df['age'].fillna(df['age'].median(), inplace=True)"
   ]
  },
  {
   "cell_type": "code",
   "execution_count": 34,
   "id": "d1260199",
   "metadata": {},
   "outputs": [
    {
     "data": {
      "text/plain": [
       "np.int64(0)"
      ]
     },
     "execution_count": 34,
     "metadata": {},
     "output_type": "execute_result"
    }
   ],
   "source": [
    "df['age'].isna().sum()"
   ]
  },
  {
   "cell_type": "code",
   "execution_count": 35,
   "id": "3d6414a3",
   "metadata": {},
   "outputs": [
    {
     "data": {
      "text/plain": [
       "count    4888.000000\n",
       "mean       37.547259\n",
       "std         9.104795\n",
       "min        18.000000\n",
       "25%        31.000000\n",
       "50%        36.000000\n",
       "75%        43.000000\n",
       "max        61.000000\n",
       "Name: age, dtype: float64"
      ]
     },
     "execution_count": 35,
     "metadata": {},
     "output_type": "execute_result"
    }
   ],
   "source": [
    "df['age'].describe()"
   ]
  },
  {
   "cell_type": "code",
   "execution_count": 36,
   "id": "61cf033f",
   "metadata": {},
   "outputs": [
    {
     "data": {
      "image/png": "[encoded data removed]",
      "text/plain": [
       "<Figure size 640x480 with 1 Axes>"
      ]
     },
     "metadata": {},
     "output_type": "display_data"
    }
   ],
   "source": [
    "sns.histplot(data=df,x='age',kde=True);"
   ]
  },
  {
   "cell_type": "markdown",
   "id": "071e67a2",
   "metadata": {},
   "source": [
    "## Gender"
   ]
  },
  {
   "cell_type": "code",
   "execution_count": 37,
   "id": "40c72bd3",
   "metadata": {},
   "outputs": [
    {
     "data": {
      "text/plain": [
       "gender\n",
       "Male       2916\n",
       "Female     1817\n",
       "Fe Male     155\n",
       "Name: count, dtype: int64"
      ]
     },
     "execution_count": 37,
     "metadata": {},
     "output_type": "execute_result"
    }
   ],
   "source": [
    "df['gender'].value_counts()"
   ]
  },
  {
   "cell_type": "code",
   "execution_count": 38,
   "id": "783c9be4",
   "metadata": {},
   "outputs": [
    {
     "data": {
      "text/plain": [
       "gender\n",
       "Male      2916\n",
       "Female    1972\n",
       "Name: count, dtype: int64"
      ]
     },
     "execution_count": 38,
     "metadata": {},
     "output_type": "execute_result"
    }
   ],
   "source": [
    "df['gender'] = df['gender'].replace('Fe Male','Female')\n",
    "df['gender'].value_counts()"
   ]
  },
  {
   "cell_type": "code",
   "execution_count": 39,
   "id": "2062453d",
   "metadata": {},
   "outputs": [
    {
     "data": {
      "text/plain": [
       "<Axes: xlabel='gender', ylabel='count'>"
      ]
     },
     "execution_count": 39,
     "metadata": {},
     "output_type": "execute_result"
    },
    {
     "data": {
      "image/png": "[encoded data removed]",
      "text/plain": [
       "<Figure size 640x480 with 1 Axes>"
      ]
     },
     "metadata": {},
     "output_type": "display_data"
    }
   ],
   "source": [
    "sns.countplot(data=df, x='gender', palette='tab10')"
   ]
  },
  {
   "cell_type": "markdown",
   "id": "040efc2a",
   "metadata": {},
   "source": [
    "## Marital Status"
   ]
  },
  {
   "cell_type": "code",
   "execution_count": 40,
   "id": "ab67fea4",
   "metadata": {},
   "outputs": [
    {
     "data": {
      "text/plain": [
       "marital_status\n",
       "Married      2340\n",
       "Divorced      950\n",
       "Single        916\n",
       "Unmarried     682\n",
       "Name: count, dtype: int64"
      ]
     },
     "execution_count": 40,
     "metadata": {},
     "output_type": "execute_result"
    }
   ],
   "source": [
    "df['marital_status'].value_counts()"
   ]
  },
  {
   "cell_type": "code",
   "execution_count": 41,
   "id": "e0b529be",
   "metadata": {},
   "outputs": [
    {
     "data": {
      "text/plain": [
       "marital_status\n",
       "Married      2340\n",
       "Unmarried    1598\n",
       "Divorced      950\n",
       "Name: count, dtype: int64"
      ]
     },
     "execution_count": 41,
     "metadata": {},
     "output_type": "execute_result"
    }
   ],
   "source": [
    "df['marital_status'] = df['marital_status'].replace('Single', 'Unmarried')\n",
    "df['marital_status'].value_counts()"
   ]
  },
  {
   "cell_type": "markdown",
   "id": "825470c7",
   "metadata": {},
   "source": [
    "## City Tier"
   ]
  },
  {
   "cell_type": "code",
   "execution_count": 42,
   "id": "cc0f17ec",
   "metadata": {},
   "outputs": [
    {
     "data": {
      "text/plain": [
       "city_tier\n",
       "1    3190\n",
       "3    1500\n",
       "2     198\n",
       "Name: count, dtype: int64"
      ]
     },
     "execution_count": 42,
     "metadata": {},
     "output_type": "execute_result"
    }
   ],
   "source": [
    "df['city_tier'].value_counts()"
   ]
  },
  {
   "cell_type": "markdown",
   "id": "56bcf056",
   "metadata": {},
   "source": [
    "## Occupation"
   ]
  },
  {
   "cell_type": "code",
   "execution_count": 43,
   "id": "953118bc",
   "metadata": {},
   "outputs": [
    {
     "data": {
      "text/plain": [
       "occupation\n",
       "Salaried          2368\n",
       "Small Business    2084\n",
       "Large Business     434\n",
       "Free Lancer          2\n",
       "Name: count, dtype: int64"
      ]
     },
     "execution_count": 43,
     "metadata": {},
     "output_type": "execute_result"
    }
   ],
   "source": [
    "df['occupation'].value_counts()"
   ]
  },
  {
   "cell_type": "markdown",
   "id": "1f4e327f",
   "metadata": {},
   "source": [
    "## Monthly Income"
   ]
  },
  {
   "cell_type": "code",
   "execution_count": 44,
   "id": "379323e7",
   "metadata": {},
   "outputs": [
    {
     "data": {
      "text/plain": [
       "<Axes: xlabel='monthly_income', ylabel='Count'>"
      ]
     },
     "execution_count": 44,
     "metadata": {},
     "output_type": "execute_result"
    },
    {
     "data": {
      "image/png": "[encoded data removed]",
      "text/plain": [
       "<Figure size 640x480 with 1 Axes>"
      ]
     },
     "metadata": {},
     "output_type": "display_data"
    }
   ],
   "source": [
    "sns.histplot(data=df, x='monthly_income', kde=True)"
   ]
  },
  {
   "cell_type": "code",
   "execution_count": 45,
   "id": "48512455",
   "metadata": {},
   "outputs": [
    {
     "data": {
      "text/plain": [
       "np.int64(233)"
      ]
     },
     "execution_count": 45,
     "metadata": {},
     "output_type": "execute_result"
    }
   ],
   "source": [
    "df['monthly_income'].isna().sum()"
   ]
  },
  {
   "cell_type": "code",
   "execution_count": 46,
   "id": "7fd807f3",
   "metadata": {},
   "outputs": [],
   "source": [
    "df['monthly_income'].fillna(df['monthly_income'].median(), inplace=True)"
   ]
  },
  {
   "cell_type": "code",
   "execution_count": 47,
   "id": "fdf47e73",
   "metadata": {},
   "outputs": [
    {
     "data": {
      "text/plain": [
       "np.int64(0)"
      ]
     },
     "execution_count": 47,
     "metadata": {},
     "output_type": "execute_result"
    }
   ],
   "source": [
    "df['monthly_income'].isna().sum()"
   ]
  },
  {
   "cell_type": "markdown",
   "id": "2b24f20a",
   "metadata": {},
   "source": [
    "## No of Person Visiting"
   ]
  },
  {
   "cell_type": "code",
   "execution_count": 48,
   "id": "4ce5c648",
   "metadata": {},
   "outputs": [
    {
     "data": {
      "image/png": "[encoded data removed]",
      "text/plain": [
       "<Figure size 640x480 with 1 Axes>"
      ]
     },
     "metadata": {},
     "output_type": "display_data"
    }
   ],
   "source": [
    "sns.countplot(data=df, x='no_of_person_visiting', palette='tab10');"
   ]
  },
  {
   "cell_type": "markdown",
   "id": "63cb1357",
   "metadata": {},
   "source": [
    "## No of Children Visiting"
   ]
  },
  {
   "cell_type": "code",
   "execution_count": 50,
   "id": "ed7055fe",
   "metadata": {},
   "outputs": [
    {
     "data": {
      "text/plain": [
       "np.int64(66)"
      ]
     },
     "execution_count": 50,
     "metadata": {},
     "output_type": "execute_result"
    }
   ],
   "source": [
    "df['no_of_children_visiting'].isna().sum()"
   ]
  },
  {
   "cell_type": "code",
   "execution_count": 54,
   "id": "2bf46374",
   "metadata": {},
   "outputs": [
    {
     "data": {
      "image/png": "[encoded data removed]",
      "text/plain": [
       "<Figure size 640x480 with 1 Axes>"
      ]
     },
     "metadata": {},
     "output_type": "display_data"
    }
   ],
   "source": [
    "sns.countplot(data=df,x='no_of_children_visiting', palette='tab10');"
   ]
  },
  {
   "cell_type": "markdown",
   "id": "c2a0e161",
   "metadata": {},
   "source": [
    "# "
   ]
  },
  {
   "cell_type": "markdown",
   "id": "92b24785",
   "metadata": {},
   "source": [
    "## Type of Contact "
   ]
  },
  {
   "cell_type": "code",
   "execution_count": 55,
   "id": "36098e57",
   "metadata": {},
   "outputs": [
    {
     "data": {
      "text/plain": [
       "type_of_contact\n",
       "Self Enquiry       3444\n",
       "Company Invited    1419\n",
       "Name: count, dtype: int64"
      ]
     },
     "execution_count": 55,
     "metadata": {},
     "output_type": "execute_result"
    }
   ],
   "source": [
    "df['type_of_contact'].value_counts()"
   ]
  },
  {
   "cell_type": "code",
   "execution_count": 56,
   "id": "580a66b4",
   "metadata": {},
   "outputs": [
    {
     "data": {
      "text/plain": [
       "np.int64(25)"
      ]
     },
     "execution_count": 56,
     "metadata": {},
     "output_type": "execute_result"
    }
   ],
   "source": [
    "df['type_of_contact'].isna().sum()"
   ]
  },
  {
   "cell_type": "code",
   "execution_count": 57,
   "id": "ec14ee6b",
   "metadata": {},
   "outputs": [
    {
     "data": {
      "text/plain": [
       "0    Self Enquiry\n",
       "Name: type_of_contact, dtype: object"
      ]
     },
     "execution_count": 57,
     "metadata": {},
     "output_type": "execute_result"
    }
   ],
   "source": [
    "df['type_of_contact'].mode()"
   ]
  },
  {
   "cell_type": "code",
   "execution_count": 58,
   "id": "25e64135",
   "metadata": {},
   "outputs": [],
   "source": [
    "df['type_of_contact'].fillna(df['type_of_contact'].mode()[0], inplace=True)"
   ]
  },
  {
   "cell_type": "code",
   "execution_count": 60,
   "id": "a24b8040",
   "metadata": {},
   "outputs": [
    {
     "data": {
      "text/plain": [
       "np.int64(0)"
      ]
     },
     "execution_count": 60,
     "metadata": {},
     "output_type": "execute_result"
    }
   ],
   "source": [
    "df['type_of_contact'].isna().sum()"
   ]
  },
  {
   "cell_type": "code",
   "execution_count": 59,
   "id": "378da6db",
   "metadata": {},
   "outputs": [
    {
     "data": {
      "text/plain": [
       "type_of_contact\n",
       "Self Enquiry       3469\n",
       "Company Invited    1419\n",
       "Name: count, dtype: int64"
      ]
     },
     "execution_count": 59,
     "metadata": {},
     "output_type": "execute_result"
    }
   ],
   "source": [
    "df['type_of_contact'].value_counts()"
   ]
  },
  {
   "cell_type": "markdown",
   "id": "c53c44b5",
   "metadata": {},
   "source": [
    "## No of Followups"
   ]
  },
  {
   "cell_type": "code",
   "execution_count": 64,
   "id": "88d15aae",
   "metadata": {},
   "outputs": [
    {
     "data": {
      "text/plain": [
       "no_of_followups\n",
       "4.0    2068\n",
       "3.0    1466\n",
       "5.0     768\n",
       "2.0     229\n",
       "1.0     176\n",
       "6.0     136\n",
       "Name: count, dtype: int64"
      ]
     },
     "execution_count": 64,
     "metadata": {},
     "output_type": "execute_result"
    }
   ],
   "source": [
    "df['no_of_followups'].value_counts()"
   ]
  },
  {
   "cell_type": "code",
   "execution_count": 103,
   "id": "63d8dc98",
   "metadata": {},
   "outputs": [
    {
     "data": {
      "text/plain": [
       "dtype('float64')"
      ]
     },
     "execution_count": 103,
     "metadata": {},
     "output_type": "execute_result"
    }
   ],
   "source": [
    "df['no_of_followups'].dtype"
   ]
  },
  {
   "cell_type": "code",
   "execution_count": 106,
   "id": "704ec3e3",
   "metadata": {},
   "outputs": [],
   "source": [
    "df['no_of_followups'] = df['no_of_followups'].astype('Int64')"
   ]
  },
  {
   "cell_type": "code",
   "execution_count": 107,
   "id": "ab0180ba",
   "metadata": {},
   "outputs": [
    {
     "data": {
      "text/plain": [
       "Int64Dtype()"
      ]
     },
     "execution_count": 107,
     "metadata": {},
     "output_type": "execute_result"
    }
   ],
   "source": [
    "df['no_of_followups'].dtype"
   ]
  },
  {
   "cell_type": "code",
   "execution_count": 108,
   "id": "1f8161d3",
   "metadata": {},
   "outputs": [
    {
     "data": {
      "image/png": "[encoded data removed]",
      "text/plain": [
       "<Figure size 640x480 with 1 Axes>"
      ]
     },
     "metadata": {},
     "output_type": "display_data"
    }
   ],
   "source": [
    "sns.countplot(data=df,x='no_of_followups', palette='tab10');"
   ]
  },
  {
   "cell_type": "markdown",
   "id": "764e6b84",
   "metadata": {},
   "source": [
    "## Product Pitched"
   ]
  },
  {
   "cell_type": "code",
   "execution_count": 76,
   "id": "8f12821e",
   "metadata": {},
   "outputs": [
    {
     "data": {
      "text/plain": [
       "product_pitched\n",
       "Basic           1842\n",
       "Deluxe          1732\n",
       "Standard         742\n",
       "Super Deluxe     342\n",
       "King             230\n",
       "Name: count, dtype: int64"
      ]
     },
     "execution_count": 76,
     "metadata": {},
     "output_type": "execute_result"
    }
   ],
   "source": [
    "df['product_pitched'].value_counts()"
   ]
  },
  {
   "cell_type": "markdown",
   "id": "1d32f098",
   "metadata": {},
   "source": [
    "## Duration of Pitched"
   ]
  },
  {
   "cell_type": "code",
   "execution_count": 82,
   "id": "61bd57e5",
   "metadata": {},
   "outputs": [
    {
     "data": {
      "image/png": "[encoded data removed]",
      "text/plain": [
       "<Figure size 640x480 with 1 Axes>"
      ]
     },
     "metadata": {},
     "output_type": "display_data"
    }
   ],
   "source": [
    "sns.histplot(data=df,x='duration_of_pitch',kde=True);"
   ]
  },
  {
   "cell_type": "markdown",
   "id": "718ab605",
   "metadata": {},
   "source": [
    "## Preferred Property Star"
   ]
  },
  {
   "cell_type": "code",
   "execution_count": 84,
   "id": "bb84b276",
   "metadata": {},
   "outputs": [
    {
     "data": {
      "text/plain": [
       "np.int64(26)"
      ]
     },
     "execution_count": 84,
     "metadata": {},
     "output_type": "execute_result"
    }
   ],
   "source": [
    "df['preferred_property_star'].isna().sum()"
   ]
  },
  {
   "cell_type": "code",
   "execution_count": 86,
   "id": "e4ac1744",
   "metadata": {},
   "outputs": [],
   "source": [
    "df['preferred_property_star'].fillna(df['preferred_property_star'].mode()[0],inplace=True)"
   ]
  },
  {
   "cell_type": "code",
   "execution_count": 87,
   "id": "b1edf405",
   "metadata": {},
   "outputs": [
    {
     "data": {
      "text/plain": [
       "np.int64(0)"
      ]
     },
     "execution_count": 87,
     "metadata": {},
     "output_type": "execute_result"
    }
   ],
   "source": [
    "df['preferred_property_star'].isna().sum()"
   ]
  },
  {
   "cell_type": "code",
   "execution_count": 102,
   "id": "ee294bb2",
   "metadata": {},
   "outputs": [
    {
     "data": {
      "image/png": "[encoded data removed]",
      "text/plain": [
       "<Figure size 640x480 with 1 Axes>"
      ]
     },
     "metadata": {},
     "output_type": "display_data"
    }
   ],
   "source": [
    "sns.countplot(data=df,x='preferred_property_star',palette='tab10');"
   ]
  },
  {
   "cell_type": "markdown",
   "id": "3aa3aed4",
   "metadata": {},
   "source": [
    "## No. of Trips"
   ]
  },
  {
   "cell_type": "code",
   "execution_count": 89,
   "id": "7193ac3e",
   "metadata": {},
   "outputs": [
    {
     "data": {
      "text/plain": [
       "np.int64(140)"
      ]
     },
     "execution_count": 89,
     "metadata": {},
     "output_type": "execute_result"
    }
   ],
   "source": [
    "df['no_of_trips'].isna().sum()"
   ]
  },
  {
   "cell_type": "code",
   "execution_count": 94,
   "id": "94875278",
   "metadata": {},
   "outputs": [],
   "source": [
    "df['no_of_trips'].fillna(df['no_of_trips'].median(),inplace=True)"
   ]
  },
  {
   "cell_type": "code",
   "execution_count": 95,
   "id": "0d820195",
   "metadata": {},
   "outputs": [
    {
     "data": {
      "text/plain": [
       "np.int64(0)"
      ]
     },
     "execution_count": 95,
     "metadata": {},
     "output_type": "execute_result"
    }
   ],
   "source": [
    "df['no_of_trips'].isna().sum()"
   ]
  },
  {
   "cell_type": "code",
   "execution_count": 109,
   "id": "562a4a64",
   "metadata": {},
   "outputs": [],
   "source": [
    "df['no_of_trips'] = df['no_of_trips'].astype('Int64')"
   ]
  },
  {
   "cell_type": "code",
   "execution_count": 110,
   "id": "aaee6d99",
   "metadata": {},
   "outputs": [
    {
     "data": {
      "text/plain": [
       "Int64Dtype()"
      ]
     },
     "execution_count": 110,
     "metadata": {},
     "output_type": "execute_result"
    }
   ],
   "source": [
    "df['no_of_trips'].dtype"
   ]
  },
  {
   "cell_type": "code",
   "execution_count": 111,
   "id": "ea76656a",
   "metadata": {},
   "outputs": [
    {
     "data": {
      "image/png": "[encoded data removed]",
      "text/plain": [
       "<Figure size 640x480 with 1 Axes>"
      ]
     },
     "metadata": {},
     "output_type": "display_data"
    }
   ],
   "source": [
    "sns.countplot(data=df,x='no_of_trips',palette='tab10');"
   ]
  },
  {
   "cell_type": "markdown",
   "id": "16cbee7b",
   "metadata": {},
   "source": [
    "## Passport"
   ]
  },
  {
   "cell_type": "code",
   "execution_count": 113,
   "id": "663d8946",
   "metadata": {},
   "outputs": [
    {
     "data": {
      "text/plain": [
       "passport\n",
       "0    3466\n",
       "1    1422\n",
       "Name: count, dtype: int64"
      ]
     },
     "execution_count": 113,
     "metadata": {},
     "output_type": "execute_result"
    }
   ],
   "source": [
    "df['passport'].value_counts()"
   ]
  },
  {
   "cell_type": "markdown",
   "id": "6c11dce2",
   "metadata": {},
   "source": [
    "## Car Owner"
   ]
  },
  {
   "cell_type": "code",
   "execution_count": 115,
   "id": "90b007b9",
   "metadata": {},
   "outputs": [
    {
     "data": {
      "text/plain": [
       "car_owner\n",
       "1    3032\n",
       "0    1856\n",
       "Name: count, dtype: int64"
      ]
     },
     "execution_count": 115,
     "metadata": {},
     "output_type": "execute_result"
    }
   ],
   "source": [
    "df['car_owner'].value_counts()"
   ]
  },
  {
   "cell_type": "markdown",
   "id": "7beaf0da",
   "metadata": {},
   "source": [
    "## Designation"
   ]
  },
  {
   "cell_type": "code",
   "execution_count": 116,
   "id": "556013c3",
   "metadata": {},
   "outputs": [
    {
     "data": {
      "text/plain": [
       "designation\n",
       "Executive         1842\n",
       "Manager           1732\n",
       "Senior Manager     742\n",
       "AVP                342\n",
       "VP                 230\n",
       "Name: count, dtype: int64"
      ]
     },
     "execution_count": 116,
     "metadata": {},
     "output_type": "execute_result"
    }
   ],
   "source": [
    "df['designation'].value_counts()"
   ]
  },
  {
   "cell_type": "markdown",
   "id": "ae22d98f",
   "metadata": {},
   "source": [
    "## Prod Taken"
   ]
  },
  {
   "cell_type": "code",
   "execution_count": 117,
   "id": "9096b8c0",
   "metadata": {},
   "outputs": [
    {
     "data": {
      "text/plain": [
       "prod_taken\n",
       "0    3968\n",
       "1     920\n",
       "Name: count, dtype: int64"
      ]
     },
     "execution_count": 117,
     "metadata": {},
     "output_type": "execute_result"
    }
   ],
   "source": [
    "df['prod_taken'].value_counts()"
   ]
  },
  {
   "cell_type": "markdown",
   "id": "617d3f09",
   "metadata": {},
   "source": [
    "---"
   ]
  },
  {
   "cell_type": "code",
   "execution_count": null,
   "id": "b1ff59e9",
   "metadata": {},
   "outputs": [],
   "source": []
  },
  {
   "cell_type": "markdown",
   "id": "9513cb09",
   "metadata": {},
   "source": [
    "## "
   ]
  },
  {
   "cell_type": "markdown",
   "id": "7275a51f",
   "metadata": {},
   "source": [
    "---"
   ]
  },
  {
   "cell_type": "code",
   "execution_count": null,
   "id": "a6f48a75",
   "metadata": {},
   "outputs": [],
   "source": []
  }
 ],
 "metadata": {
  "kernelspec": {
   "display_name": "eda_env",
   "language": "python",
   "name": "python3"
  },
  "language_info": {
   "codemirror_mode": {
    "name": "ipython",
    "version": 3
   },
   "file_extension": ".py",
   "mimetype": "text/x-python",
   "name": "python",
   "nbconvert_exporter": "python",
   "pygments_lexer": "ipython3",
   "version": "3.12.11"
  }
 },
 "nbformat": 4,
 "nbformat_minor": 5
}
