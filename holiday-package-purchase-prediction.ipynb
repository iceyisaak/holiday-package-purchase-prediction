{
 "cells": [
  {
   "cell_type": "markdown",
   "id": "900b195f",
   "metadata": {},
   "source": [
    "# Holiday Package Purchase Prediction"
   ]
  },
  {
   "cell_type": "markdown",
   "id": "e4fb7981",
   "metadata": {},
   "source": [
    "###### Dataset: https://www.kaggle.com/datasets/susant4learning/holiday-package-purchase-prediction"
   ]
  },
  {
   "cell_type": "markdown",
   "id": "0fa3bb57",
   "metadata": {
    "vscode": {
     "languageId": "plaintext"
    }
   },
   "source": [
    "\"Trips & Travel.Com\" company wants to enable and establish a viable business model to expand the customer base. One of the ways to expand the customer base is to introduce a new offering of packages. Currently, there are 5 types of packages the company is offering - Basic, Standard, Deluxe, Super Deluxe, King. Looking at the data of the last year, we observed that 18% of the customers purchased the packages. \n",
    "\n",
    "However, the marketing cost was quite high because customers were contacted at random without looking at the available information. The company is now planning to launch a new product i.e. \n",
    "\n",
    "Wellness Tourism Package. Wellness Tourism is defined as Travel that allows the traveler to maintain, enhance or kick-start a healthy lifestyle, and support or increase one's sense of well-being. However, this time company wants to harness the available data of existing and potential customers to make the marketing expenditure more efficient."
   ]
  },
  {
   "cell_type": "code",
   "execution_count": 1,
   "id": "84dd3bfb",
   "metadata": {},
   "outputs": [],
   "source": [
    "import numpy as np\n",
    "import pandas as pd\n",
    "import seaborn as sns\n",
    "import matplotlib.pyplot as plt\n",
    "\n",
    "%matplotlib inline"
   ]
  },
  {
   "cell_type": "code",
   "execution_count": 2,
   "id": "00bb64e0",
   "metadata": {},
   "outputs": [],
   "source": [
    "import plotly.express as px"
   ]
  },
  {
   "cell_type": "code",
   "execution_count": 3,
   "id": "7a658aad",
   "metadata": {},
   "outputs": [],
   "source": [
    "import warnings\n",
    "warnings.filterwarnings('ignore')"
   ]
  },
  {
   "cell_type": "code",
   "execution_count": 4,
   "id": "0de4f558",
   "metadata": {},
   "outputs": [],
   "source": [
    "df0 = pd.read_csv('Travel.csv')\n",
    "df = df0.copy()"
   ]
  },
  {
   "cell_type": "code",
   "execution_count": 5,
   "id": "289e1ae2",
   "metadata": {},
   "outputs": [
    {
     "name": "stdout",
     "output_type": "stream",
     "text": [
      "<class 'pandas.core.frame.DataFrame'>\n",
      "RangeIndex: 4888 entries, 0 to 4887\n",
      "Data columns (total 20 columns):\n",
      " #   Column                    Non-Null Count  Dtype  \n",
      "---  ------                    --------------  -----  \n",
      " 0   CustomerID                4888 non-null   int64  \n",
      " 1   ProdTaken                 4888 non-null   int64  \n",
      " 2   Age                       4662 non-null   float64\n",
      " 3   TypeofContact             4863 non-null   object \n",
      " 4   CityTier                  4888 non-null   int64  \n",
      " 5   DurationOfPitch           4637 non-null   float64\n",
      " 6   Occupation                4888 non-null   object \n",
      " 7   Gender                    4888 non-null   object \n",
      " 8   NumberOfPersonVisiting    4888 non-null   int64  \n",
      " 9   NumberOfFollowups         4843 non-null   float64\n",
      " 10  ProductPitched            4888 non-null   object \n",
      " 11  PreferredPropertyStar     4862 non-null   float64\n",
      " 12  MaritalStatus             4888 non-null   object \n",
      " 13  NumberOfTrips             4748 non-null   float64\n",
      " 14  Passport                  4888 non-null   int64  \n",
      " 15  PitchSatisfactionScore    4888 non-null   int64  \n",
      " 16  OwnCar                    4888 non-null   int64  \n",
      " 17  NumberOfChildrenVisiting  4822 non-null   float64\n",
      " 18  Designation               4888 non-null   object \n",
      " 19  MonthlyIncome             4655 non-null   float64\n",
      "dtypes: float64(7), int64(7), object(6)\n",
      "memory usage: 763.9+ KB\n"
     ]
    }
   ],
   "source": [
    "df.info()"
   ]
  },
  {
   "cell_type": "code",
   "execution_count": 6,
   "id": "2e57f633",
   "metadata": {},
   "outputs": [
    {
     "data": {
      "text/html": [
       "<div>\n",
       "<style scoped>\n",
       "    .dataframe tbody tr th:only-of-type {\n",
       "        vertical-align: middle;\n",
       "    }\n",
       "\n",
       "    .dataframe tbody tr th {\n",
       "        vertical-align: top;\n",
       "    }\n",
       "\n",
       "    .dataframe thead th {\n",
       "        text-align: right;\n",
       "    }\n",
       "</style>\n",
       "<table border=\"1\" class=\"dataframe\">\n",
       "  <thead>\n",
       "    <tr style=\"text-align: right;\">\n",
       "      <th></th>\n",
       "      <th>CustomerID</th>\n",
       "      <th>ProdTaken</th>\n",
       "      <th>Age</th>\n",
       "      <th>TypeofContact</th>\n",
       "      <th>CityTier</th>\n",
       "      <th>DurationOfPitch</th>\n",
       "      <th>Occupation</th>\n",
       "      <th>Gender</th>\n",
       "      <th>NumberOfPersonVisiting</th>\n",
       "      <th>NumberOfFollowups</th>\n",
       "      <th>ProductPitched</th>\n",
       "      <th>PreferredPropertyStar</th>\n",
       "      <th>MaritalStatus</th>\n",
       "      <th>NumberOfTrips</th>\n",
       "      <th>Passport</th>\n",
       "      <th>PitchSatisfactionScore</th>\n",
       "      <th>OwnCar</th>\n",
       "      <th>NumberOfChildrenVisiting</th>\n",
       "      <th>Designation</th>\n",
       "      <th>MonthlyIncome</th>\n",
       "    </tr>\n",
       "  </thead>\n",
       "  <tbody>\n",
       "    <tr>\n",
       "      <th>0</th>\n",
       "      <td>200000</td>\n",
       "      <td>1</td>\n",
       "      <td>41.0</td>\n",
       "      <td>Self Enquiry</td>\n",
       "      <td>3</td>\n",
       "      <td>6.0</td>\n",
       "      <td>Salaried</td>\n",
       "      <td>Female</td>\n",
       "      <td>3</td>\n",
       "      <td>3.0</td>\n",
       "      <td>Deluxe</td>\n",
       "      <td>3.0</td>\n",
       "      <td>Single</td>\n",
       "      <td>1.0</td>\n",
       "      <td>1</td>\n",
       "      <td>2</td>\n",
       "      <td>1</td>\n",
       "      <td>0.0</td>\n",
       "      <td>Manager</td>\n",
       "      <td>20993.0</td>\n",
       "    </tr>\n",
       "    <tr>\n",
       "      <th>1</th>\n",
       "      <td>200001</td>\n",
       "      <td>0</td>\n",
       "      <td>49.0</td>\n",
       "      <td>Company Invited</td>\n",
       "      <td>1</td>\n",
       "      <td>14.0</td>\n",
       "      <td>Salaried</td>\n",
       "      <td>Male</td>\n",
       "      <td>3</td>\n",
       "      <td>4.0</td>\n",
       "      <td>Deluxe</td>\n",
       "      <td>4.0</td>\n",
       "      <td>Divorced</td>\n",
       "      <td>2.0</td>\n",
       "      <td>0</td>\n",
       "      <td>3</td>\n",
       "      <td>1</td>\n",
       "      <td>2.0</td>\n",
       "      <td>Manager</td>\n",
       "      <td>20130.0</td>\n",
       "    </tr>\n",
       "    <tr>\n",
       "      <th>2</th>\n",
       "      <td>200002</td>\n",
       "      <td>1</td>\n",
       "      <td>37.0</td>\n",
       "      <td>Self Enquiry</td>\n",
       "      <td>1</td>\n",
       "      <td>8.0</td>\n",
       "      <td>Free Lancer</td>\n",
       "      <td>Male</td>\n",
       "      <td>3</td>\n",
       "      <td>4.0</td>\n",
       "      <td>Basic</td>\n",
       "      <td>3.0</td>\n",
       "      <td>Single</td>\n",
       "      <td>7.0</td>\n",
       "      <td>1</td>\n",
       "      <td>3</td>\n",
       "      <td>0</td>\n",
       "      <td>0.0</td>\n",
       "      <td>Executive</td>\n",
       "      <td>17090.0</td>\n",
       "    </tr>\n",
       "    <tr>\n",
       "      <th>3</th>\n",
       "      <td>200003</td>\n",
       "      <td>0</td>\n",
       "      <td>33.0</td>\n",
       "      <td>Company Invited</td>\n",
       "      <td>1</td>\n",
       "      <td>9.0</td>\n",
       "      <td>Salaried</td>\n",
       "      <td>Female</td>\n",
       "      <td>2</td>\n",
       "      <td>3.0</td>\n",
       "      <td>Basic</td>\n",
       "      <td>3.0</td>\n",
       "      <td>Divorced</td>\n",
       "      <td>2.0</td>\n",
       "      <td>1</td>\n",
       "      <td>5</td>\n",
       "      <td>1</td>\n",
       "      <td>1.0</td>\n",
       "      <td>Executive</td>\n",
       "      <td>17909.0</td>\n",
       "    </tr>\n",
       "    <tr>\n",
       "      <th>4</th>\n",
       "      <td>200004</td>\n",
       "      <td>0</td>\n",
       "      <td>NaN</td>\n",
       "      <td>Self Enquiry</td>\n",
       "      <td>1</td>\n",
       "      <td>8.0</td>\n",
       "      <td>Small Business</td>\n",
       "      <td>Male</td>\n",
       "      <td>2</td>\n",
       "      <td>3.0</td>\n",
       "      <td>Basic</td>\n",
       "      <td>4.0</td>\n",
       "      <td>Divorced</td>\n",
       "      <td>1.0</td>\n",
       "      <td>0</td>\n",
       "      <td>5</td>\n",
       "      <td>1</td>\n",
       "      <td>0.0</td>\n",
       "      <td>Executive</td>\n",
       "      <td>18468.0</td>\n",
       "    </tr>\n",
       "  </tbody>\n",
       "</table>\n",
       "</div>"
      ],
      "text/plain": [
       "   CustomerID  ProdTaken   Age    TypeofContact  CityTier  DurationOfPitch  \\\n",
       "0      200000          1  41.0     Self Enquiry         3              6.0   \n",
       "1      200001          0  49.0  Company Invited         1             14.0   \n",
       "2      200002          1  37.0     Self Enquiry         1              8.0   \n",
       "3      200003          0  33.0  Company Invited         1              9.0   \n",
       "4      200004          0   NaN     Self Enquiry         1              8.0   \n",
       "\n",
       "       Occupation  Gender  NumberOfPersonVisiting  NumberOfFollowups  \\\n",
       "0        Salaried  Female                       3                3.0   \n",
       "1        Salaried    Male                       3                4.0   \n",
       "2     Free Lancer    Male                       3                4.0   \n",
       "3        Salaried  Female                       2                3.0   \n",
       "4  Small Business    Male                       2                3.0   \n",
       "\n",
       "  ProductPitched  PreferredPropertyStar MaritalStatus  NumberOfTrips  \\\n",
       "0         Deluxe                    3.0        Single            1.0   \n",
       "1         Deluxe                    4.0      Divorced            2.0   \n",
       "2          Basic                    3.0        Single            7.0   \n",
       "3          Basic                    3.0      Divorced            2.0   \n",
       "4          Basic                    4.0      Divorced            1.0   \n",
       "\n",
       "   Passport  PitchSatisfactionScore  OwnCar  NumberOfChildrenVisiting  \\\n",
       "0         1                       2       1                       0.0   \n",
       "1         0                       3       1                       2.0   \n",
       "2         1                       3       0                       0.0   \n",
       "3         1                       5       1                       1.0   \n",
       "4         0                       5       1                       0.0   \n",
       "\n",
       "  Designation  MonthlyIncome  \n",
       "0     Manager        20993.0  \n",
       "1     Manager        20130.0  \n",
       "2   Executive        17090.0  \n",
       "3   Executive        17909.0  \n",
       "4   Executive        18468.0  "
      ]
     },
     "execution_count": 6,
     "metadata": {},
     "output_type": "execute_result"
    }
   ],
   "source": [
    "df.head()"
   ]
  },
  {
   "cell_type": "markdown",
   "id": "bc4e9b49",
   "metadata": {},
   "source": [
    "# Data Cleaning"
   ]
  },
  {
   "cell_type": "markdown",
   "id": "57c49ef1",
   "metadata": {},
   "source": [
    "### Rename Columns"
   ]
  },
  {
   "cell_type": "code",
   "execution_count": 7,
   "id": "8be4d923",
   "metadata": {},
   "outputs": [
    {
     "data": {
      "text/plain": [
       "['CustomerID',\n",
       " 'ProdTaken',\n",
       " 'Age',\n",
       " 'TypeofContact',\n",
       " 'CityTier',\n",
       " 'DurationOfPitch',\n",
       " 'Occupation',\n",
       " 'Gender',\n",
       " 'NumberOfPersonVisiting',\n",
       " 'NumberOfFollowups',\n",
       " 'ProductPitched',\n",
       " 'PreferredPropertyStar',\n",
       " 'MaritalStatus',\n",
       " 'NumberOfTrips',\n",
       " 'Passport',\n",
       " 'PitchSatisfactionScore',\n",
       " 'OwnCar',\n",
       " 'NumberOfChildrenVisiting',\n",
       " 'Designation',\n",
       " 'MonthlyIncome']"
      ]
     },
     "execution_count": 7,
     "metadata": {},
     "output_type": "execute_result"
    }
   ],
   "source": [
    "df.columns.tolist()"
   ]
  },
  {
   "cell_type": "code",
   "execution_count": 8,
   "id": "7f72924a",
   "metadata": {},
   "outputs": [],
   "source": [
    "cols_to_rename = {\n",
    "    'CustomerID':'customer_id',\n",
    "    'ProdTaken':'prod_taken',\n",
    "    'TypeofContact':'type_of_contact',\n",
    "    'CityTier':'city_tier',\n",
    "    'DurationOfPitch':'duration_of_pitch',\n",
    "    'NumberOfPersonVisiting':'no_of_person_visiting',\n",
    "    'NumberOfFollowups':'no_of_followups',\n",
    "    'ProductPitched':'product_pitched',\n",
    "    'PreferredPropertyStar':'preferred_property_star',\n",
    "    'MaritalStatus':'marital_status',\n",
    "    'NumberOfTrips':'no_of_trips',\n",
    "    'PitchSatisfactionScore':'pitch_satisfaction_score',\n",
    "    'OwnCar':'car_owner',\n",
    "    'NumberOfChildrenVisiting':'no_of_children_visiting',\n",
    "    'MonthlyIncome':'monthly_income'\n",
    "}"
   ]
  },
  {
   "cell_type": "code",
   "execution_count": 9,
   "id": "11ad37e6",
   "metadata": {},
   "outputs": [],
   "source": [
    "df = df.rename(columns=cols_to_rename)"
   ]
  },
  {
   "cell_type": "code",
   "execution_count": 10,
   "id": "16d0fa95",
   "metadata": {},
   "outputs": [
    {
     "data": {
      "text/plain": [
       "['customer_id',\n",
       " 'prod_taken',\n",
       " 'Age',\n",
       " 'type_of_contact',\n",
       " 'city_tier',\n",
       " 'duration_of_pitch',\n",
       " 'Occupation',\n",
       " 'Gender',\n",
       " 'no_of_person_visiting',\n",
       " 'no_of_followups',\n",
       " 'product_pitched',\n",
       " 'preferred_property_star',\n",
       " 'marital_status',\n",
       " 'no_of_trips',\n",
       " 'Passport',\n",
       " 'pitch_satisfaction_score',\n",
       " 'car_owner',\n",
       " 'no_of_children_visiting',\n",
       " 'Designation',\n",
       " 'monthly_income']"
      ]
     },
     "execution_count": 10,
     "metadata": {},
     "output_type": "execute_result"
    }
   ],
   "source": [
    "df.columns.tolist()"
   ]
  },
  {
   "cell_type": "markdown",
   "id": "4587194e",
   "metadata": {},
   "source": [
    "### Convert Columns to Lower Case"
   ]
  },
  {
   "cell_type": "code",
   "execution_count": 11,
   "id": "32a57aa9",
   "metadata": {},
   "outputs": [],
   "source": [
    "df.columns = df.columns.str.lower()"
   ]
  },
  {
   "cell_type": "code",
   "execution_count": 12,
   "id": "d2f16151",
   "metadata": {},
   "outputs": [
    {
     "data": {
      "text/plain": [
       "Index(['customer_id', 'prod_taken', 'age', 'type_of_contact', 'city_tier',\n",
       "       'duration_of_pitch', 'occupation', 'gender', 'no_of_person_visiting',\n",
       "       'no_of_followups', 'product_pitched', 'preferred_property_star',\n",
       "       'marital_status', 'no_of_trips', 'passport', 'pitch_satisfaction_score',\n",
       "       'car_owner', 'no_of_children_visiting', 'designation',\n",
       "       'monthly_income'],\n",
       "      dtype='object')"
      ]
     },
     "execution_count": 12,
     "metadata": {},
     "output_type": "execute_result"
    }
   ],
   "source": [
    "df.columns"
   ]
  },
  {
   "cell_type": "code",
   "execution_count": 13,
   "id": "edde8c3b",
   "metadata": {},
   "outputs": [
    {
     "name": "stdout",
     "output_type": "stream",
     "text": [
      "<class 'pandas.core.frame.DataFrame'>\n",
      "RangeIndex: 4888 entries, 0 to 4887\n",
      "Data columns (total 20 columns):\n",
      " #   Column                    Non-Null Count  Dtype  \n",
      "---  ------                    --------------  -----  \n",
      " 0   customer_id               4888 non-null   int64  \n",
      " 1   prod_taken                4888 non-null   int64  \n",
      " 2   age                       4662 non-null   float64\n",
      " 3   type_of_contact           4863 non-null   object \n",
      " 4   city_tier                 4888 non-null   int64  \n",
      " 5   duration_of_pitch         4637 non-null   float64\n",
      " 6   occupation                4888 non-null   object \n",
      " 7   gender                    4888 non-null   object \n",
      " 8   no_of_person_visiting     4888 non-null   int64  \n",
      " 9   no_of_followups           4843 non-null   float64\n",
      " 10  product_pitched           4888 non-null   object \n",
      " 11  preferred_property_star   4862 non-null   float64\n",
      " 12  marital_status            4888 non-null   object \n",
      " 13  no_of_trips               4748 non-null   float64\n",
      " 14  passport                  4888 non-null   int64  \n",
      " 15  pitch_satisfaction_score  4888 non-null   int64  \n",
      " 16  car_owner                 4888 non-null   int64  \n",
      " 17  no_of_children_visiting   4822 non-null   float64\n",
      " 18  designation               4888 non-null   object \n",
      " 19  monthly_income            4655 non-null   float64\n",
      "dtypes: float64(7), int64(7), object(6)\n",
      "memory usage: 763.9+ KB\n"
     ]
    }
   ],
   "source": [
    "df.info()"
   ]
  },
  {
   "cell_type": "markdown",
   "id": "21e3e061",
   "metadata": {},
   "source": [
    "### Resequence Columns"
   ]
  },
  {
   "cell_type": "code",
   "execution_count": 14,
   "id": "ec8884ad",
   "metadata": {},
   "outputs": [
    {
     "data": {
      "text/plain": [
       "['customer_id',\n",
       " 'prod_taken',\n",
       " 'age',\n",
       " 'type_of_contact',\n",
       " 'city_tier',\n",
       " 'duration_of_pitch',\n",
       " 'occupation',\n",
       " 'gender',\n",
       " 'no_of_person_visiting',\n",
       " 'no_of_followups',\n",
       " 'product_pitched',\n",
       " 'preferred_property_star',\n",
       " 'marital_status',\n",
       " 'no_of_trips',\n",
       " 'passport',\n",
       " 'pitch_satisfaction_score',\n",
       " 'car_owner',\n",
       " 'no_of_children_visiting',\n",
       " 'designation',\n",
       " 'monthly_income']"
      ]
     },
     "execution_count": 14,
     "metadata": {},
     "output_type": "execute_result"
    }
   ],
   "source": [
    "df.columns.tolist()"
   ]
  },
  {
   "cell_type": "code",
   "execution_count": 15,
   "id": "c7854123",
   "metadata": {},
   "outputs": [],
   "source": [
    "col_sequence = [\n",
    " 'customer_id',\n",
    " 'age',\n",
    " 'gender',\n",
    " 'marital_status',\n",
    " 'city_tier',\n",
    " 'occupation',\n",
    " 'monthly_income',\n",
    " 'no_of_person_visiting',\n",
    " 'no_of_children_visiting',\n",
    " 'type_of_contact',\n",
    " 'no_of_followups',\n",
    " 'product_pitched',\n",
    " 'duration_of_pitch',\n",
    " 'pitch_satisfaction_score',\n",
    " 'preferred_property_star',\n",
    " 'no_of_trips',\n",
    " 'passport',\n",
    " 'car_owner',\n",
    " 'designation',\n",
    " 'prod_taken'\n",
    "]"
   ]
  },
  {
   "cell_type": "code",
   "execution_count": 16,
   "id": "eeb674b3",
   "metadata": {},
   "outputs": [],
   "source": [
    "df = df[col_sequence]"
   ]
  },
  {
   "cell_type": "code",
   "execution_count": 17,
   "id": "1c4c4aea",
   "metadata": {},
   "outputs": [
    {
     "data": {
      "text/plain": [
       "['customer_id',\n",
       " 'age',\n",
       " 'gender',\n",
       " 'marital_status',\n",
       " 'city_tier',\n",
       " 'occupation',\n",
       " 'monthly_income',\n",
       " 'no_of_person_visiting',\n",
       " 'no_of_children_visiting',\n",
       " 'type_of_contact',\n",
       " 'no_of_followups',\n",
       " 'product_pitched',\n",
       " 'duration_of_pitch',\n",
       " 'pitch_satisfaction_score',\n",
       " 'preferred_property_star',\n",
       " 'no_of_trips',\n",
       " 'passport',\n",
       " 'car_owner',\n",
       " 'designation',\n",
       " 'prod_taken']"
      ]
     },
     "execution_count": 17,
     "metadata": {},
     "output_type": "execute_result"
    }
   ],
   "source": [
    "df.columns.tolist()"
   ]
  },
  {
   "cell_type": "code",
   "execution_count": 18,
   "id": "b0a8e7c6",
   "metadata": {},
   "outputs": [
    {
     "name": "stdout",
     "output_type": "stream",
     "text": [
      "<class 'pandas.core.frame.DataFrame'>\n",
      "RangeIndex: 4888 entries, 0 to 4887\n",
      "Data columns (total 20 columns):\n",
      " #   Column                    Non-Null Count  Dtype  \n",
      "---  ------                    --------------  -----  \n",
      " 0   customer_id               4888 non-null   int64  \n",
      " 1   age                       4662 non-null   float64\n",
      " 2   gender                    4888 non-null   object \n",
      " 3   marital_status            4888 non-null   object \n",
      " 4   city_tier                 4888 non-null   int64  \n",
      " 5   occupation                4888 non-null   object \n",
      " 6   monthly_income            4655 non-null   float64\n",
      " 7   no_of_person_visiting     4888 non-null   int64  \n",
      " 8   no_of_children_visiting   4822 non-null   float64\n",
      " 9   type_of_contact           4863 non-null   object \n",
      " 10  no_of_followups           4843 non-null   float64\n",
      " 11  product_pitched           4888 non-null   object \n",
      " 12  duration_of_pitch         4637 non-null   float64\n",
      " 13  pitch_satisfaction_score  4888 non-null   int64  \n",
      " 14  preferred_property_star   4862 non-null   float64\n",
      " 15  no_of_trips               4748 non-null   float64\n",
      " 16  passport                  4888 non-null   int64  \n",
      " 17  car_owner                 4888 non-null   int64  \n",
      " 18  designation               4888 non-null   object \n",
      " 19  prod_taken                4888 non-null   int64  \n",
      "dtypes: float64(7), int64(7), object(6)\n",
      "memory usage: 763.9+ KB\n"
     ]
    }
   ],
   "source": [
    "df.info()"
   ]
  },
  {
   "cell_type": "markdown",
   "id": "db73301a",
   "metadata": {},
   "source": [
    "---"
   ]
  },
  {
   "cell_type": "markdown",
   "id": "66b4c06c",
   "metadata": {},
   "source": [
    "## Customer ID"
   ]
  },
  {
   "cell_type": "code",
   "execution_count": 19,
   "id": "b1d04134",
   "metadata": {},
   "outputs": [],
   "source": [
    "df = df.drop('customer_id', axis=1)"
   ]
  },
  {
   "cell_type": "code",
   "execution_count": 20,
   "id": "7efe7d0b",
   "metadata": {},
   "outputs": [
    {
     "data": {
      "text/plain": [
       "['age',\n",
       " 'gender',\n",
       " 'marital_status',\n",
       " 'city_tier',\n",
       " 'occupation',\n",
       " 'monthly_income',\n",
       " 'no_of_person_visiting',\n",
       " 'no_of_children_visiting',\n",
       " 'type_of_contact',\n",
       " 'no_of_followups',\n",
       " 'product_pitched',\n",
       " 'duration_of_pitch',\n",
       " 'pitch_satisfaction_score',\n",
       " 'preferred_property_star',\n",
       " 'no_of_trips',\n",
       " 'passport',\n",
       " 'car_owner',\n",
       " 'designation',\n",
       " 'prod_taken']"
      ]
     },
     "execution_count": 20,
     "metadata": {},
     "output_type": "execute_result"
    }
   ],
   "source": [
    "df.columns.tolist()"
   ]
  },
  {
   "cell_type": "markdown",
   "id": "7eb33a68",
   "metadata": {},
   "source": [
    "---"
   ]
  },
  {
   "cell_type": "markdown",
   "id": "799a39ff",
   "metadata": {},
   "source": [
    "# Handle Missing Values"
   ]
  },
  {
   "cell_type": "code",
   "execution_count": 21,
   "id": "7dcf00d5",
   "metadata": {},
   "outputs": [],
   "source": [
    "df_isna_sum = df.isna().sum()"
   ]
  },
  {
   "cell_type": "code",
   "execution_count": 22,
   "id": "f8e7dee7",
   "metadata": {},
   "outputs": [
    {
     "data": {
      "text/plain": [
       "age                         226\n",
       "gender                        0\n",
       "marital_status                0\n",
       "city_tier                     0\n",
       "occupation                    0\n",
       "monthly_income              233\n",
       "no_of_person_visiting         0\n",
       "no_of_children_visiting      66\n",
       "type_of_contact              25\n",
       "no_of_followups              45\n",
       "product_pitched               0\n",
       "duration_of_pitch           251\n",
       "pitch_satisfaction_score      0\n",
       "preferred_property_star      26\n",
       "no_of_trips                 140\n",
       "passport                      0\n",
       "car_owner                     0\n",
       "designation                   0\n",
       "prod_taken                    0\n",
       "dtype: int64"
      ]
     },
     "execution_count": 22,
     "metadata": {},
     "output_type": "execute_result"
    }
   ],
   "source": [
    "df_isna_sum"
   ]
  },
  {
   "cell_type": "code",
   "execution_count": 23,
   "id": "0be1db10",
   "metadata": {},
   "outputs": [],
   "source": [
    "df_isna_pct = (df_isna_sum/len(df))*100"
   ]
  },
  {
   "cell_type": "code",
   "execution_count": 24,
   "id": "85156164",
   "metadata": {},
   "outputs": [
    {
     "name": "stdout",
     "output_type": "stream",
     "text": [
      "Percentage of Missing Value by Col\n"
     ]
    },
    {
     "data": {
      "text/plain": [
       "age                         4.62\n",
       "gender                      0.00\n",
       "marital_status              0.00\n",
       "city_tier                   0.00\n",
       "occupation                  0.00\n",
       "monthly_income              4.77\n",
       "no_of_person_visiting       0.00\n",
       "no_of_children_visiting     1.35\n",
       "type_of_contact             0.51\n",
       "no_of_followups             0.92\n",
       "product_pitched             0.00\n",
       "duration_of_pitch           5.14\n",
       "pitch_satisfaction_score    0.00\n",
       "preferred_property_star     0.53\n",
       "no_of_trips                 2.86\n",
       "passport                    0.00\n",
       "car_owner                   0.00\n",
       "designation                 0.00\n",
       "prod_taken                  0.00\n",
       "dtype: float64"
      ]
     },
     "execution_count": 24,
     "metadata": {},
     "output_type": "execute_result"
    }
   ],
   "source": [
    "print('Percentage of Missing Value by Col')\n",
    "df_isna_pct.round(2)"
   ]
  },
  {
   "cell_type": "code",
   "execution_count": 25,
   "id": "de58cbf8",
   "metadata": {},
   "outputs": [
    {
     "data": {
      "text/html": [
       "<div>\n",
       "<style scoped>\n",
       "    .dataframe tbody tr th:only-of-type {\n",
       "        vertical-align: middle;\n",
       "    }\n",
       "\n",
       "    .dataframe tbody tr th {\n",
       "        vertical-align: top;\n",
       "    }\n",
       "\n",
       "    .dataframe thead th {\n",
       "        text-align: right;\n",
       "    }\n",
       "</style>\n",
       "<table border=\"1\" class=\"dataframe\">\n",
       "  <thead>\n",
       "    <tr style=\"text-align: right;\">\n",
       "      <th></th>\n",
       "      <th>age</th>\n",
       "      <th>gender</th>\n",
       "      <th>marital_status</th>\n",
       "      <th>city_tier</th>\n",
       "      <th>occupation</th>\n",
       "      <th>monthly_income</th>\n",
       "      <th>no_of_person_visiting</th>\n",
       "      <th>no_of_children_visiting</th>\n",
       "      <th>type_of_contact</th>\n",
       "      <th>no_of_followups</th>\n",
       "      <th>product_pitched</th>\n",
       "      <th>duration_of_pitch</th>\n",
       "      <th>pitch_satisfaction_score</th>\n",
       "      <th>preferred_property_star</th>\n",
       "      <th>no_of_trips</th>\n",
       "      <th>passport</th>\n",
       "      <th>car_owner</th>\n",
       "      <th>designation</th>\n",
       "      <th>prod_taken</th>\n",
       "    </tr>\n",
       "  </thead>\n",
       "  <tbody>\n",
       "    <tr>\n",
       "      <th>0</th>\n",
       "      <td>41.0</td>\n",
       "      <td>Female</td>\n",
       "      <td>Single</td>\n",
       "      <td>3</td>\n",
       "      <td>Salaried</td>\n",
       "      <td>20993.0</td>\n",
       "      <td>3</td>\n",
       "      <td>0.0</td>\n",
       "      <td>Self Enquiry</td>\n",
       "      <td>3.0</td>\n",
       "      <td>Deluxe</td>\n",
       "      <td>6.0</td>\n",
       "      <td>2</td>\n",
       "      <td>3.0</td>\n",
       "      <td>1.0</td>\n",
       "      <td>1</td>\n",
       "      <td>1</td>\n",
       "      <td>Manager</td>\n",
       "      <td>1</td>\n",
       "    </tr>\n",
       "    <tr>\n",
       "      <th>1</th>\n",
       "      <td>49.0</td>\n",
       "      <td>Male</td>\n",
       "      <td>Divorced</td>\n",
       "      <td>1</td>\n",
       "      <td>Salaried</td>\n",
       "      <td>20130.0</td>\n",
       "      <td>3</td>\n",
       "      <td>2.0</td>\n",
       "      <td>Company Invited</td>\n",
       "      <td>4.0</td>\n",
       "      <td>Deluxe</td>\n",
       "      <td>14.0</td>\n",
       "      <td>3</td>\n",
       "      <td>4.0</td>\n",
       "      <td>2.0</td>\n",
       "      <td>0</td>\n",
       "      <td>1</td>\n",
       "      <td>Manager</td>\n",
       "      <td>0</td>\n",
       "    </tr>\n",
       "    <tr>\n",
       "      <th>2</th>\n",
       "      <td>37.0</td>\n",
       "      <td>Male</td>\n",
       "      <td>Single</td>\n",
       "      <td>1</td>\n",
       "      <td>Free Lancer</td>\n",
       "      <td>17090.0</td>\n",
       "      <td>3</td>\n",
       "      <td>0.0</td>\n",
       "      <td>Self Enquiry</td>\n",
       "      <td>4.0</td>\n",
       "      <td>Basic</td>\n",
       "      <td>8.0</td>\n",
       "      <td>3</td>\n",
       "      <td>3.0</td>\n",
       "      <td>7.0</td>\n",
       "      <td>1</td>\n",
       "      <td>0</td>\n",
       "      <td>Executive</td>\n",
       "      <td>1</td>\n",
       "    </tr>\n",
       "    <tr>\n",
       "      <th>3</th>\n",
       "      <td>33.0</td>\n",
       "      <td>Female</td>\n",
       "      <td>Divorced</td>\n",
       "      <td>1</td>\n",
       "      <td>Salaried</td>\n",
       "      <td>17909.0</td>\n",
       "      <td>2</td>\n",
       "      <td>1.0</td>\n",
       "      <td>Company Invited</td>\n",
       "      <td>3.0</td>\n",
       "      <td>Basic</td>\n",
       "      <td>9.0</td>\n",
       "      <td>5</td>\n",
       "      <td>3.0</td>\n",
       "      <td>2.0</td>\n",
       "      <td>1</td>\n",
       "      <td>1</td>\n",
       "      <td>Executive</td>\n",
       "      <td>0</td>\n",
       "    </tr>\n",
       "    <tr>\n",
       "      <th>4</th>\n",
       "      <td>NaN</td>\n",
       "      <td>Male</td>\n",
       "      <td>Divorced</td>\n",
       "      <td>1</td>\n",
       "      <td>Small Business</td>\n",
       "      <td>18468.0</td>\n",
       "      <td>2</td>\n",
       "      <td>0.0</td>\n",
       "      <td>Self Enquiry</td>\n",
       "      <td>3.0</td>\n",
       "      <td>Basic</td>\n",
       "      <td>8.0</td>\n",
       "      <td>5</td>\n",
       "      <td>4.0</td>\n",
       "      <td>1.0</td>\n",
       "      <td>0</td>\n",
       "      <td>1</td>\n",
       "      <td>Executive</td>\n",
       "      <td>0</td>\n",
       "    </tr>\n",
       "  </tbody>\n",
       "</table>\n",
       "</div>"
      ],
      "text/plain": [
       "    age  gender marital_status  city_tier      occupation  monthly_income  \\\n",
       "0  41.0  Female         Single          3        Salaried         20993.0   \n",
       "1  49.0    Male       Divorced          1        Salaried         20130.0   \n",
       "2  37.0    Male         Single          1     Free Lancer         17090.0   \n",
       "3  33.0  Female       Divorced          1        Salaried         17909.0   \n",
       "4   NaN    Male       Divorced          1  Small Business         18468.0   \n",
       "\n",
       "   no_of_person_visiting  no_of_children_visiting  type_of_contact  \\\n",
       "0                      3                      0.0     Self Enquiry   \n",
       "1                      3                      2.0  Company Invited   \n",
       "2                      3                      0.0     Self Enquiry   \n",
       "3                      2                      1.0  Company Invited   \n",
       "4                      2                      0.0     Self Enquiry   \n",
       "\n",
       "   no_of_followups product_pitched  duration_of_pitch  \\\n",
       "0              3.0          Deluxe                6.0   \n",
       "1              4.0          Deluxe               14.0   \n",
       "2              4.0           Basic                8.0   \n",
       "3              3.0           Basic                9.0   \n",
       "4              3.0           Basic                8.0   \n",
       "\n",
       "   pitch_satisfaction_score  preferred_property_star  no_of_trips  passport  \\\n",
       "0                         2                      3.0          1.0         1   \n",
       "1                         3                      4.0          2.0         0   \n",
       "2                         3                      3.0          7.0         1   \n",
       "3                         5                      3.0          2.0         1   \n",
       "4                         5                      4.0          1.0         0   \n",
       "\n",
       "   car_owner designation  prod_taken  \n",
       "0          1     Manager           1  \n",
       "1          1     Manager           0  \n",
       "2          0   Executive           1  \n",
       "3          1   Executive           0  \n",
       "4          1   Executive           0  "
      ]
     },
     "execution_count": 25,
     "metadata": {},
     "output_type": "execute_result"
    }
   ],
   "source": [
    "df.head()"
   ]
  },
  {
   "cell_type": "code",
   "execution_count": 26,
   "id": "e1827828",
   "metadata": {},
   "outputs": [
    {
     "data": {
      "text/plain": [
       "age                        226\n",
       "monthly_income             233\n",
       "no_of_children_visiting     66\n",
       "type_of_contact             25\n",
       "no_of_followups             45\n",
       "duration_of_pitch          251\n",
       "preferred_property_star     26\n",
       "no_of_trips                140\n",
       "dtype: int64"
      ]
     },
     "execution_count": 26,
     "metadata": {},
     "output_type": "execute_result"
    }
   ],
   "source": [
    "df_isna_sum[df_isna_sum > 0]"
   ]
  },
  {
   "cell_type": "code",
   "execution_count": 27,
   "id": "89961872",
   "metadata": {},
   "outputs": [
    {
     "name": "stdout",
     "output_type": "stream",
     "text": [
      "                         Missing Count  Missing Percentage\n",
      "age                                226            4.623568\n",
      "monthly_income                     233            4.766776\n",
      "no_of_children_visiting             66            1.350245\n",
      "type_of_contact                     25            0.511457\n",
      "no_of_followups                     45            0.920622\n",
      "duration_of_pitch                  251            5.135025\n",
      "preferred_property_star             26            0.531915\n",
      "no_of_trips                        140            2.864157\n"
     ]
    }
   ],
   "source": [
    "# 1. Create a new DataFrame using a dictionary\n",
    "combined_missing_info = pd.DataFrame({\n",
    "    'Missing Count': df_isna_sum,\n",
    "    'Missing Percentage': df_isna_pct\n",
    "})\n",
    "\n",
    "# 2. Filter to show only columns with missing values\n",
    "combined_missing_info = combined_missing_info[combined_missing_info['Missing Count'] > 0]\n",
    "\n",
    "print(combined_missing_info)"
   ]
  },
  {
   "cell_type": "code",
   "execution_count": 28,
   "id": "d9bc4e30",
   "metadata": {},
   "outputs": [
    {
     "name": "stdout",
     "output_type": "stream",
     "text": [
      "age 4.62357 % missing value\n",
      "monthly_income 4.76678 % missing value\n",
      "no_of_children_visiting 1.35025 % missing value\n",
      "type_of_contact 0.51146 % missing value\n",
      "no_of_followups 0.92062 % missing value\n",
      "duration_of_pitch 5.13502 % missing value\n",
      "preferred_property_star 0.53191 % missing value\n",
      "no_of_trips 2.86416 % missing value\n"
     ]
    }
   ],
   "source": [
    "features_with_na = [features for features in df.columns if df[features].isna().sum()>=1]\n",
    "for feature in features_with_na:\n",
    "    print(feature, np.round(df[feature].isna().mean()*100,5), '% missing value')"
   ]
  },
  {
   "cell_type": "code",
   "execution_count": 29,
   "id": "3684a5b8",
   "metadata": {},
   "outputs": [
    {
     "data": {
      "text/html": [
       "<div>\n",
       "<style scoped>\n",
       "    .dataframe tbody tr th:only-of-type {\n",
       "        vertical-align: middle;\n",
       "    }\n",
       "\n",
       "    .dataframe tbody tr th {\n",
       "        vertical-align: top;\n",
       "    }\n",
       "\n",
       "    .dataframe thead th {\n",
       "        text-align: right;\n",
       "    }\n",
       "</style>\n",
       "<table border=\"1\" class=\"dataframe\">\n",
       "  <thead>\n",
       "    <tr style=\"text-align: right;\">\n",
       "      <th></th>\n",
       "      <th>age</th>\n",
       "      <th>monthly_income</th>\n",
       "      <th>no_of_children_visiting</th>\n",
       "      <th>no_of_followups</th>\n",
       "      <th>duration_of_pitch</th>\n",
       "      <th>preferred_property_star</th>\n",
       "      <th>no_of_trips</th>\n",
       "    </tr>\n",
       "  </thead>\n",
       "  <tbody>\n",
       "    <tr>\n",
       "      <th>count</th>\n",
       "      <td>4662.000000</td>\n",
       "      <td>4655.000000</td>\n",
       "      <td>4822.000000</td>\n",
       "      <td>4843.000000</td>\n",
       "      <td>4637.000000</td>\n",
       "      <td>4862.000000</td>\n",
       "      <td>4748.000000</td>\n",
       "    </tr>\n",
       "    <tr>\n",
       "      <th>mean</th>\n",
       "      <td>37.622265</td>\n",
       "      <td>23619.853491</td>\n",
       "      <td>1.187267</td>\n",
       "      <td>3.708445</td>\n",
       "      <td>15.490835</td>\n",
       "      <td>3.581037</td>\n",
       "      <td>3.236521</td>\n",
       "    </tr>\n",
       "    <tr>\n",
       "      <th>std</th>\n",
       "      <td>9.316387</td>\n",
       "      <td>5380.698361</td>\n",
       "      <td>0.857861</td>\n",
       "      <td>1.002509</td>\n",
       "      <td>8.519643</td>\n",
       "      <td>0.798009</td>\n",
       "      <td>1.849019</td>\n",
       "    </tr>\n",
       "    <tr>\n",
       "      <th>min</th>\n",
       "      <td>18.000000</td>\n",
       "      <td>1000.000000</td>\n",
       "      <td>0.000000</td>\n",
       "      <td>1.000000</td>\n",
       "      <td>5.000000</td>\n",
       "      <td>3.000000</td>\n",
       "      <td>1.000000</td>\n",
       "    </tr>\n",
       "    <tr>\n",
       "      <th>25%</th>\n",
       "      <td>31.000000</td>\n",
       "      <td>20346.000000</td>\n",
       "      <td>1.000000</td>\n",
       "      <td>3.000000</td>\n",
       "      <td>9.000000</td>\n",
       "      <td>3.000000</td>\n",
       "      <td>2.000000</td>\n",
       "    </tr>\n",
       "    <tr>\n",
       "      <th>50%</th>\n",
       "      <td>36.000000</td>\n",
       "      <td>22347.000000</td>\n",
       "      <td>1.000000</td>\n",
       "      <td>4.000000</td>\n",
       "      <td>13.000000</td>\n",
       "      <td>3.000000</td>\n",
       "      <td>3.000000</td>\n",
       "    </tr>\n",
       "    <tr>\n",
       "      <th>75%</th>\n",
       "      <td>44.000000</td>\n",
       "      <td>25571.000000</td>\n",
       "      <td>2.000000</td>\n",
       "      <td>4.000000</td>\n",
       "      <td>20.000000</td>\n",
       "      <td>4.000000</td>\n",
       "      <td>4.000000</td>\n",
       "    </tr>\n",
       "    <tr>\n",
       "      <th>max</th>\n",
       "      <td>61.000000</td>\n",
       "      <td>98678.000000</td>\n",
       "      <td>3.000000</td>\n",
       "      <td>6.000000</td>\n",
       "      <td>127.000000</td>\n",
       "      <td>5.000000</td>\n",
       "      <td>22.000000</td>\n",
       "    </tr>\n",
       "  </tbody>\n",
       "</table>\n",
       "</div>"
      ],
      "text/plain": [
       "               age  monthly_income  no_of_children_visiting  no_of_followups  \\\n",
       "count  4662.000000     4655.000000              4822.000000      4843.000000   \n",
       "mean     37.622265    23619.853491                 1.187267         3.708445   \n",
       "std       9.316387     5380.698361                 0.857861         1.002509   \n",
       "min      18.000000     1000.000000                 0.000000         1.000000   \n",
       "25%      31.000000    20346.000000                 1.000000         3.000000   \n",
       "50%      36.000000    22347.000000                 1.000000         4.000000   \n",
       "75%      44.000000    25571.000000                 2.000000         4.000000   \n",
       "max      61.000000    98678.000000                 3.000000         6.000000   \n",
       "\n",
       "       duration_of_pitch  preferred_property_star  no_of_trips  \n",
       "count        4637.000000              4862.000000  4748.000000  \n",
       "mean           15.490835                 3.581037     3.236521  \n",
       "std             8.519643                 0.798009     1.849019  \n",
       "min             5.000000                 3.000000     1.000000  \n",
       "25%             9.000000                 3.000000     2.000000  \n",
       "50%            13.000000                 3.000000     3.000000  \n",
       "75%            20.000000                 4.000000     4.000000  \n",
       "max           127.000000                 5.000000    22.000000  "
      ]
     },
     "execution_count": 29,
     "metadata": {},
     "output_type": "execute_result"
    }
   ],
   "source": [
    "df[features_with_na].select_dtypes(exclude='object').describe()"
   ]
  },
  {
   "cell_type": "markdown",
   "id": "a87b59a3",
   "metadata": {},
   "source": [
    "---"
   ]
  },
  {
   "cell_type": "code",
   "execution_count": 30,
   "id": "6cee1bfe",
   "metadata": {},
   "outputs": [
    {
     "data": {
      "text/plain": [
       "['age',\n",
       " 'gender',\n",
       " 'marital_status',\n",
       " 'city_tier',\n",
       " 'occupation',\n",
       " 'monthly_income',\n",
       " 'no_of_person_visiting',\n",
       " 'no_of_children_visiting',\n",
       " 'type_of_contact',\n",
       " 'no_of_followups',\n",
       " 'product_pitched',\n",
       " 'duration_of_pitch',\n",
       " 'pitch_satisfaction_score',\n",
       " 'preferred_property_star',\n",
       " 'no_of_trips',\n",
       " 'passport',\n",
       " 'car_owner',\n",
       " 'designation',\n",
       " 'prod_taken']"
      ]
     },
     "execution_count": 30,
     "metadata": {},
     "output_type": "execute_result"
    }
   ],
   "source": [
    "df.columns.tolist()"
   ]
  },
  {
   "cell_type": "markdown",
   "id": "bb599f06",
   "metadata": {},
   "source": [
    "---"
   ]
  },
  {
   "cell_type": "markdown",
   "id": "87d594fc",
   "metadata": {},
   "source": [
    "## Age"
   ]
  },
  {
   "cell_type": "code",
   "execution_count": 31,
   "id": "5ee8f460",
   "metadata": {},
   "outputs": [
    {
     "data": {
      "image/png": "[encoded data removed]",
      "text/plain": [
       "<Figure size 640x480 with 1 Axes>"
      ]
     },
     "metadata": {},
     "output_type": "display_data"
    }
   ],
   "source": [
    "sns.histplot(data=df,x='age',kde=True);"
   ]
  },
  {
   "cell_type": "code",
   "execution_count": 32,
   "id": "b316fc2c",
   "metadata": {},
   "outputs": [
    {
     "data": {
      "text/plain": [
       "np.int64(226)"
      ]
     },
     "execution_count": 32,
     "metadata": {},
     "output_type": "execute_result"
    }
   ],
   "source": [
    "df['age'].isna().sum()"
   ]
  },
  {
   "cell_type": "code",
   "execution_count": 33,
   "id": "9d62be73",
   "metadata": {},
   "outputs": [],
   "source": [
    "df['age'].fillna(df['age'].median(), inplace=True)"
   ]
  },
  {
   "cell_type": "code",
   "execution_count": 34,
   "id": "d1260199",
   "metadata": {},
   "outputs": [
    {
     "data": {
      "text/plain": [
       "np.int64(0)"
      ]
     },
     "execution_count": 34,
     "metadata": {},
     "output_type": "execute_result"
    }
   ],
   "source": [
    "df['age'].isna().sum()"
   ]
  },
  {
   "cell_type": "code",
   "execution_count": 35,
   "id": "3d6414a3",
   "metadata": {},
   "outputs": [
    {
     "data": {
      "text/plain": [
       "count    4888.000000\n",
       "mean       37.547259\n",
       "std         9.104795\n",
       "min        18.000000\n",
       "25%        31.000000\n",
       "50%        36.000000\n",
       "75%        43.000000\n",
       "max        61.000000\n",
       "Name: age, dtype: float64"
      ]
     },
     "execution_count": 35,
     "metadata": {},
     "output_type": "execute_result"
    }
   ],
   "source": [
    "df['age'].describe()"
   ]
  },
  {
   "cell_type": "code",
   "execution_count": 36,
   "id": "a38b710c",
   "metadata": {},
   "outputs": [
    {
     "data": {
      "text/plain": [
       "dtype('float64')"
      ]
     },
     "execution_count": 36,
     "metadata": {},
     "output_type": "execute_result"
    }
   ],
   "source": [
    "df['age'].dtype"
   ]
  },
  {
   "cell_type": "code",
   "execution_count": 37,
   "id": "966a3739",
   "metadata": {},
   "outputs": [],
   "source": [
    "df['age'] = df['age'].astype('Int64')"
   ]
  },
  {
   "cell_type": "code",
   "execution_count": 38,
   "id": "d56f36e2",
   "metadata": {},
   "outputs": [
    {
     "data": {
      "text/plain": [
       "Int64Dtype()"
      ]
     },
     "execution_count": 38,
     "metadata": {},
     "output_type": "execute_result"
    }
   ],
   "source": [
    "df['age'].dtype"
   ]
  },
  {
   "cell_type": "code",
   "execution_count": 39,
   "id": "61cf033f",
   "metadata": {},
   "outputs": [
    {
     "data": {
      "image/png": "[encoded data removed]",
      "text/plain": [
       "<Figure size 640x480 with 1 Axes>"
      ]
     },
     "metadata": {},
     "output_type": "display_data"
    }
   ],
   "source": [
    "sns.histplot(data=df,x='age',kde=True);"
   ]
  },
  {
   "cell_type": "markdown",
   "id": "071e67a2",
   "metadata": {},
   "source": [
    "## Gender"
   ]
  },
  {
   "cell_type": "code",
   "execution_count": 40,
   "id": "40c72bd3",
   "metadata": {},
   "outputs": [
    {
     "data": {
      "text/plain": [
       "gender\n",
       "Male       2916\n",
       "Female     1817\n",
       "Fe Male     155\n",
       "Name: count, dtype: int64"
      ]
     },
     "execution_count": 40,
     "metadata": {},
     "output_type": "execute_result"
    }
   ],
   "source": [
    "df['gender'].value_counts()"
   ]
  },
  {
   "cell_type": "code",
   "execution_count": 41,
   "id": "783c9be4",
   "metadata": {},
   "outputs": [
    {
     "data": {
      "text/plain": [
       "gender\n",
       "Male      2916\n",
       "Female    1972\n",
       "Name: count, dtype: int64"
      ]
     },
     "execution_count": 41,
     "metadata": {},
     "output_type": "execute_result"
    }
   ],
   "source": [
    "df['gender'] = df['gender'].replace('Fe Male','Female')\n",
    "df['gender'].value_counts()"
   ]
  },
  {
   "cell_type": "code",
   "execution_count": 42,
   "id": "2062453d",
   "metadata": {},
   "outputs": [
    {
     "data": {
      "image/png": "[encoded data removed]",
      "text/plain": [
       "<Figure size 640x480 with 1 Axes>"
      ]
     },
     "metadata": {},
     "output_type": "display_data"
    }
   ],
   "source": [
    "sns.countplot(data=df, x='gender', palette='tab10');"
   ]
  },
  {
   "cell_type": "markdown",
   "id": "040efc2a",
   "metadata": {},
   "source": [
    "## Marital Status"
   ]
  },
  {
   "cell_type": "code",
   "execution_count": 43,
   "id": "ab67fea4",
   "metadata": {},
   "outputs": [
    {
     "data": {
      "text/plain": [
       "marital_status\n",
       "Married      2340\n",
       "Divorced      950\n",
       "Single        916\n",
       "Unmarried     682\n",
       "Name: count, dtype: int64"
      ]
     },
     "execution_count": 43,
     "metadata": {},
     "output_type": "execute_result"
    }
   ],
   "source": [
    "df['marital_status'].value_counts()"
   ]
  },
  {
   "cell_type": "code",
   "execution_count": 44,
   "id": "e0b529be",
   "metadata": {},
   "outputs": [
    {
     "data": {
      "text/plain": [
       "marital_status\n",
       "Married      2340\n",
       "Unmarried    1598\n",
       "Divorced      950\n",
       "Name: count, dtype: int64"
      ]
     },
     "execution_count": 44,
     "metadata": {},
     "output_type": "execute_result"
    }
   ],
   "source": [
    "df['marital_status'] = df['marital_status'].replace('Single', 'Unmarried')\n",
    "df['marital_status'].value_counts()"
   ]
  },
  {
   "cell_type": "markdown",
   "id": "825470c7",
   "metadata": {},
   "source": [
    "## City Tier"
   ]
  },
  {
   "cell_type": "code",
   "execution_count": 45,
   "id": "cc0f17ec",
   "metadata": {},
   "outputs": [
    {
     "data": {
      "text/plain": [
       "city_tier\n",
       "1    3190\n",
       "3    1500\n",
       "2     198\n",
       "Name: count, dtype: int64"
      ]
     },
     "execution_count": 45,
     "metadata": {},
     "output_type": "execute_result"
    }
   ],
   "source": [
    "df['city_tier'].value_counts()"
   ]
  },
  {
   "cell_type": "markdown",
   "id": "56bcf056",
   "metadata": {},
   "source": [
    "## Occupation"
   ]
  },
  {
   "cell_type": "code",
   "execution_count": 46,
   "id": "953118bc",
   "metadata": {},
   "outputs": [
    {
     "data": {
      "text/plain": [
       "occupation\n",
       "Salaried          2368\n",
       "Small Business    2084\n",
       "Large Business     434\n",
       "Free Lancer          2\n",
       "Name: count, dtype: int64"
      ]
     },
     "execution_count": 46,
     "metadata": {},
     "output_type": "execute_result"
    }
   ],
   "source": [
    "df['occupation'].value_counts()"
   ]
  },
  {
   "cell_type": "markdown",
   "id": "1f4e327f",
   "metadata": {},
   "source": [
    "## Monthly Income"
   ]
  },
  {
   "cell_type": "code",
   "execution_count": 47,
   "id": "379323e7",
   "metadata": {},
   "outputs": [
    {
     "data": {
      "image/png": "[encoded data removed]",
      "text/plain": [
       "<Figure size 640x480 with 1 Axes>"
      ]
     },
     "metadata": {},
     "output_type": "display_data"
    }
   ],
   "source": [
    "sns.histplot(data=df, x='monthly_income', kde=True);"
   ]
  },
  {
   "cell_type": "code",
   "execution_count": 48,
   "id": "48512455",
   "metadata": {},
   "outputs": [
    {
     "data": {
      "text/plain": [
       "np.int64(233)"
      ]
     },
     "execution_count": 48,
     "metadata": {},
     "output_type": "execute_result"
    }
   ],
   "source": [
    "df['monthly_income'].isna().sum()"
   ]
  },
  {
   "cell_type": "code",
   "execution_count": 49,
   "id": "7fd807f3",
   "metadata": {},
   "outputs": [],
   "source": [
    "df['monthly_income'].fillna(df['monthly_income'].median(), inplace=True)"
   ]
  },
  {
   "cell_type": "code",
   "execution_count": 50,
   "id": "fdf47e73",
   "metadata": {},
   "outputs": [
    {
     "data": {
      "text/plain": [
       "np.int64(0)"
      ]
     },
     "execution_count": 50,
     "metadata": {},
     "output_type": "execute_result"
    }
   ],
   "source": [
    "df['monthly_income'].isna().sum()"
   ]
  },
  {
   "cell_type": "markdown",
   "id": "2b24f20a",
   "metadata": {},
   "source": [
    "## No of Person Visiting"
   ]
  },
  {
   "cell_type": "code",
   "execution_count": 51,
   "id": "4ce5c648",
   "metadata": {},
   "outputs": [
    {
     "data": {
      "image/png": "[encoded data removed]",
      "text/plain": [
       "<Figure size 640x480 with 1 Axes>"
      ]
     },
     "metadata": {},
     "output_type": "display_data"
    }
   ],
   "source": [
    "sns.countplot(data=df, x='no_of_person_visiting', palette='tab10');"
   ]
  },
  {
   "cell_type": "markdown",
   "id": "63cb1357",
   "metadata": {},
   "source": [
    "## No of Children Visiting"
   ]
  },
  {
   "cell_type": "code",
   "execution_count": 52,
   "id": "ed7055fe",
   "metadata": {},
   "outputs": [
    {
     "data": {
      "text/plain": [
       "np.int64(66)"
      ]
     },
     "execution_count": 52,
     "metadata": {},
     "output_type": "execute_result"
    }
   ],
   "source": [
    "df['no_of_children_visiting'].isna().sum()"
   ]
  },
  {
   "cell_type": "code",
   "execution_count": 53,
   "id": "0f768826",
   "metadata": {},
   "outputs": [
    {
     "data": {
      "text/plain": [
       "dtype('float64')"
      ]
     },
     "execution_count": 53,
     "metadata": {},
     "output_type": "execute_result"
    }
   ],
   "source": [
    "df['no_of_children_visiting'].dtype"
   ]
  },
  {
   "cell_type": "code",
   "execution_count": 54,
   "id": "f9b33056",
   "metadata": {},
   "outputs": [],
   "source": [
    "df['no_of_children_visiting'] = df['no_of_children_visiting'].astype('Int64')"
   ]
  },
  {
   "cell_type": "code",
   "execution_count": 55,
   "id": "c685f7f9",
   "metadata": {},
   "outputs": [
    {
     "data": {
      "text/plain": [
       "Int64Dtype()"
      ]
     },
     "execution_count": 55,
     "metadata": {},
     "output_type": "execute_result"
    }
   ],
   "source": [
    "df['no_of_children_visiting'].dtype"
   ]
  },
  {
   "cell_type": "code",
   "execution_count": 56,
   "id": "8d59e29b",
   "metadata": {},
   "outputs": [],
   "source": [
    "df['no_of_children_visiting'].fillna(df['no_of_children_visiting'].mode()[0], inplace=True)"
   ]
  },
  {
   "cell_type": "code",
   "execution_count": 57,
   "id": "532341b6",
   "metadata": {},
   "outputs": [
    {
     "data": {
      "text/plain": [
       "np.int64(0)"
      ]
     },
     "execution_count": 57,
     "metadata": {},
     "output_type": "execute_result"
    }
   ],
   "source": [
    "df['no_of_children_visiting'].isna().sum()"
   ]
  },
  {
   "cell_type": "code",
   "execution_count": 58,
   "id": "2bf46374",
   "metadata": {},
   "outputs": [
    {
     "data": {
      "image/png": "[encoded data removed]",
      "text/plain": [
       "<Figure size 640x480 with 1 Axes>"
      ]
     },
     "metadata": {},
     "output_type": "display_data"
    }
   ],
   "source": [
    "sns.countplot(data=df,x='no_of_children_visiting', palette='tab10');"
   ]
  },
  {
   "cell_type": "markdown",
   "id": "c2a0e161",
   "metadata": {},
   "source": [
    "# "
   ]
  },
  {
   "cell_type": "markdown",
   "id": "92b24785",
   "metadata": {},
   "source": [
    "## Type of Contact "
   ]
  },
  {
   "cell_type": "code",
   "execution_count": 59,
   "id": "36098e57",
   "metadata": {},
   "outputs": [
    {
     "data": {
      "text/plain": [
       "type_of_contact\n",
       "Self Enquiry       3444\n",
       "Company Invited    1419\n",
       "Name: count, dtype: int64"
      ]
     },
     "execution_count": 59,
     "metadata": {},
     "output_type": "execute_result"
    }
   ],
   "source": [
    "df['type_of_contact'].value_counts()"
   ]
  },
  {
   "cell_type": "code",
   "execution_count": 60,
   "id": "580a66b4",
   "metadata": {},
   "outputs": [
    {
     "data": {
      "text/plain": [
       "np.int64(25)"
      ]
     },
     "execution_count": 60,
     "metadata": {},
     "output_type": "execute_result"
    }
   ],
   "source": [
    "df['type_of_contact'].isna().sum()"
   ]
  },
  {
   "cell_type": "code",
   "execution_count": 61,
   "id": "ec14ee6b",
   "metadata": {},
   "outputs": [
    {
     "data": {
      "text/plain": [
       "0    Self Enquiry\n",
       "Name: type_of_contact, dtype: object"
      ]
     },
     "execution_count": 61,
     "metadata": {},
     "output_type": "execute_result"
    }
   ],
   "source": [
    "df['type_of_contact'].mode()"
   ]
  },
  {
   "cell_type": "code",
   "execution_count": 62,
   "id": "25e64135",
   "metadata": {},
   "outputs": [],
   "source": [
    "df['type_of_contact'].fillna(df['type_of_contact'].mode()[0], inplace=True)"
   ]
  },
  {
   "cell_type": "code",
   "execution_count": 63,
   "id": "a24b8040",
   "metadata": {},
   "outputs": [
    {
     "data": {
      "text/plain": [
       "np.int64(0)"
      ]
     },
     "execution_count": 63,
     "metadata": {},
     "output_type": "execute_result"
    }
   ],
   "source": [
    "df['type_of_contact'].isna().sum()"
   ]
  },
  {
   "cell_type": "code",
   "execution_count": 64,
   "id": "378da6db",
   "metadata": {},
   "outputs": [
    {
     "data": {
      "text/plain": [
       "type_of_contact\n",
       "Self Enquiry       3469\n",
       "Company Invited    1419\n",
       "Name: count, dtype: int64"
      ]
     },
     "execution_count": 64,
     "metadata": {},
     "output_type": "execute_result"
    }
   ],
   "source": [
    "df['type_of_contact'].value_counts()"
   ]
  },
  {
   "cell_type": "markdown",
   "id": "c53c44b5",
   "metadata": {},
   "source": [
    "## No of Followups"
   ]
  },
  {
   "cell_type": "code",
   "execution_count": 65,
   "id": "88d15aae",
   "metadata": {},
   "outputs": [
    {
     "data": {
      "text/plain": [
       "no_of_followups\n",
       "4.0    2068\n",
       "3.0    1466\n",
       "5.0     768\n",
       "2.0     229\n",
       "1.0     176\n",
       "6.0     136\n",
       "Name: count, dtype: int64"
      ]
     },
     "execution_count": 65,
     "metadata": {},
     "output_type": "execute_result"
    }
   ],
   "source": [
    "df['no_of_followups'].value_counts()"
   ]
  },
  {
   "cell_type": "code",
   "execution_count": 66,
   "id": "63d8dc98",
   "metadata": {},
   "outputs": [
    {
     "data": {
      "text/plain": [
       "dtype('float64')"
      ]
     },
     "execution_count": 66,
     "metadata": {},
     "output_type": "execute_result"
    }
   ],
   "source": [
    "df['no_of_followups'].dtype"
   ]
  },
  {
   "cell_type": "code",
   "execution_count": 67,
   "id": "704ec3e3",
   "metadata": {},
   "outputs": [],
   "source": [
    "df['no_of_followups'] = df['no_of_followups'].astype('Int64')"
   ]
  },
  {
   "cell_type": "code",
   "execution_count": 68,
   "id": "ab0180ba",
   "metadata": {},
   "outputs": [
    {
     "data": {
      "text/plain": [
       "Int64Dtype()"
      ]
     },
     "execution_count": 68,
     "metadata": {},
     "output_type": "execute_result"
    }
   ],
   "source": [
    "df['no_of_followups'].dtype"
   ]
  },
  {
   "cell_type": "code",
   "execution_count": 69,
   "id": "fb5d23e8",
   "metadata": {},
   "outputs": [
    {
     "data": {
      "text/plain": [
       "np.int64(45)"
      ]
     },
     "execution_count": 69,
     "metadata": {},
     "output_type": "execute_result"
    }
   ],
   "source": [
    "df['no_of_followups'].isna().sum()"
   ]
  },
  {
   "cell_type": "code",
   "execution_count": 70,
   "id": "9ee20c0a",
   "metadata": {},
   "outputs": [],
   "source": [
    "df['no_of_followups'].fillna(df['no_of_followups'].mode()[0], inplace=True)"
   ]
  },
  {
   "cell_type": "code",
   "execution_count": 71,
   "id": "1f8161d3",
   "metadata": {},
   "outputs": [
    {
     "data": {
      "image/png": "[encoded data removed]",
      "text/plain": [
       "<Figure size 640x480 with 1 Axes>"
      ]
     },
     "metadata": {},
     "output_type": "display_data"
    }
   ],
   "source": [
    "sns.countplot(data=df,x='no_of_followups', palette='tab10');"
   ]
  },
  {
   "cell_type": "markdown",
   "id": "764e6b84",
   "metadata": {},
   "source": [
    "## Product Pitched"
   ]
  },
  {
   "cell_type": "code",
   "execution_count": 72,
   "id": "8f12821e",
   "metadata": {},
   "outputs": [
    {
     "data": {
      "text/plain": [
       "product_pitched\n",
       "Basic           1842\n",
       "Deluxe          1732\n",
       "Standard         742\n",
       "Super Deluxe     342\n",
       "King             230\n",
       "Name: count, dtype: int64"
      ]
     },
     "execution_count": 72,
     "metadata": {},
     "output_type": "execute_result"
    }
   ],
   "source": [
    "df['product_pitched'].value_counts()"
   ]
  },
  {
   "cell_type": "markdown",
   "id": "1d32f098",
   "metadata": {},
   "source": [
    "## Duration of Pitched"
   ]
  },
  {
   "cell_type": "code",
   "execution_count": 73,
   "id": "1ec9edd9",
   "metadata": {},
   "outputs": [
    {
     "data": {
      "text/plain": [
       "np.int64(251)"
      ]
     },
     "execution_count": 73,
     "metadata": {},
     "output_type": "execute_result"
    }
   ],
   "source": [
    "df['duration_of_pitch'].isna().sum()"
   ]
  },
  {
   "cell_type": "code",
   "execution_count": 74,
   "id": "ea2f6837",
   "metadata": {},
   "outputs": [],
   "source": [
    "df['duration_of_pitch'].fillna(df['duration_of_pitch'].median(), inplace=True)"
   ]
  },
  {
   "cell_type": "code",
   "execution_count": 75,
   "id": "d66ba44a",
   "metadata": {},
   "outputs": [
    {
     "data": {
      "text/plain": [
       "np.int64(0)"
      ]
     },
     "execution_count": 75,
     "metadata": {},
     "output_type": "execute_result"
    }
   ],
   "source": [
    "df['duration_of_pitch'].isna().sum()"
   ]
  },
  {
   "cell_type": "code",
   "execution_count": 76,
   "id": "61bd57e5",
   "metadata": {},
   "outputs": [
    {
     "data": {
      "image/png": "[encoded data removed]",
      "text/plain": [
       "<Figure size 640x480 with 1 Axes>"
      ]
     },
     "metadata": {},
     "output_type": "display_data"
    }
   ],
   "source": [
    "sns.histplot(data=df,x='duration_of_pitch',kde=True);"
   ]
  },
  {
   "cell_type": "markdown",
   "id": "718ab605",
   "metadata": {},
   "source": [
    "## Preferred Property Star"
   ]
  },
  {
   "cell_type": "code",
   "execution_count": 77,
   "id": "bb84b276",
   "metadata": {},
   "outputs": [
    {
     "data": {
      "text/plain": [
       "np.int64(26)"
      ]
     },
     "execution_count": 77,
     "metadata": {},
     "output_type": "execute_result"
    }
   ],
   "source": [
    "df['preferred_property_star'].isna().sum()"
   ]
  },
  {
   "cell_type": "code",
   "execution_count": 78,
   "id": "e4ac1744",
   "metadata": {},
   "outputs": [],
   "source": [
    "df['preferred_property_star'].fillna(df['preferred_property_star'].mode()[0],inplace=True)"
   ]
  },
  {
   "cell_type": "code",
   "execution_count": 79,
   "id": "b1edf405",
   "metadata": {},
   "outputs": [
    {
     "data": {
      "text/plain": [
       "np.int64(0)"
      ]
     },
     "execution_count": 79,
     "metadata": {},
     "output_type": "execute_result"
    }
   ],
   "source": [
    "df['preferred_property_star'].isna().sum()"
   ]
  },
  {
   "cell_type": "code",
   "execution_count": 80,
   "id": "ee294bb2",
   "metadata": {},
   "outputs": [
    {
     "data": {
      "image/png": "[encoded data removed]",
      "text/plain": [
       "<Figure size 640x480 with 1 Axes>"
      ]
     },
     "metadata": {},
     "output_type": "display_data"
    }
   ],
   "source": [
    "sns.countplot(data=df,x='preferred_property_star',palette='tab10');"
   ]
  },
  {
   "cell_type": "markdown",
   "id": "3aa3aed4",
   "metadata": {},
   "source": [
    "## No. of Trips"
   ]
  },
  {
   "cell_type": "code",
   "execution_count": 81,
   "id": "7193ac3e",
   "metadata": {},
   "outputs": [
    {
     "data": {
      "text/plain": [
       "np.int64(140)"
      ]
     },
     "execution_count": 81,
     "metadata": {},
     "output_type": "execute_result"
    }
   ],
   "source": [
    "df['no_of_trips'].isna().sum()"
   ]
  },
  {
   "cell_type": "code",
   "execution_count": 82,
   "id": "94875278",
   "metadata": {},
   "outputs": [],
   "source": [
    "df['no_of_trips'].fillna(df['no_of_trips'].median(),inplace=True)"
   ]
  },
  {
   "cell_type": "code",
   "execution_count": 83,
   "id": "0d820195",
   "metadata": {},
   "outputs": [
    {
     "data": {
      "text/plain": [
       "np.int64(0)"
      ]
     },
     "execution_count": 83,
     "metadata": {},
     "output_type": "execute_result"
    }
   ],
   "source": [
    "df['no_of_trips'].isna().sum()"
   ]
  },
  {
   "cell_type": "code",
   "execution_count": 84,
   "id": "562a4a64",
   "metadata": {},
   "outputs": [],
   "source": [
    "df['no_of_trips'] = df['no_of_trips'].astype('Int64')"
   ]
  },
  {
   "cell_type": "code",
   "execution_count": 85,
   "id": "aaee6d99",
   "metadata": {},
   "outputs": [
    {
     "data": {
      "text/plain": [
       "Int64Dtype()"
      ]
     },
     "execution_count": 85,
     "metadata": {},
     "output_type": "execute_result"
    }
   ],
   "source": [
    "df['no_of_trips'].dtype"
   ]
  },
  {
   "cell_type": "code",
   "execution_count": 86,
   "id": "e15f1c1b",
   "metadata": {},
   "outputs": [
    {
     "data": {
      "text/plain": [
       "np.int64(0)"
      ]
     },
     "execution_count": 86,
     "metadata": {},
     "output_type": "execute_result"
    }
   ],
   "source": [
    "df['preferred_property_star'].isna().sum()"
   ]
  },
  {
   "cell_type": "code",
   "execution_count": 87,
   "id": "ea76656a",
   "metadata": {},
   "outputs": [
    {
     "data": {
      "image/png": "[encoded data removed]",
      "text/plain": [
       "<Figure size 640x480 with 1 Axes>"
      ]
     },
     "metadata": {},
     "output_type": "display_data"
    }
   ],
   "source": [
    "sns.countplot(data=df,x='no_of_trips',palette='tab10');"
   ]
  },
  {
   "cell_type": "markdown",
   "id": "16cbee7b",
   "metadata": {},
   "source": [
    "## Passport"
   ]
  },
  {
   "cell_type": "code",
   "execution_count": 88,
   "id": "663d8946",
   "metadata": {},
   "outputs": [
    {
     "data": {
      "text/plain": [
       "passport\n",
       "0    3466\n",
       "1    1422\n",
       "Name: count, dtype: int64"
      ]
     },
     "execution_count": 88,
     "metadata": {},
     "output_type": "execute_result"
    }
   ],
   "source": [
    "df['passport'].value_counts()"
   ]
  },
  {
   "cell_type": "markdown",
   "id": "6c11dce2",
   "metadata": {},
   "source": [
    "## Car Owner"
   ]
  },
  {
   "cell_type": "code",
   "execution_count": 89,
   "id": "90b007b9",
   "metadata": {},
   "outputs": [
    {
     "data": {
      "text/plain": [
       "car_owner\n",
       "1    3032\n",
       "0    1856\n",
       "Name: count, dtype: int64"
      ]
     },
     "execution_count": 89,
     "metadata": {},
     "output_type": "execute_result"
    }
   ],
   "source": [
    "df['car_owner'].value_counts()"
   ]
  },
  {
   "cell_type": "markdown",
   "id": "7beaf0da",
   "metadata": {},
   "source": [
    "## Designation"
   ]
  },
  {
   "cell_type": "code",
   "execution_count": 90,
   "id": "556013c3",
   "metadata": {},
   "outputs": [
    {
     "data": {
      "text/plain": [
       "designation\n",
       "Executive         1842\n",
       "Manager           1732\n",
       "Senior Manager     742\n",
       "AVP                342\n",
       "VP                 230\n",
       "Name: count, dtype: int64"
      ]
     },
     "execution_count": 90,
     "metadata": {},
     "output_type": "execute_result"
    }
   ],
   "source": [
    "df['designation'].value_counts()"
   ]
  },
  {
   "cell_type": "markdown",
   "id": "ae22d98f",
   "metadata": {},
   "source": [
    "## Prod Taken"
   ]
  },
  {
   "cell_type": "code",
   "execution_count": 91,
   "id": "9096b8c0",
   "metadata": {},
   "outputs": [
    {
     "data": {
      "text/plain": [
       "prod_taken\n",
       "0    3968\n",
       "1     920\n",
       "Name: count, dtype: int64"
      ]
     },
     "execution_count": 91,
     "metadata": {},
     "output_type": "execute_result"
    }
   ],
   "source": [
    "df['prod_taken'].value_counts()"
   ]
  },
  {
   "cell_type": "markdown",
   "id": "617d3f09",
   "metadata": {},
   "source": [
    "---"
   ]
  },
  {
   "cell_type": "code",
   "execution_count": 92,
   "id": "5af77832",
   "metadata": {},
   "outputs": [
    {
     "data": {
      "text/plain": [
       "age                         0\n",
       "gender                      0\n",
       "marital_status              0\n",
       "city_tier                   0\n",
       "occupation                  0\n",
       "monthly_income              0\n",
       "no_of_person_visiting       0\n",
       "no_of_children_visiting     0\n",
       "type_of_contact             0\n",
       "no_of_followups             0\n",
       "product_pitched             0\n",
       "duration_of_pitch           0\n",
       "pitch_satisfaction_score    0\n",
       "preferred_property_star     0\n",
       "no_of_trips                 0\n",
       "passport                    0\n",
       "car_owner                   0\n",
       "designation                 0\n",
       "prod_taken                  0\n",
       "dtype: int64"
      ]
     },
     "execution_count": 92,
     "metadata": {},
     "output_type": "execute_result"
    }
   ],
   "source": [
    "df.isna().sum()"
   ]
  },
  {
   "cell_type": "markdown",
   "id": "ac5a54ac",
   "metadata": {},
   "source": [
    "---"
   ]
  },
  {
   "cell_type": "markdown",
   "id": "f7d46643",
   "metadata": {},
   "source": [
    "---"
   ]
  },
  {
   "cell_type": "markdown",
   "id": "1fbddc9c",
   "metadata": {},
   "source": [
    "# Feature Engineering"
   ]
  },
  {
   "cell_type": "code",
   "execution_count": 93,
   "id": "b1ff59e9",
   "metadata": {},
   "outputs": [
    {
     "data": {
      "text/html": [
       "<div>\n",
       "<style scoped>\n",
       "    .dataframe tbody tr th:only-of-type {\n",
       "        vertical-align: middle;\n",
       "    }\n",
       "\n",
       "    .dataframe tbody tr th {\n",
       "        vertical-align: top;\n",
       "    }\n",
       "\n",
       "    .dataframe thead th {\n",
       "        text-align: right;\n",
       "    }\n",
       "</style>\n",
       "<table border=\"1\" class=\"dataframe\">\n",
       "  <thead>\n",
       "    <tr style=\"text-align: right;\">\n",
       "      <th></th>\n",
       "      <th>age</th>\n",
       "      <th>gender</th>\n",
       "      <th>marital_status</th>\n",
       "      <th>city_tier</th>\n",
       "      <th>occupation</th>\n",
       "      <th>monthly_income</th>\n",
       "      <th>no_of_person_visiting</th>\n",
       "      <th>no_of_children_visiting</th>\n",
       "      <th>type_of_contact</th>\n",
       "      <th>no_of_followups</th>\n",
       "      <th>product_pitched</th>\n",
       "      <th>duration_of_pitch</th>\n",
       "      <th>pitch_satisfaction_score</th>\n",
       "      <th>preferred_property_star</th>\n",
       "      <th>no_of_trips</th>\n",
       "      <th>passport</th>\n",
       "      <th>car_owner</th>\n",
       "      <th>designation</th>\n",
       "      <th>prod_taken</th>\n",
       "    </tr>\n",
       "  </thead>\n",
       "  <tbody>\n",
       "    <tr>\n",
       "      <th>0</th>\n",
       "      <td>41</td>\n",
       "      <td>Female</td>\n",
       "      <td>Unmarried</td>\n",
       "      <td>3</td>\n",
       "      <td>Salaried</td>\n",
       "      <td>20993.0</td>\n",
       "      <td>3</td>\n",
       "      <td>0</td>\n",
       "      <td>Self Enquiry</td>\n",
       "      <td>3</td>\n",
       "      <td>Deluxe</td>\n",
       "      <td>6.0</td>\n",
       "      <td>2</td>\n",
       "      <td>3.0</td>\n",
       "      <td>1</td>\n",
       "      <td>1</td>\n",
       "      <td>1</td>\n",
       "      <td>Manager</td>\n",
       "      <td>1</td>\n",
       "    </tr>\n",
       "    <tr>\n",
       "      <th>1</th>\n",
       "      <td>49</td>\n",
       "      <td>Male</td>\n",
       "      <td>Divorced</td>\n",
       "      <td>1</td>\n",
       "      <td>Salaried</td>\n",
       "      <td>20130.0</td>\n",
       "      <td>3</td>\n",
       "      <td>2</td>\n",
       "      <td>Company Invited</td>\n",
       "      <td>4</td>\n",
       "      <td>Deluxe</td>\n",
       "      <td>14.0</td>\n",
       "      <td>3</td>\n",
       "      <td>4.0</td>\n",
       "      <td>2</td>\n",
       "      <td>0</td>\n",
       "      <td>1</td>\n",
       "      <td>Manager</td>\n",
       "      <td>0</td>\n",
       "    </tr>\n",
       "    <tr>\n",
       "      <th>2</th>\n",
       "      <td>37</td>\n",
       "      <td>Male</td>\n",
       "      <td>Unmarried</td>\n",
       "      <td>1</td>\n",
       "      <td>Free Lancer</td>\n",
       "      <td>17090.0</td>\n",
       "      <td>3</td>\n",
       "      <td>0</td>\n",
       "      <td>Self Enquiry</td>\n",
       "      <td>4</td>\n",
       "      <td>Basic</td>\n",
       "      <td>8.0</td>\n",
       "      <td>3</td>\n",
       "      <td>3.0</td>\n",
       "      <td>7</td>\n",
       "      <td>1</td>\n",
       "      <td>0</td>\n",
       "      <td>Executive</td>\n",
       "      <td>1</td>\n",
       "    </tr>\n",
       "    <tr>\n",
       "      <th>3</th>\n",
       "      <td>33</td>\n",
       "      <td>Female</td>\n",
       "      <td>Divorced</td>\n",
       "      <td>1</td>\n",
       "      <td>Salaried</td>\n",
       "      <td>17909.0</td>\n",
       "      <td>2</td>\n",
       "      <td>1</td>\n",
       "      <td>Company Invited</td>\n",
       "      <td>3</td>\n",
       "      <td>Basic</td>\n",
       "      <td>9.0</td>\n",
       "      <td>5</td>\n",
       "      <td>3.0</td>\n",
       "      <td>2</td>\n",
       "      <td>1</td>\n",
       "      <td>1</td>\n",
       "      <td>Executive</td>\n",
       "      <td>0</td>\n",
       "    </tr>\n",
       "    <tr>\n",
       "      <th>4</th>\n",
       "      <td>36</td>\n",
       "      <td>Male</td>\n",
       "      <td>Divorced</td>\n",
       "      <td>1</td>\n",
       "      <td>Small Business</td>\n",
       "      <td>18468.0</td>\n",
       "      <td>2</td>\n",
       "      <td>0</td>\n",
       "      <td>Self Enquiry</td>\n",
       "      <td>3</td>\n",
       "      <td>Basic</td>\n",
       "      <td>8.0</td>\n",
       "      <td>5</td>\n",
       "      <td>4.0</td>\n",
       "      <td>1</td>\n",
       "      <td>0</td>\n",
       "      <td>1</td>\n",
       "      <td>Executive</td>\n",
       "      <td>0</td>\n",
       "    </tr>\n",
       "  </tbody>\n",
       "</table>\n",
       "</div>"
      ],
      "text/plain": [
       "   age  gender marital_status  city_tier      occupation  monthly_income  \\\n",
       "0   41  Female      Unmarried          3        Salaried         20993.0   \n",
       "1   49    Male       Divorced          1        Salaried         20130.0   \n",
       "2   37    Male      Unmarried          1     Free Lancer         17090.0   \n",
       "3   33  Female       Divorced          1        Salaried         17909.0   \n",
       "4   36    Male       Divorced          1  Small Business         18468.0   \n",
       "\n",
       "   no_of_person_visiting  no_of_children_visiting  type_of_contact  \\\n",
       "0                      3                        0     Self Enquiry   \n",
       "1                      3                        2  Company Invited   \n",
       "2                      3                        0     Self Enquiry   \n",
       "3                      2                        1  Company Invited   \n",
       "4                      2                        0     Self Enquiry   \n",
       "\n",
       "   no_of_followups product_pitched  duration_of_pitch  \\\n",
       "0                3          Deluxe                6.0   \n",
       "1                4          Deluxe               14.0   \n",
       "2                4           Basic                8.0   \n",
       "3                3           Basic                9.0   \n",
       "4                3           Basic                8.0   \n",
       "\n",
       "   pitch_satisfaction_score  preferred_property_star  no_of_trips  passport  \\\n",
       "0                         2                      3.0            1         1   \n",
       "1                         3                      4.0            2         0   \n",
       "2                         3                      3.0            7         1   \n",
       "3                         5                      3.0            2         1   \n",
       "4                         5                      4.0            1         0   \n",
       "\n",
       "   car_owner designation  prod_taken  \n",
       "0          1     Manager           1  \n",
       "1          1     Manager           0  \n",
       "2          0   Executive           1  \n",
       "3          1   Executive           0  \n",
       "4          1   Executive           0  "
      ]
     },
     "execution_count": 93,
     "metadata": {},
     "output_type": "execute_result"
    }
   ],
   "source": [
    "df.head()"
   ]
  },
  {
   "cell_type": "markdown",
   "id": "9513cb09",
   "metadata": {},
   "source": [
    "## "
   ]
  },
  {
   "cell_type": "code",
   "execution_count": 94,
   "id": "1ae5b661",
   "metadata": {},
   "outputs": [],
   "source": [
    "df['no_of_person_visiting'] = df['no_of_person_visiting'] + df['no_of_children_visiting']"
   ]
  },
  {
   "cell_type": "code",
   "execution_count": 95,
   "id": "ec4a9852",
   "metadata": {},
   "outputs": [],
   "source": [
    "df.drop(columns=['no_of_children_visiting'], axis=1, inplace=True)"
   ]
  },
  {
   "cell_type": "code",
   "execution_count": 96,
   "id": "12bbf117",
   "metadata": {},
   "outputs": [
    {
     "data": {
      "text/html": [
       "<div>\n",
       "<style scoped>\n",
       "    .dataframe tbody tr th:only-of-type {\n",
       "        vertical-align: middle;\n",
       "    }\n",
       "\n",
       "    .dataframe tbody tr th {\n",
       "        vertical-align: top;\n",
       "    }\n",
       "\n",
       "    .dataframe thead th {\n",
       "        text-align: right;\n",
       "    }\n",
       "</style>\n",
       "<table border=\"1\" class=\"dataframe\">\n",
       "  <thead>\n",
       "    <tr style=\"text-align: right;\">\n",
       "      <th></th>\n",
       "      <th>age</th>\n",
       "      <th>gender</th>\n",
       "      <th>marital_status</th>\n",
       "      <th>city_tier</th>\n",
       "      <th>occupation</th>\n",
       "      <th>monthly_income</th>\n",
       "      <th>no_of_person_visiting</th>\n",
       "      <th>type_of_contact</th>\n",
       "      <th>no_of_followups</th>\n",
       "      <th>product_pitched</th>\n",
       "      <th>duration_of_pitch</th>\n",
       "      <th>pitch_satisfaction_score</th>\n",
       "      <th>preferred_property_star</th>\n",
       "      <th>no_of_trips</th>\n",
       "      <th>passport</th>\n",
       "      <th>car_owner</th>\n",
       "      <th>designation</th>\n",
       "      <th>prod_taken</th>\n",
       "    </tr>\n",
       "  </thead>\n",
       "  <tbody>\n",
       "    <tr>\n",
       "      <th>0</th>\n",
       "      <td>41</td>\n",
       "      <td>Female</td>\n",
       "      <td>Unmarried</td>\n",
       "      <td>3</td>\n",
       "      <td>Salaried</td>\n",
       "      <td>20993.0</td>\n",
       "      <td>3</td>\n",
       "      <td>Self Enquiry</td>\n",
       "      <td>3</td>\n",
       "      <td>Deluxe</td>\n",
       "      <td>6.0</td>\n",
       "      <td>2</td>\n",
       "      <td>3.0</td>\n",
       "      <td>1</td>\n",
       "      <td>1</td>\n",
       "      <td>1</td>\n",
       "      <td>Manager</td>\n",
       "      <td>1</td>\n",
       "    </tr>\n",
       "    <tr>\n",
       "      <th>1</th>\n",
       "      <td>49</td>\n",
       "      <td>Male</td>\n",
       "      <td>Divorced</td>\n",
       "      <td>1</td>\n",
       "      <td>Salaried</td>\n",
       "      <td>20130.0</td>\n",
       "      <td>5</td>\n",
       "      <td>Company Invited</td>\n",
       "      <td>4</td>\n",
       "      <td>Deluxe</td>\n",
       "      <td>14.0</td>\n",
       "      <td>3</td>\n",
       "      <td>4.0</td>\n",
       "      <td>2</td>\n",
       "      <td>0</td>\n",
       "      <td>1</td>\n",
       "      <td>Manager</td>\n",
       "      <td>0</td>\n",
       "    </tr>\n",
       "    <tr>\n",
       "      <th>2</th>\n",
       "      <td>37</td>\n",
       "      <td>Male</td>\n",
       "      <td>Unmarried</td>\n",
       "      <td>1</td>\n",
       "      <td>Free Lancer</td>\n",
       "      <td>17090.0</td>\n",
       "      <td>3</td>\n",
       "      <td>Self Enquiry</td>\n",
       "      <td>4</td>\n",
       "      <td>Basic</td>\n",
       "      <td>8.0</td>\n",
       "      <td>3</td>\n",
       "      <td>3.0</td>\n",
       "      <td>7</td>\n",
       "      <td>1</td>\n",
       "      <td>0</td>\n",
       "      <td>Executive</td>\n",
       "      <td>1</td>\n",
       "    </tr>\n",
       "    <tr>\n",
       "      <th>3</th>\n",
       "      <td>33</td>\n",
       "      <td>Female</td>\n",
       "      <td>Divorced</td>\n",
       "      <td>1</td>\n",
       "      <td>Salaried</td>\n",
       "      <td>17909.0</td>\n",
       "      <td>3</td>\n",
       "      <td>Company Invited</td>\n",
       "      <td>3</td>\n",
       "      <td>Basic</td>\n",
       "      <td>9.0</td>\n",
       "      <td>5</td>\n",
       "      <td>3.0</td>\n",
       "      <td>2</td>\n",
       "      <td>1</td>\n",
       "      <td>1</td>\n",
       "      <td>Executive</td>\n",
       "      <td>0</td>\n",
       "    </tr>\n",
       "    <tr>\n",
       "      <th>4</th>\n",
       "      <td>36</td>\n",
       "      <td>Male</td>\n",
       "      <td>Divorced</td>\n",
       "      <td>1</td>\n",
       "      <td>Small Business</td>\n",
       "      <td>18468.0</td>\n",
       "      <td>2</td>\n",
       "      <td>Self Enquiry</td>\n",
       "      <td>3</td>\n",
       "      <td>Basic</td>\n",
       "      <td>8.0</td>\n",
       "      <td>5</td>\n",
       "      <td>4.0</td>\n",
       "      <td>1</td>\n",
       "      <td>0</td>\n",
       "      <td>1</td>\n",
       "      <td>Executive</td>\n",
       "      <td>0</td>\n",
       "    </tr>\n",
       "  </tbody>\n",
       "</table>\n",
       "</div>"
      ],
      "text/plain": [
       "   age  gender marital_status  city_tier      occupation  monthly_income  \\\n",
       "0   41  Female      Unmarried          3        Salaried         20993.0   \n",
       "1   49    Male       Divorced          1        Salaried         20130.0   \n",
       "2   37    Male      Unmarried          1     Free Lancer         17090.0   \n",
       "3   33  Female       Divorced          1        Salaried         17909.0   \n",
       "4   36    Male       Divorced          1  Small Business         18468.0   \n",
       "\n",
       "   no_of_person_visiting  type_of_contact  no_of_followups product_pitched  \\\n",
       "0                      3     Self Enquiry                3          Deluxe   \n",
       "1                      5  Company Invited                4          Deluxe   \n",
       "2                      3     Self Enquiry                4           Basic   \n",
       "3                      3  Company Invited                3           Basic   \n",
       "4                      2     Self Enquiry                3           Basic   \n",
       "\n",
       "   duration_of_pitch  pitch_satisfaction_score  preferred_property_star  \\\n",
       "0                6.0                         2                      3.0   \n",
       "1               14.0                         3                      4.0   \n",
       "2                8.0                         3                      3.0   \n",
       "3                9.0                         5                      3.0   \n",
       "4                8.0                         5                      4.0   \n",
       "\n",
       "   no_of_trips  passport  car_owner designation  prod_taken  \n",
       "0            1         1          1     Manager           1  \n",
       "1            2         0          1     Manager           0  \n",
       "2            7         1          0   Executive           1  \n",
       "3            2         1          1   Executive           0  \n",
       "4            1         0          1   Executive           0  "
      ]
     },
     "execution_count": 96,
     "metadata": {},
     "output_type": "execute_result"
    }
   ],
   "source": [
    "df.head()"
   ]
  },
  {
   "cell_type": "markdown",
   "id": "7275a51f",
   "metadata": {},
   "source": [
    "---"
   ]
  },
  {
   "cell_type": "markdown",
   "id": "8ec1549c",
   "metadata": {},
   "source": [
    "### Get all Numeric Features"
   ]
  },
  {
   "cell_type": "code",
   "execution_count": 97,
   "id": "a6f48a75",
   "metadata": {},
   "outputs": [
    {
     "name": "stdout",
     "output_type": "stream",
     "text": [
      "n_num_features:  12\n"
     ]
    }
   ],
   "source": [
    "num_features = [features for features in df.columns if df[features].dtype != 'O']\n",
    "print('n_num_features: ', len(num_features))"
   ]
  },
  {
   "cell_type": "markdown",
   "id": "2c81b07a",
   "metadata": {},
   "source": [
    "### Get all Categorical Features"
   ]
  },
  {
   "cell_type": "code",
   "execution_count": 98,
   "id": "a01c3501",
   "metadata": {},
   "outputs": [
    {
     "name": "stdout",
     "output_type": "stream",
     "text": [
      "n_cat_features:  6\n"
     ]
    }
   ],
   "source": [
    "cat_features = [feature for feature in df.columns if df[feature].dtype == 'O']\n",
    "print('n_cat_features: ', len(cat_features))"
   ]
  },
  {
   "cell_type": "markdown",
   "id": "dcda0aed",
   "metadata": {},
   "source": [
    "### Get all Discrete Features"
   ]
  },
  {
   "cell_type": "code",
   "execution_count": 99,
   "id": "bb9d19c6",
   "metadata": {},
   "outputs": [
    {
     "name": "stdout",
     "output_type": "stream",
     "text": [
      "n_discrete_features:  9\n"
     ]
    }
   ],
   "source": [
    "discrete_features = [feature for feature in num_features if len(df[feature].unique()) <= 25]\n",
    "print('n_discrete_features: ', len(discrete_features))"
   ]
  },
  {
   "cell_type": "markdown",
   "id": "a2bc8763",
   "metadata": {},
   "source": [
    "### Get all Continuous Features"
   ]
  },
  {
   "cell_type": "code",
   "execution_count": 100,
   "id": "8cc9f956",
   "metadata": {},
   "outputs": [
    {
     "name": "stdout",
     "output_type": "stream",
     "text": [
      "n_continuous_features:  3\n"
     ]
    }
   ],
   "source": [
    "continuous_features = [feature for feature in num_features if feature not in discrete_features]\n",
    "print('n_continuous_features: ', len(continuous_features))"
   ]
  },
  {
   "cell_type": "markdown",
   "id": "53a315b6",
   "metadata": {},
   "source": [
    "---"
   ]
  },
  {
   "cell_type": "markdown",
   "id": "9b01b2a9",
   "metadata": {},
   "source": [
    "## Declare Dependent & Independent Features"
   ]
  },
  {
   "cell_type": "code",
   "execution_count": 101,
   "id": "e57a811b",
   "metadata": {},
   "outputs": [],
   "source": [
    "X = df.drop(columns=['prod_taken'], axis=1)"
   ]
  },
  {
   "cell_type": "code",
   "execution_count": 102,
   "id": "d23fad69",
   "metadata": {},
   "outputs": [],
   "source": [
    "y = df['prod_taken']"
   ]
  },
  {
   "cell_type": "code",
   "execution_count": 103,
   "id": "1bc9afb9",
   "metadata": {},
   "outputs": [
    {
     "data": {
      "text/html": [
       "<div>\n",
       "<style scoped>\n",
       "    .dataframe tbody tr th:only-of-type {\n",
       "        vertical-align: middle;\n",
       "    }\n",
       "\n",
       "    .dataframe tbody tr th {\n",
       "        vertical-align: top;\n",
       "    }\n",
       "\n",
       "    .dataframe thead th {\n",
       "        text-align: right;\n",
       "    }\n",
       "</style>\n",
       "<table border=\"1\" class=\"dataframe\">\n",
       "  <thead>\n",
       "    <tr style=\"text-align: right;\">\n",
       "      <th></th>\n",
       "      <th>age</th>\n",
       "      <th>gender</th>\n",
       "      <th>marital_status</th>\n",
       "      <th>city_tier</th>\n",
       "      <th>occupation</th>\n",
       "      <th>monthly_income</th>\n",
       "      <th>no_of_person_visiting</th>\n",
       "      <th>type_of_contact</th>\n",
       "      <th>no_of_followups</th>\n",
       "      <th>product_pitched</th>\n",
       "      <th>duration_of_pitch</th>\n",
       "      <th>pitch_satisfaction_score</th>\n",
       "      <th>preferred_property_star</th>\n",
       "      <th>no_of_trips</th>\n",
       "      <th>passport</th>\n",
       "      <th>car_owner</th>\n",
       "      <th>designation</th>\n",
       "    </tr>\n",
       "  </thead>\n",
       "  <tbody>\n",
       "    <tr>\n",
       "      <th>0</th>\n",
       "      <td>41</td>\n",
       "      <td>Female</td>\n",
       "      <td>Unmarried</td>\n",
       "      <td>3</td>\n",
       "      <td>Salaried</td>\n",
       "      <td>20993.0</td>\n",
       "      <td>3</td>\n",
       "      <td>Self Enquiry</td>\n",
       "      <td>3</td>\n",
       "      <td>Deluxe</td>\n",
       "      <td>6.0</td>\n",
       "      <td>2</td>\n",
       "      <td>3.0</td>\n",
       "      <td>1</td>\n",
       "      <td>1</td>\n",
       "      <td>1</td>\n",
       "      <td>Manager</td>\n",
       "    </tr>\n",
       "    <tr>\n",
       "      <th>1</th>\n",
       "      <td>49</td>\n",
       "      <td>Male</td>\n",
       "      <td>Divorced</td>\n",
       "      <td>1</td>\n",
       "      <td>Salaried</td>\n",
       "      <td>20130.0</td>\n",
       "      <td>5</td>\n",
       "      <td>Company Invited</td>\n",
       "      <td>4</td>\n",
       "      <td>Deluxe</td>\n",
       "      <td>14.0</td>\n",
       "      <td>3</td>\n",
       "      <td>4.0</td>\n",
       "      <td>2</td>\n",
       "      <td>0</td>\n",
       "      <td>1</td>\n",
       "      <td>Manager</td>\n",
       "    </tr>\n",
       "    <tr>\n",
       "      <th>2</th>\n",
       "      <td>37</td>\n",
       "      <td>Male</td>\n",
       "      <td>Unmarried</td>\n",
       "      <td>1</td>\n",
       "      <td>Free Lancer</td>\n",
       "      <td>17090.0</td>\n",
       "      <td>3</td>\n",
       "      <td>Self Enquiry</td>\n",
       "      <td>4</td>\n",
       "      <td>Basic</td>\n",
       "      <td>8.0</td>\n",
       "      <td>3</td>\n",
       "      <td>3.0</td>\n",
       "      <td>7</td>\n",
       "      <td>1</td>\n",
       "      <td>0</td>\n",
       "      <td>Executive</td>\n",
       "    </tr>\n",
       "    <tr>\n",
       "      <th>3</th>\n",
       "      <td>33</td>\n",
       "      <td>Female</td>\n",
       "      <td>Divorced</td>\n",
       "      <td>1</td>\n",
       "      <td>Salaried</td>\n",
       "      <td>17909.0</td>\n",
       "      <td>3</td>\n",
       "      <td>Company Invited</td>\n",
       "      <td>3</td>\n",
       "      <td>Basic</td>\n",
       "      <td>9.0</td>\n",
       "      <td>5</td>\n",
       "      <td>3.0</td>\n",
       "      <td>2</td>\n",
       "      <td>1</td>\n",
       "      <td>1</td>\n",
       "      <td>Executive</td>\n",
       "    </tr>\n",
       "    <tr>\n",
       "      <th>4</th>\n",
       "      <td>36</td>\n",
       "      <td>Male</td>\n",
       "      <td>Divorced</td>\n",
       "      <td>1</td>\n",
       "      <td>Small Business</td>\n",
       "      <td>18468.0</td>\n",
       "      <td>2</td>\n",
       "      <td>Self Enquiry</td>\n",
       "      <td>3</td>\n",
       "      <td>Basic</td>\n",
       "      <td>8.0</td>\n",
       "      <td>5</td>\n",
       "      <td>4.0</td>\n",
       "      <td>1</td>\n",
       "      <td>0</td>\n",
       "      <td>1</td>\n",
       "      <td>Executive</td>\n",
       "    </tr>\n",
       "  </tbody>\n",
       "</table>\n",
       "</div>"
      ],
      "text/plain": [
       "   age  gender marital_status  city_tier      occupation  monthly_income  \\\n",
       "0   41  Female      Unmarried          3        Salaried         20993.0   \n",
       "1   49    Male       Divorced          1        Salaried         20130.0   \n",
       "2   37    Male      Unmarried          1     Free Lancer         17090.0   \n",
       "3   33  Female       Divorced          1        Salaried         17909.0   \n",
       "4   36    Male       Divorced          1  Small Business         18468.0   \n",
       "\n",
       "   no_of_person_visiting  type_of_contact  no_of_followups product_pitched  \\\n",
       "0                      3     Self Enquiry                3          Deluxe   \n",
       "1                      5  Company Invited                4          Deluxe   \n",
       "2                      3     Self Enquiry                4           Basic   \n",
       "3                      3  Company Invited                3           Basic   \n",
       "4                      2     Self Enquiry                3           Basic   \n",
       "\n",
       "   duration_of_pitch  pitch_satisfaction_score  preferred_property_star  \\\n",
       "0                6.0                         2                      3.0   \n",
       "1               14.0                         3                      4.0   \n",
       "2                8.0                         3                      3.0   \n",
       "3                9.0                         5                      3.0   \n",
       "4                8.0                         5                      4.0   \n",
       "\n",
       "   no_of_trips  passport  car_owner designation  \n",
       "0            1         1          1     Manager  \n",
       "1            2         0          1     Manager  \n",
       "2            7         1          0   Executive  \n",
       "3            2         1          1   Executive  \n",
       "4            1         0          1   Executive  "
      ]
     },
     "execution_count": 103,
     "metadata": {},
     "output_type": "execute_result"
    }
   ],
   "source": [
    "X.head()"
   ]
  },
  {
   "cell_type": "code",
   "execution_count": 104,
   "id": "a122b67a",
   "metadata": {},
   "outputs": [
    {
     "data": {
      "text/plain": [
       "0    1\n",
       "1    0\n",
       "2    1\n",
       "3    0\n",
       "4    0\n",
       "Name: prod_taken, dtype: int64"
      ]
     },
     "execution_count": 104,
     "metadata": {},
     "output_type": "execute_result"
    }
   ],
   "source": [
    "y.head()"
   ]
  },
  {
   "cell_type": "markdown",
   "id": "7a6c0d7c",
   "metadata": {},
   "source": [
    "---"
   ]
  },
  {
   "cell_type": "markdown",
   "id": "b811fc46",
   "metadata": {},
   "source": [
    "---"
   ]
  },
  {
   "cell_type": "markdown",
   "id": "2231ac5b",
   "metadata": {},
   "source": [
    "# Train Test Split"
   ]
  },
  {
   "cell_type": "code",
   "execution_count": 105,
   "id": "dabc5e3f",
   "metadata": {},
   "outputs": [],
   "source": [
    "from sklearn.model_selection import train_test_split"
   ]
  },
  {
   "cell_type": "code",
   "execution_count": 106,
   "id": "3de49771",
   "metadata": {},
   "outputs": [],
   "source": [
    "X_train, X_test, y_train, y_test = train_test_split(X,y,test_size=0.2,random_state=42) "
   ]
  },
  {
   "cell_type": "code",
   "execution_count": 107,
   "id": "90eefdc9",
   "metadata": {},
   "outputs": [
    {
     "data": {
      "text/plain": [
       "((3910, 17), (978, 17))"
      ]
     },
     "execution_count": 107,
     "metadata": {},
     "output_type": "execute_result"
    }
   ],
   "source": [
    "X_train.shape, X_test.shape "
   ]
  },
  {
   "cell_type": "code",
   "execution_count": 108,
   "id": "9c5c82a8",
   "metadata": {},
   "outputs": [
    {
     "data": {
      "text/plain": [
       "((3910,), (978,))"
      ]
     },
     "execution_count": 108,
     "metadata": {},
     "output_type": "execute_result"
    }
   ],
   "source": [
    "y_train.shape, y_test.shape"
   ]
  },
  {
   "cell_type": "code",
   "execution_count": 109,
   "id": "75b6a1f3",
   "metadata": {},
   "outputs": [
    {
     "name": "stdout",
     "output_type": "stream",
     "text": [
      "<class 'pandas.core.frame.DataFrame'>\n",
      "RangeIndex: 4888 entries, 0 to 4887\n",
      "Data columns (total 17 columns):\n",
      " #   Column                    Non-Null Count  Dtype  \n",
      "---  ------                    --------------  -----  \n",
      " 0   age                       4888 non-null   Int64  \n",
      " 1   gender                    4888 non-null   object \n",
      " 2   marital_status            4888 non-null   object \n",
      " 3   city_tier                 4888 non-null   int64  \n",
      " 4   occupation                4888 non-null   object \n",
      " 5   monthly_income            4888 non-null   float64\n",
      " 6   no_of_person_visiting     4888 non-null   Int64  \n",
      " 7   type_of_contact           4888 non-null   object \n",
      " 8   no_of_followups           4888 non-null   Int64  \n",
      " 9   product_pitched           4888 non-null   object \n",
      " 10  duration_of_pitch         4888 non-null   float64\n",
      " 11  pitch_satisfaction_score  4888 non-null   int64  \n",
      " 12  preferred_property_star   4888 non-null   float64\n",
      " 13  no_of_trips               4888 non-null   Int64  \n",
      " 14  passport                  4888 non-null   int64  \n",
      " 15  car_owner                 4888 non-null   int64  \n",
      " 16  designation               4888 non-null   object \n",
      "dtypes: Int64(4), float64(3), int64(4), object(6)\n",
      "memory usage: 668.4+ KB\n"
     ]
    }
   ],
   "source": [
    "X.info()"
   ]
  },
  {
   "cell_type": "code",
   "execution_count": 110,
   "id": "7f1f51c1",
   "metadata": {},
   "outputs": [],
   "source": [
    "cat_features = X.select_dtypes(include='object').columns"
   ]
  },
  {
   "cell_type": "code",
   "execution_count": 111,
   "id": "a5388a79",
   "metadata": {},
   "outputs": [
    {
     "data": {
      "text/plain": [
       "Index(['gender', 'marital_status', 'occupation', 'type_of_contact',\n",
       "       'product_pitched', 'designation'],\n",
       "      dtype='object')"
      ]
     },
     "execution_count": 111,
     "metadata": {},
     "output_type": "execute_result"
    }
   ],
   "source": [
    "cat_features"
   ]
  },
  {
   "cell_type": "code",
   "execution_count": 112,
   "id": "2b4c9873",
   "metadata": {},
   "outputs": [],
   "source": [
    "num_features = X.select_dtypes(exclude='object').columns"
   ]
  },
  {
   "cell_type": "code",
   "execution_count": 113,
   "id": "26e61ae0",
   "metadata": {},
   "outputs": [
    {
     "data": {
      "text/plain": [
       "Index(['age', 'city_tier', 'monthly_income', 'no_of_person_visiting',\n",
       "       'no_of_followups', 'duration_of_pitch', 'pitch_satisfaction_score',\n",
       "       'preferred_property_star', 'no_of_trips', 'passport', 'car_owner'],\n",
       "      dtype='object')"
      ]
     },
     "execution_count": 113,
     "metadata": {},
     "output_type": "execute_result"
    }
   ],
   "source": [
    "num_features"
   ]
  },
  {
   "cell_type": "markdown",
   "id": "3f60c399",
   "metadata": {},
   "source": [
    "## Transform Data"
   ]
  },
  {
   "cell_type": "code",
   "execution_count": 114,
   "id": "f14d1de4",
   "metadata": {},
   "outputs": [],
   "source": [
    "from sklearn.compose import ColumnTransformer"
   ]
  },
  {
   "cell_type": "markdown",
   "id": "a9fc3209",
   "metadata": {},
   "source": [
    "### Transform Numeric Data"
   ]
  },
  {
   "cell_type": "code",
   "execution_count": 115,
   "id": "23c98dcf",
   "metadata": {},
   "outputs": [],
   "source": [
    "from sklearn.preprocessing import StandardScaler"
   ]
  },
  {
   "cell_type": "code",
   "execution_count": 116,
   "id": "65eb6a80",
   "metadata": {},
   "outputs": [],
   "source": [
    "numeric_transformer = StandardScaler()"
   ]
  },
  {
   "cell_type": "markdown",
   "id": "6230bfd9",
   "metadata": {},
   "source": [
    "### Transform Categorical Data"
   ]
  },
  {
   "cell_type": "code",
   "execution_count": 117,
   "id": "95f60c11",
   "metadata": {},
   "outputs": [],
   "source": [
    "from sklearn.preprocessing import OneHotEncoder"
   ]
  },
  {
   "cell_type": "code",
   "execution_count": 118,
   "id": "a818f34a",
   "metadata": {},
   "outputs": [],
   "source": [
    "oh_transformer = OneHotEncoder(drop='first')"
   ]
  },
  {
   "cell_type": "code",
   "execution_count": 119,
   "id": "7dfaca9d",
   "metadata": {},
   "outputs": [],
   "source": [
    "preprocessor = ColumnTransformer([\n",
    "    ('OneHotEncoder', oh_transformer, cat_features),\n",
    "    ('StandardScaler', numeric_transformer, num_features)\n",
    "])"
   ]
  },
  {
   "cell_type": "code",
   "execution_count": 120,
   "id": "0dc2be8e",
   "metadata": {},
   "outputs": [
    {
     "data": {
      "text/html": [
       "<style>#sk-container-id-1 {\n",
       "  /* Definition of color scheme common for light and dark mode */\n",
       "  --sklearn-color-text: #000;\n",
       "  --sklearn-color-text-muted: #666;\n",
       "  --sklearn-color-line: gray;\n",
       "  /* Definition of color scheme for unfitted estimators */\n",
       "  --sklearn-color-unfitted-level-0: #fff5e6;\n",
       "  --sklearn-color-unfitted-level-1: #f6e4d2;\n",
       "  --sklearn-color-unfitted-level-2: #ffe0b3;\n",
       "  --sklearn-color-unfitted-level-3: chocolate;\n",
       "  /* Definition of color scheme for fitted estimators */\n",
       "  --sklearn-color-fitted-level-0: #f0f8ff;\n",
       "  --sklearn-color-fitted-level-1: #d4ebff;\n",
       "  --sklearn-color-fitted-level-2: #b3dbfd;\n",
       "  --sklearn-color-fitted-level-3: cornflowerblue;\n",
       "\n",
       "  /* Specific color for light theme */\n",
       "  --sklearn-color-text-on-default-background: var(--sg-text-color, var(--theme-code-foreground, var(--jp-content-font-color1, black)));\n",
       "  --sklearn-color-background: var(--sg-background-color, var(--theme-background, var(--jp-layout-color0, white)));\n",
       "  --sklearn-color-border-box: var(--sg-text-color, var(--theme-code-foreground, var(--jp-content-font-color1, black)));\n",
       "  --sklearn-color-icon: #696969;\n",
       "\n",
       "  @media (prefers-color-scheme: dark) {\n",
       "    /* Redefinition of color scheme for dark theme */\n",
       "    --sklearn-color-text-on-default-background: var(--sg-text-color, var(--theme-code-foreground, var(--jp-content-font-color1, white)));\n",
       "    --sklearn-color-background: var(--sg-background-color, var(--theme-background, var(--jp-layout-color0, #111)));\n",
       "    --sklearn-color-border-box: var(--sg-text-color, var(--theme-code-foreground, var(--jp-content-font-color1, white)));\n",
       "    --sklearn-color-icon: #878787;\n",
       "  }\n",
       "}\n",
       "\n",
       "#sk-container-id-1 {\n",
       "  color: var(--sklearn-color-text);\n",
       "}\n",
       "\n",
       "#sk-container-id-1 pre {\n",
       "  padding: 0;\n",
       "}\n",
       "\n",
       "#sk-container-id-1 input.sk-hidden--visually {\n",
       "  border: 0;\n",
       "  clip: rect(1px 1px 1px 1px);\n",
       "  clip: rect(1px, 1px, 1px, 1px);\n",
       "  height: 1px;\n",
       "  margin: -1px;\n",
       "  overflow: hidden;\n",
       "  padding: 0;\n",
       "  position: absolute;\n",
       "  width: 1px;\n",
       "}\n",
       "\n",
       "#sk-container-id-1 div.sk-dashed-wrapped {\n",
       "  border: 1px dashed var(--sklearn-color-line);\n",
       "  margin: 0 0.4em 0.5em 0.4em;\n",
       "  box-sizing: border-box;\n",
       "  padding-bottom: 0.4em;\n",
       "  background-color: var(--sklearn-color-background);\n",
       "}\n",
       "\n",
       "#sk-container-id-1 div.sk-container {\n",
       "  /* jupyter's `normalize.less` sets `[hidden] { display: none; }`\n",
       "     but bootstrap.min.css set `[hidden] { display: none !important; }`\n",
       "     so we also need the `!important` here to be able to override the\n",
       "     default hidden behavior on the sphinx rendered scikit-learn.org.\n",
       "     See: https://github.com/scikit-learn/scikit-learn/issues/21755 */\n",
       "  display: inline-block !important;\n",
       "  position: relative;\n",
       "}\n",
       "\n",
       "#sk-container-id-1 div.sk-text-repr-fallback {\n",
       "  display: none;\n",
       "}\n",
       "\n",
       "div.sk-parallel-item,\n",
       "div.sk-serial,\n",
       "div.sk-item {\n",
       "  /* draw centered vertical line to link estimators */\n",
       "  background-image: linear-gradient(var(--sklearn-color-text-on-default-background), var(--sklearn-color-text-on-default-background));\n",
       "  background-size: 2px 100%;\n",
       "  background-repeat: no-repeat;\n",
       "  background-position: center center;\n",
       "}\n",
       "\n",
       "/* Parallel-specific style estimator block */\n",
       "\n",
       "#sk-container-id-1 div.sk-parallel-item::after {\n",
       "  content: \"\";\n",
       "  width: 100%;\n",
       "  border-bottom: 2px solid var(--sklearn-color-text-on-default-background);\n",
       "  flex-grow: 1;\n",
       "}\n",
       "\n",
       "#sk-container-id-1 div.sk-parallel {\n",
       "  display: flex;\n",
       "  align-items: stretch;\n",
       "  justify-content: center;\n",
       "  background-color: var(--sklearn-color-background);\n",
       "  position: relative;\n",
       "}\n",
       "\n",
       "#sk-container-id-1 div.sk-parallel-item {\n",
       "  display: flex;\n",
       "  flex-direction: column;\n",
       "}\n",
       "\n",
       "#sk-container-id-1 div.sk-parallel-item:first-child::after {\n",
       "  align-self: flex-end;\n",
       "  width: 50%;\n",
       "}\n",
       "\n",
       "#sk-container-id-1 div.sk-parallel-item:last-child::after {\n",
       "  align-self: flex-start;\n",
       "  width: 50%;\n",
       "}\n",
       "\n",
       "#sk-container-id-1 div.sk-parallel-item:only-child::after {\n",
       "  width: 0;\n",
       "}\n",
       "\n",
       "/* Serial-specific style estimator block */\n",
       "\n",
       "#sk-container-id-1 div.sk-serial {\n",
       "  display: flex;\n",
       "  flex-direction: column;\n",
       "  align-items: center;\n",
       "  background-color: var(--sklearn-color-background);\n",
       "  padding-right: 1em;\n",
       "  padding-left: 1em;\n",
       "}\n",
       "\n",
       "\n",
       "/* Toggleable style: style used for estimator/Pipeline/ColumnTransformer box that is\n",
       "clickable and can be expanded/collapsed.\n",
       "- Pipeline and ColumnTransformer use this feature and define the default style\n",
       "- Estimators will overwrite some part of the style using the `sk-estimator` class\n",
       "*/\n",
       "\n",
       "/* Pipeline and ColumnTransformer style (default) */\n",
       "\n",
       "#sk-container-id-1 div.sk-toggleable {\n",
       "  /* Default theme specific background. It is overwritten whether we have a\n",
       "  specific estimator or a Pipeline/ColumnTransformer */\n",
       "  background-color: var(--sklearn-color-background);\n",
       "}\n",
       "\n",
       "/* Toggleable label */\n",
       "#sk-container-id-1 label.sk-toggleable__label {\n",
       "  cursor: pointer;\n",
       "  display: flex;\n",
       "  width: 100%;\n",
       "  margin-bottom: 0;\n",
       "  padding: 0.5em;\n",
       "  box-sizing: border-box;\n",
       "  text-align: center;\n",
       "  align-items: start;\n",
       "  justify-content: space-between;\n",
       "  gap: 0.5em;\n",
       "}\n",
       "\n",
       "#sk-container-id-1 label.sk-toggleable__label .caption {\n",
       "  font-size: 0.6rem;\n",
       "  font-weight: lighter;\n",
       "  color: var(--sklearn-color-text-muted);\n",
       "}\n",
       "\n",
       "#sk-container-id-1 label.sk-toggleable__label-arrow:before {\n",
       "  /* Arrow on the left of the label */\n",
       "  content: \"▸\";\n",
       "  float: left;\n",
       "  margin-right: 0.25em;\n",
       "  color: var(--sklearn-color-icon);\n",
       "}\n",
       "\n",
       "#sk-container-id-1 label.sk-toggleable__label-arrow:hover:before {\n",
       "  color: var(--sklearn-color-text);\n",
       "}\n",
       "\n",
       "/* Toggleable content - dropdown */\n",
       "\n",
       "#sk-container-id-1 div.sk-toggleable__content {\n",
       "  display: none;\n",
       "  text-align: left;\n",
       "  /* unfitted */\n",
       "  background-color: var(--sklearn-color-unfitted-level-0);\n",
       "}\n",
       "\n",
       "#sk-container-id-1 div.sk-toggleable__content.fitted {\n",
       "  /* fitted */\n",
       "  background-color: var(--sklearn-color-fitted-level-0);\n",
       "}\n",
       "\n",
       "#sk-container-id-1 div.sk-toggleable__content pre {\n",
       "  margin: 0.2em;\n",
       "  border-radius: 0.25em;\n",
       "  color: var(--sklearn-color-text);\n",
       "  /* unfitted */\n",
       "  background-color: var(--sklearn-color-unfitted-level-0);\n",
       "}\n",
       "\n",
       "#sk-container-id-1 div.sk-toggleable__content.fitted pre {\n",
       "  /* unfitted */\n",
       "  background-color: var(--sklearn-color-fitted-level-0);\n",
       "}\n",
       "\n",
       "#sk-container-id-1 input.sk-toggleable__control:checked~div.sk-toggleable__content {\n",
       "  /* Expand drop-down */\n",
       "  display: block;\n",
       "  width: 100%;\n",
       "  overflow: visible;\n",
       "}\n",
       "\n",
       "#sk-container-id-1 input.sk-toggleable__control:checked~label.sk-toggleable__label-arrow:before {\n",
       "  content: \"▾\";\n",
       "}\n",
       "\n",
       "/* Pipeline/ColumnTransformer-specific style */\n",
       "\n",
       "#sk-container-id-1 div.sk-label input.sk-toggleable__control:checked~label.sk-toggleable__label {\n",
       "  color: var(--sklearn-color-text);\n",
       "  background-color: var(--sklearn-color-unfitted-level-2);\n",
       "}\n",
       "\n",
       "#sk-container-id-1 div.sk-label.fitted input.sk-toggleable__control:checked~label.sk-toggleable__label {\n",
       "  background-color: var(--sklearn-color-fitted-level-2);\n",
       "}\n",
       "\n",
       "/* Estimator-specific style */\n",
       "\n",
       "/* Colorize estimator box */\n",
       "#sk-container-id-1 div.sk-estimator input.sk-toggleable__control:checked~label.sk-toggleable__label {\n",
       "  /* unfitted */\n",
       "  background-color: var(--sklearn-color-unfitted-level-2);\n",
       "}\n",
       "\n",
       "#sk-container-id-1 div.sk-estimator.fitted input.sk-toggleable__control:checked~label.sk-toggleable__label {\n",
       "  /* fitted */\n",
       "  background-color: var(--sklearn-color-fitted-level-2);\n",
       "}\n",
       "\n",
       "#sk-container-id-1 div.sk-label label.sk-toggleable__label,\n",
       "#sk-container-id-1 div.sk-label label {\n",
       "  /* The background is the default theme color */\n",
       "  color: var(--sklearn-color-text-on-default-background);\n",
       "}\n",
       "\n",
       "/* On hover, darken the color of the background */\n",
       "#sk-container-id-1 div.sk-label:hover label.sk-toggleable__label {\n",
       "  color: var(--sklearn-color-text);\n",
       "  background-color: var(--sklearn-color-unfitted-level-2);\n",
       "}\n",
       "\n",
       "/* Label box, darken color on hover, fitted */\n",
       "#sk-container-id-1 div.sk-label.fitted:hover label.sk-toggleable__label.fitted {\n",
       "  color: var(--sklearn-color-text);\n",
       "  background-color: var(--sklearn-color-fitted-level-2);\n",
       "}\n",
       "\n",
       "/* Estimator label */\n",
       "\n",
       "#sk-container-id-1 div.sk-label label {\n",
       "  font-family: monospace;\n",
       "  font-weight: bold;\n",
       "  display: inline-block;\n",
       "  line-height: 1.2em;\n",
       "}\n",
       "\n",
       "#sk-container-id-1 div.sk-label-container {\n",
       "  text-align: center;\n",
       "}\n",
       "\n",
       "/* Estimator-specific */\n",
       "#sk-container-id-1 div.sk-estimator {\n",
       "  font-family: monospace;\n",
       "  border: 1px dotted var(--sklearn-color-border-box);\n",
       "  border-radius: 0.25em;\n",
       "  box-sizing: border-box;\n",
       "  margin-bottom: 0.5em;\n",
       "  /* unfitted */\n",
       "  background-color: var(--sklearn-color-unfitted-level-0);\n",
       "}\n",
       "\n",
       "#sk-container-id-1 div.sk-estimator.fitted {\n",
       "  /* fitted */\n",
       "  background-color: var(--sklearn-color-fitted-level-0);\n",
       "}\n",
       "\n",
       "/* on hover */\n",
       "#sk-container-id-1 div.sk-estimator:hover {\n",
       "  /* unfitted */\n",
       "  background-color: var(--sklearn-color-unfitted-level-2);\n",
       "}\n",
       "\n",
       "#sk-container-id-1 div.sk-estimator.fitted:hover {\n",
       "  /* fitted */\n",
       "  background-color: var(--sklearn-color-fitted-level-2);\n",
       "}\n",
       "\n",
       "/* Specification for estimator info (e.g. \"i\" and \"?\") */\n",
       "\n",
       "/* Common style for \"i\" and \"?\" */\n",
       "\n",
       ".sk-estimator-doc-link,\n",
       "a:link.sk-estimator-doc-link,\n",
       "a:visited.sk-estimator-doc-link {\n",
       "  float: right;\n",
       "  font-size: smaller;\n",
       "  line-height: 1em;\n",
       "  font-family: monospace;\n",
       "  background-color: var(--sklearn-color-background);\n",
       "  border-radius: 1em;\n",
       "  height: 1em;\n",
       "  width: 1em;\n",
       "  text-decoration: none !important;\n",
       "  margin-left: 0.5em;\n",
       "  text-align: center;\n",
       "  /* unfitted */\n",
       "  border: var(--sklearn-color-unfitted-level-1) 1pt solid;\n",
       "  color: var(--sklearn-color-unfitted-level-1);\n",
       "}\n",
       "\n",
       ".sk-estimator-doc-link.fitted,\n",
       "a:link.sk-estimator-doc-link.fitted,\n",
       "a:visited.sk-estimator-doc-link.fitted {\n",
       "  /* fitted */\n",
       "  border: var(--sklearn-color-fitted-level-1) 1pt solid;\n",
       "  color: var(--sklearn-color-fitted-level-1);\n",
       "}\n",
       "\n",
       "/* On hover */\n",
       "div.sk-estimator:hover .sk-estimator-doc-link:hover,\n",
       ".sk-estimator-doc-link:hover,\n",
       "div.sk-label-container:hover .sk-estimator-doc-link:hover,\n",
       ".sk-estimator-doc-link:hover {\n",
       "  /* unfitted */\n",
       "  background-color: var(--sklearn-color-unfitted-level-3);\n",
       "  color: var(--sklearn-color-background);\n",
       "  text-decoration: none;\n",
       "}\n",
       "\n",
       "div.sk-estimator.fitted:hover .sk-estimator-doc-link.fitted:hover,\n",
       ".sk-estimator-doc-link.fitted:hover,\n",
       "div.sk-label-container:hover .sk-estimator-doc-link.fitted:hover,\n",
       ".sk-estimator-doc-link.fitted:hover {\n",
       "  /* fitted */\n",
       "  background-color: var(--sklearn-color-fitted-level-3);\n",
       "  color: var(--sklearn-color-background);\n",
       "  text-decoration: none;\n",
       "}\n",
       "\n",
       "/* Span, style for the box shown on hovering the info icon */\n",
       ".sk-estimator-doc-link span {\n",
       "  display: none;\n",
       "  z-index: 9999;\n",
       "  position: relative;\n",
       "  font-weight: normal;\n",
       "  right: .2ex;\n",
       "  padding: .5ex;\n",
       "  margin: .5ex;\n",
       "  width: min-content;\n",
       "  min-width: 20ex;\n",
       "  max-width: 50ex;\n",
       "  color: var(--sklearn-color-text);\n",
       "  box-shadow: 2pt 2pt 4pt #999;\n",
       "  /* unfitted */\n",
       "  background: var(--sklearn-color-unfitted-level-0);\n",
       "  border: .5pt solid var(--sklearn-color-unfitted-level-3);\n",
       "}\n",
       "\n",
       ".sk-estimator-doc-link.fitted span {\n",
       "  /* fitted */\n",
       "  background: var(--sklearn-color-fitted-level-0);\n",
       "  border: var(--sklearn-color-fitted-level-3);\n",
       "}\n",
       "\n",
       ".sk-estimator-doc-link:hover span {\n",
       "  display: block;\n",
       "}\n",
       "\n",
       "/* \"?\"-specific style due to the `<a>` HTML tag */\n",
       "\n",
       "#sk-container-id-1 a.estimator_doc_link {\n",
       "  float: right;\n",
       "  font-size: 1rem;\n",
       "  line-height: 1em;\n",
       "  font-family: monospace;\n",
       "  background-color: var(--sklearn-color-background);\n",
       "  border-radius: 1rem;\n",
       "  height: 1rem;\n",
       "  width: 1rem;\n",
       "  text-decoration: none;\n",
       "  /* unfitted */\n",
       "  color: var(--sklearn-color-unfitted-level-1);\n",
       "  border: var(--sklearn-color-unfitted-level-1) 1pt solid;\n",
       "}\n",
       "\n",
       "#sk-container-id-1 a.estimator_doc_link.fitted {\n",
       "  /* fitted */\n",
       "  border: var(--sklearn-color-fitted-level-1) 1pt solid;\n",
       "  color: var(--sklearn-color-fitted-level-1);\n",
       "}\n",
       "\n",
       "/* On hover */\n",
       "#sk-container-id-1 a.estimator_doc_link:hover {\n",
       "  /* unfitted */\n",
       "  background-color: var(--sklearn-color-unfitted-level-3);\n",
       "  color: var(--sklearn-color-background);\n",
       "  text-decoration: none;\n",
       "}\n",
       "\n",
       "#sk-container-id-1 a.estimator_doc_link.fitted:hover {\n",
       "  /* fitted */\n",
       "  background-color: var(--sklearn-color-fitted-level-3);\n",
       "}\n",
       "\n",
       ".estimator-table summary {\n",
       "    padding: .5rem;\n",
       "    font-family: monospace;\n",
       "    cursor: pointer;\n",
       "}\n",
       "\n",
       ".estimator-table details[open] {\n",
       "    padding-left: 0.1rem;\n",
       "    padding-right: 0.1rem;\n",
       "    padding-bottom: 0.3rem;\n",
       "}\n",
       "\n",
       ".estimator-table .parameters-table {\n",
       "    margin-left: auto !important;\n",
       "    margin-right: auto !important;\n",
       "}\n",
       "\n",
       ".estimator-table .parameters-table tr:nth-child(odd) {\n",
       "    background-color: #fff;\n",
       "}\n",
       "\n",
       ".estimator-table .parameters-table tr:nth-child(even) {\n",
       "    background-color: #f6f6f6;\n",
       "}\n",
       "\n",
       ".estimator-table .parameters-table tr:hover {\n",
       "    background-color: #e0e0e0;\n",
       "}\n",
       "\n",
       ".estimator-table table td {\n",
       "    border: 1px solid rgba(106, 105, 104, 0.232);\n",
       "}\n",
       "\n",
       ".user-set td {\n",
       "    color:rgb(255, 94, 0);\n",
       "    text-align: left;\n",
       "}\n",
       "\n",
       ".user-set td.value pre {\n",
       "    color:rgb(255, 94, 0) !important;\n",
       "    background-color: transparent !important;\n",
       "}\n",
       "\n",
       ".default td {\n",
       "    color: black;\n",
       "    text-align: left;\n",
       "}\n",
       "\n",
       ".user-set td i,\n",
       ".default td i {\n",
       "    color: black;\n",
       "}\n",
       "\n",
       ".copy-paste-icon {\n",
       "    background-image: url(data:image/svg+xml;base64,PHN2ZyB4bWxucz0iaHR0cDovL3d3dy53My5vcmcvMjAwMC9zdmciIHZpZXdCb3g9IjAgMCA0NDggNTEyIj48IS0tIUZvbnQgQXdlc29tZSBGcmVlIDYuNy4yIGJ5IEBmb250YXdlc29tZSAtIGh0dHBzOi8vZm9udGF3ZXNvbWUuY29tIExpY2Vuc2UgLSBodHRwczovL2ZvbnRhd2Vzb21lLmNvbS9saWNlbnNlL2ZyZWUgQ29weXJpZ2h0IDIwMjUgRm9udGljb25zLCBJbmMuLS0+PHBhdGggZD0iTTIwOCAwTDMzMi4xIDBjMTIuNyAwIDI0LjkgNS4xIDMzLjkgMTQuMWw2Ny45IDY3LjljOSA5IDE0LjEgMjEuMiAxNC4xIDMzLjlMNDQ4IDMzNmMwIDI2LjUtMjEuNSA0OC00OCA0OGwtMTkyIDBjLTI2LjUgMC00OC0yMS41LTQ4LTQ4bDAtMjg4YzAtMjYuNSAyMS41LTQ4IDQ4LTQ4ek00OCAxMjhsODAgMCAwIDY0LTY0IDAgMCAyNTYgMTkyIDAgMC0zMiA2NCAwIDAgNDhjMCAyNi41LTIxLjUgNDgtNDggNDhMNDggNTEyYy0yNi41IDAtNDgtMjEuNS00OC00OEwwIDE3NmMwLTI2LjUgMjEuNS00OCA0OC00OHoiLz48L3N2Zz4=);\n",
       "    background-repeat: no-repeat;\n",
       "    background-size: 14px 14px;\n",
       "    background-position: 0;\n",
       "    display: inline-block;\n",
       "    width: 14px;\n",
       "    height: 14px;\n",
       "    cursor: pointer;\n",
       "}\n",
       "</style><body><div id=\"sk-container-id-1\" class=\"sk-top-container\"><div class=\"sk-text-repr-fallback\"><pre>ColumnTransformer(transformers=[(&#x27;OneHotEncoder&#x27;, OneHotEncoder(drop=&#x27;first&#x27;),\n",
       "                                 Index([&#x27;gender&#x27;, &#x27;marital_status&#x27;, &#x27;occupation&#x27;, &#x27;type_of_contact&#x27;,\n",
       "       &#x27;product_pitched&#x27;, &#x27;designation&#x27;],\n",
       "      dtype=&#x27;object&#x27;)),\n",
       "                                (&#x27;StandardScaler&#x27;, StandardScaler(),\n",
       "                                 Index([&#x27;age&#x27;, &#x27;city_tier&#x27;, &#x27;monthly_income&#x27;, &#x27;no_of_person_visiting&#x27;,\n",
       "       &#x27;no_of_followups&#x27;, &#x27;duration_of_pitch&#x27;, &#x27;pitch_satisfaction_score&#x27;,\n",
       "       &#x27;preferred_property_star&#x27;, &#x27;no_of_trips&#x27;, &#x27;passport&#x27;, &#x27;car_owner&#x27;],\n",
       "      dtype=&#x27;object&#x27;))])</pre><b>In a Jupyter environment, please rerun this cell to show the HTML representation or trust the notebook. <br />On GitHub, the HTML representation is unable to render, please try loading this page with nbviewer.org.</b></div><div class=\"sk-container\" hidden><div class=\"sk-item sk-dashed-wrapped\"><div class=\"sk-label-container\"><div class=\"sk-label  sk-toggleable\"><input class=\"sk-toggleable__control sk-hidden--visually\" id=\"sk-estimator-id-1\" type=\"checkbox\" ><label for=\"sk-estimator-id-1\" class=\"sk-toggleable__label  sk-toggleable__label-arrow\"><div><div>ColumnTransformer</div></div><div><a class=\"sk-estimator-doc-link \" rel=\"noreferrer\" target=\"_blank\" href=\"https://scikit-learn.org/1.7/modules/generated/sklearn.compose.ColumnTransformer.html\">?<span>Documentation for ColumnTransformer</span></a><span class=\"sk-estimator-doc-link \">i<span>Not fitted</span></span></div></label><div class=\"sk-toggleable__content \" data-param-prefix=\"\">\n",
       "        <div class=\"estimator-table\">\n",
       "            <details>\n",
       "                <summary>Parameters</summary>\n",
       "                <table class=\"parameters-table\">\n",
       "                  <tbody>\n",
       "                    \n",
       "        <tr class=\"user-set\">\n",
       "            <td><i class=\"copy-paste-icon\"\n",
       "                 onclick=\"copyToClipboard('transformers',\n",
       "                          this.parentElement.nextElementSibling)\"\n",
       "            ></i></td>\n",
       "            <td class=\"param\">transformers&nbsp;</td>\n",
       "            <td class=\"value\">[(&#x27;OneHotEncoder&#x27;, ...), (&#x27;StandardScaler&#x27;, ...)]</td>\n",
       "        </tr>\n",
       "    \n",
       "\n",
       "        <tr class=\"default\">\n",
       "            <td><i class=\"copy-paste-icon\"\n",
       "                 onclick=\"copyToClipboard('remainder',\n",
       "                          this.parentElement.nextElementSibling)\"\n",
       "            ></i></td>\n",
       "            <td class=\"param\">remainder&nbsp;</td>\n",
       "            <td class=\"value\">&#x27;drop&#x27;</td>\n",
       "        </tr>\n",
       "    \n",
       "\n",
       "        <tr class=\"default\">\n",
       "            <td><i class=\"copy-paste-icon\"\n",
       "                 onclick=\"copyToClipboard('sparse_threshold',\n",
       "                          this.parentElement.nextElementSibling)\"\n",
       "            ></i></td>\n",
       "            <td class=\"param\">sparse_threshold&nbsp;</td>\n",
       "            <td class=\"value\">0.3</td>\n",
       "        </tr>\n",
       "    \n",
       "\n",
       "        <tr class=\"default\">\n",
       "            <td><i class=\"copy-paste-icon\"\n",
       "                 onclick=\"copyToClipboard('n_jobs',\n",
       "                          this.parentElement.nextElementSibling)\"\n",
       "            ></i></td>\n",
       "            <td class=\"param\">n_jobs&nbsp;</td>\n",
       "            <td class=\"value\">None</td>\n",
       "        </tr>\n",
       "    \n",
       "\n",
       "        <tr class=\"default\">\n",
       "            <td><i class=\"copy-paste-icon\"\n",
       "                 onclick=\"copyToClipboard('transformer_weights',\n",
       "                          this.parentElement.nextElementSibling)\"\n",
       "            ></i></td>\n",
       "            <td class=\"param\">transformer_weights&nbsp;</td>\n",
       "            <td class=\"value\">None</td>\n",
       "        </tr>\n",
       "    \n",
       "\n",
       "        <tr class=\"default\">\n",
       "            <td><i class=\"copy-paste-icon\"\n",
       "                 onclick=\"copyToClipboard('verbose',\n",
       "                          this.parentElement.nextElementSibling)\"\n",
       "            ></i></td>\n",
       "            <td class=\"param\">verbose&nbsp;</td>\n",
       "            <td class=\"value\">False</td>\n",
       "        </tr>\n",
       "    \n",
       "\n",
       "        <tr class=\"default\">\n",
       "            <td><i class=\"copy-paste-icon\"\n",
       "                 onclick=\"copyToClipboard('verbose_feature_names_out',\n",
       "                          this.parentElement.nextElementSibling)\"\n",
       "            ></i></td>\n",
       "            <td class=\"param\">verbose_feature_names_out&nbsp;</td>\n",
       "            <td class=\"value\">True</td>\n",
       "        </tr>\n",
       "    \n",
       "\n",
       "        <tr class=\"default\">\n",
       "            <td><i class=\"copy-paste-icon\"\n",
       "                 onclick=\"copyToClipboard('force_int_remainder_cols',\n",
       "                          this.parentElement.nextElementSibling)\"\n",
       "            ></i></td>\n",
       "            <td class=\"param\">force_int_remainder_cols&nbsp;</td>\n",
       "            <td class=\"value\">&#x27;deprecated&#x27;</td>\n",
       "        </tr>\n",
       "    \n",
       "                  </tbody>\n",
       "                </table>\n",
       "            </details>\n",
       "        </div>\n",
       "    </div></div></div><div class=\"sk-parallel\"><div class=\"sk-parallel-item\"><div class=\"sk-item\"><div class=\"sk-label-container\"><div class=\"sk-label  sk-toggleable\"><input class=\"sk-toggleable__control sk-hidden--visually\" id=\"sk-estimator-id-2\" type=\"checkbox\" ><label for=\"sk-estimator-id-2\" class=\"sk-toggleable__label  sk-toggleable__label-arrow\"><div><div>OneHotEncoder</div></div></label><div class=\"sk-toggleable__content \" data-param-prefix=\"OneHotEncoder__\"><pre>Index([&#x27;gender&#x27;, &#x27;marital_status&#x27;, &#x27;occupation&#x27;, &#x27;type_of_contact&#x27;,\n",
       "       &#x27;product_pitched&#x27;, &#x27;designation&#x27;],\n",
       "      dtype=&#x27;object&#x27;)</pre></div></div></div><div class=\"sk-serial\"><div class=\"sk-item\"><div class=\"sk-estimator  sk-toggleable\"><input class=\"sk-toggleable__control sk-hidden--visually\" id=\"sk-estimator-id-3\" type=\"checkbox\" ><label for=\"sk-estimator-id-3\" class=\"sk-toggleable__label  sk-toggleable__label-arrow\"><div><div>OneHotEncoder</div></div><div><a class=\"sk-estimator-doc-link \" rel=\"noreferrer\" target=\"_blank\" href=\"https://scikit-learn.org/1.7/modules/generated/sklearn.preprocessing.OneHotEncoder.html\">?<span>Documentation for OneHotEncoder</span></a></div></label><div class=\"sk-toggleable__content \" data-param-prefix=\"OneHotEncoder__\">\n",
       "        <div class=\"estimator-table\">\n",
       "            <details>\n",
       "                <summary>Parameters</summary>\n",
       "                <table class=\"parameters-table\">\n",
       "                  <tbody>\n",
       "                    \n",
       "        <tr class=\"default\">\n",
       "            <td><i class=\"copy-paste-icon\"\n",
       "                 onclick=\"copyToClipboard('categories',\n",
       "                          this.parentElement.nextElementSibling)\"\n",
       "            ></i></td>\n",
       "            <td class=\"param\">categories&nbsp;</td>\n",
       "            <td class=\"value\">&#x27;auto&#x27;</td>\n",
       "        </tr>\n",
       "    \n",
       "\n",
       "        <tr class=\"user-set\">\n",
       "            <td><i class=\"copy-paste-icon\"\n",
       "                 onclick=\"copyToClipboard('drop',\n",
       "                          this.parentElement.nextElementSibling)\"\n",
       "            ></i></td>\n",
       "            <td class=\"param\">drop&nbsp;</td>\n",
       "            <td class=\"value\">&#x27;first&#x27;</td>\n",
       "        </tr>\n",
       "    \n",
       "\n",
       "        <tr class=\"default\">\n",
       "            <td><i class=\"copy-paste-icon\"\n",
       "                 onclick=\"copyToClipboard('sparse_output',\n",
       "                          this.parentElement.nextElementSibling)\"\n",
       "            ></i></td>\n",
       "            <td class=\"param\">sparse_output&nbsp;</td>\n",
       "            <td class=\"value\">True</td>\n",
       "        </tr>\n",
       "    \n",
       "\n",
       "        <tr class=\"default\">\n",
       "            <td><i class=\"copy-paste-icon\"\n",
       "                 onclick=\"copyToClipboard('dtype',\n",
       "                          this.parentElement.nextElementSibling)\"\n",
       "            ></i></td>\n",
       "            <td class=\"param\">dtype&nbsp;</td>\n",
       "            <td class=\"value\">&lt;class &#x27;numpy.float64&#x27;&gt;</td>\n",
       "        </tr>\n",
       "    \n",
       "\n",
       "        <tr class=\"default\">\n",
       "            <td><i class=\"copy-paste-icon\"\n",
       "                 onclick=\"copyToClipboard('handle_unknown',\n",
       "                          this.parentElement.nextElementSibling)\"\n",
       "            ></i></td>\n",
       "            <td class=\"param\">handle_unknown&nbsp;</td>\n",
       "            <td class=\"value\">&#x27;error&#x27;</td>\n",
       "        </tr>\n",
       "    \n",
       "\n",
       "        <tr class=\"default\">\n",
       "            <td><i class=\"copy-paste-icon\"\n",
       "                 onclick=\"copyToClipboard('min_frequency',\n",
       "                          this.parentElement.nextElementSibling)\"\n",
       "            ></i></td>\n",
       "            <td class=\"param\">min_frequency&nbsp;</td>\n",
       "            <td class=\"value\">None</td>\n",
       "        </tr>\n",
       "    \n",
       "\n",
       "        <tr class=\"default\">\n",
       "            <td><i class=\"copy-paste-icon\"\n",
       "                 onclick=\"copyToClipboard('max_categories',\n",
       "                          this.parentElement.nextElementSibling)\"\n",
       "            ></i></td>\n",
       "            <td class=\"param\">max_categories&nbsp;</td>\n",
       "            <td class=\"value\">None</td>\n",
       "        </tr>\n",
       "    \n",
       "\n",
       "        <tr class=\"default\">\n",
       "            <td><i class=\"copy-paste-icon\"\n",
       "                 onclick=\"copyToClipboard('feature_name_combiner',\n",
       "                          this.parentElement.nextElementSibling)\"\n",
       "            ></i></td>\n",
       "            <td class=\"param\">feature_name_combiner&nbsp;</td>\n",
       "            <td class=\"value\">&#x27;concat&#x27;</td>\n",
       "        </tr>\n",
       "    \n",
       "                  </tbody>\n",
       "                </table>\n",
       "            </details>\n",
       "        </div>\n",
       "    </div></div></div></div></div></div><div class=\"sk-parallel-item\"><div class=\"sk-item\"><div class=\"sk-label-container\"><div class=\"sk-label  sk-toggleable\"><input class=\"sk-toggleable__control sk-hidden--visually\" id=\"sk-estimator-id-4\" type=\"checkbox\" ><label for=\"sk-estimator-id-4\" class=\"sk-toggleable__label  sk-toggleable__label-arrow\"><div><div>StandardScaler</div></div></label><div class=\"sk-toggleable__content \" data-param-prefix=\"StandardScaler__\"><pre>Index([&#x27;age&#x27;, &#x27;city_tier&#x27;, &#x27;monthly_income&#x27;, &#x27;no_of_person_visiting&#x27;,\n",
       "       &#x27;no_of_followups&#x27;, &#x27;duration_of_pitch&#x27;, &#x27;pitch_satisfaction_score&#x27;,\n",
       "       &#x27;preferred_property_star&#x27;, &#x27;no_of_trips&#x27;, &#x27;passport&#x27;, &#x27;car_owner&#x27;],\n",
       "      dtype=&#x27;object&#x27;)</pre></div></div></div><div class=\"sk-serial\"><div class=\"sk-item\"><div class=\"sk-estimator  sk-toggleable\"><input class=\"sk-toggleable__control sk-hidden--visually\" id=\"sk-estimator-id-5\" type=\"checkbox\" ><label for=\"sk-estimator-id-5\" class=\"sk-toggleable__label  sk-toggleable__label-arrow\"><div><div>StandardScaler</div></div><div><a class=\"sk-estimator-doc-link \" rel=\"noreferrer\" target=\"_blank\" href=\"https://scikit-learn.org/1.7/modules/generated/sklearn.preprocessing.StandardScaler.html\">?<span>Documentation for StandardScaler</span></a></div></label><div class=\"sk-toggleable__content \" data-param-prefix=\"StandardScaler__\">\n",
       "        <div class=\"estimator-table\">\n",
       "            <details>\n",
       "                <summary>Parameters</summary>\n",
       "                <table class=\"parameters-table\">\n",
       "                  <tbody>\n",
       "                    \n",
       "        <tr class=\"default\">\n",
       "            <td><i class=\"copy-paste-icon\"\n",
       "                 onclick=\"copyToClipboard('copy',\n",
       "                          this.parentElement.nextElementSibling)\"\n",
       "            ></i></td>\n",
       "            <td class=\"param\">copy&nbsp;</td>\n",
       "            <td class=\"value\">True</td>\n",
       "        </tr>\n",
       "    \n",
       "\n",
       "        <tr class=\"default\">\n",
       "            <td><i class=\"copy-paste-icon\"\n",
       "                 onclick=\"copyToClipboard('with_mean',\n",
       "                          this.parentElement.nextElementSibling)\"\n",
       "            ></i></td>\n",
       "            <td class=\"param\">with_mean&nbsp;</td>\n",
       "            <td class=\"value\">True</td>\n",
       "        </tr>\n",
       "    \n",
       "\n",
       "        <tr class=\"default\">\n",
       "            <td><i class=\"copy-paste-icon\"\n",
       "                 onclick=\"copyToClipboard('with_std',\n",
       "                          this.parentElement.nextElementSibling)\"\n",
       "            ></i></td>\n",
       "            <td class=\"param\">with_std&nbsp;</td>\n",
       "            <td class=\"value\">True</td>\n",
       "        </tr>\n",
       "    \n",
       "                  </tbody>\n",
       "                </table>\n",
       "            </details>\n",
       "        </div>\n",
       "    </div></div></div></div></div></div></div></div></div></div><script>function copyToClipboard(text, element) {\n",
       "    // Get the parameter prefix from the closest toggleable content\n",
       "    const toggleableContent = element.closest('.sk-toggleable__content');\n",
       "    const paramPrefix = toggleableContent ? toggleableContent.dataset.paramPrefix : '';\n",
       "    const fullParamName = paramPrefix ? `${paramPrefix}${text}` : text;\n",
       "\n",
       "    const originalStyle = element.style;\n",
       "    const computedStyle = window.getComputedStyle(element);\n",
       "    const originalWidth = computedStyle.width;\n",
       "    const originalHTML = element.innerHTML.replace('Copied!', '');\n",
       "\n",
       "    navigator.clipboard.writeText(fullParamName)\n",
       "        .then(() => {\n",
       "            element.style.width = originalWidth;\n",
       "            element.style.color = 'green';\n",
       "            element.innerHTML = \"Copied!\";\n",
       "\n",
       "            setTimeout(() => {\n",
       "                element.innerHTML = originalHTML;\n",
       "                element.style = originalStyle;\n",
       "            }, 2000);\n",
       "        })\n",
       "        .catch(err => {\n",
       "            console.error('Failed to copy:', err);\n",
       "            element.style.color = 'red';\n",
       "            element.innerHTML = \"Failed!\";\n",
       "            setTimeout(() => {\n",
       "                element.innerHTML = originalHTML;\n",
       "                element.style = originalStyle;\n",
       "            }, 2000);\n",
       "        });\n",
       "    return false;\n",
       "}\n",
       "\n",
       "document.querySelectorAll('.fa-regular.fa-copy').forEach(function(element) {\n",
       "    const toggleableContent = element.closest('.sk-toggleable__content');\n",
       "    const paramPrefix = toggleableContent ? toggleableContent.dataset.paramPrefix : '';\n",
       "    const paramName = element.parentElement.nextElementSibling.textContent.trim();\n",
       "    const fullParamName = paramPrefix ? `${paramPrefix}${paramName}` : paramName;\n",
       "\n",
       "    element.setAttribute('title', fullParamName);\n",
       "});\n",
       "</script></body>"
      ],
      "text/plain": [
       "ColumnTransformer(transformers=[('OneHotEncoder', OneHotEncoder(drop='first'),\n",
       "                                 Index(['gender', 'marital_status', 'occupation', 'type_of_contact',\n",
       "       'product_pitched', 'designation'],\n",
       "      dtype='object')),\n",
       "                                ('StandardScaler', StandardScaler(),\n",
       "                                 Index(['age', 'city_tier', 'monthly_income', 'no_of_person_visiting',\n",
       "       'no_of_followups', 'duration_of_pitch', 'pitch_satisfaction_score',\n",
       "       'preferred_property_star', 'no_of_trips', 'passport', 'car_owner'],\n",
       "      dtype='object'))])"
      ]
     },
     "execution_count": 120,
     "metadata": {},
     "output_type": "execute_result"
    }
   ],
   "source": [
    "preprocessor"
   ]
  },
  {
   "cell_type": "markdown",
   "id": "c45bd87d",
   "metadata": {},
   "source": [
    "### Apply Transformation"
   ]
  },
  {
   "cell_type": "code",
   "execution_count": 121,
   "id": "0be5f5a3",
   "metadata": {},
   "outputs": [],
   "source": [
    "X_train = preprocessor.fit_transform(X_train)"
   ]
  },
  {
   "cell_type": "code",
   "execution_count": 122,
   "id": "fe1c62c8",
   "metadata": {},
   "outputs": [
    {
     "data": {
      "text/plain": [
       "array([[ 1.        ,  0.        ,  1.        , ..., -0.12773678,\n",
       "        -0.63239892,  0.78296635],\n",
       "       [ 1.        ,  1.        ,  0.        , ...,  1.51159843,\n",
       "        -0.63239892,  0.78296635],\n",
       "       [ 0.        ,  0.        ,  0.        , ...,  0.41870829,\n",
       "        -0.63239892,  0.78296635],\n",
       "       ...,\n",
       "       [ 0.        ,  0.        ,  0.        , ...,  2.05804349,\n",
       "        -0.63239892,  0.78296635],\n",
       "       [ 0.        ,  1.        ,  0.        , ..., -0.12773678,\n",
       "        -0.63239892,  0.78296635],\n",
       "       [ 1.        ,  0.        ,  0.        , ..., -1.22062691,\n",
       "         1.58128038, -1.2771941 ]], shape=(3910, 26))"
      ]
     },
     "execution_count": 122,
     "metadata": {},
     "output_type": "execute_result"
    }
   ],
   "source": [
    "X_train"
   ]
  },
  {
   "cell_type": "code",
   "execution_count": 123,
   "id": "0ec9d40a",
   "metadata": {},
   "outputs": [],
   "source": [
    "X_train = pd.DataFrame(X_train)"
   ]
  },
  {
   "cell_type": "code",
   "execution_count": 124,
   "id": "32d38009",
   "metadata": {},
   "outputs": [
    {
     "data": {
      "text/html": [
       "<div>\n",
       "<style scoped>\n",
       "    .dataframe tbody tr th:only-of-type {\n",
       "        vertical-align: middle;\n",
       "    }\n",
       "\n",
       "    .dataframe tbody tr th {\n",
       "        vertical-align: top;\n",
       "    }\n",
       "\n",
       "    .dataframe thead th {\n",
       "        text-align: right;\n",
       "    }\n",
       "</style>\n",
       "<table border=\"1\" class=\"dataframe\">\n",
       "  <thead>\n",
       "    <tr style=\"text-align: right;\">\n",
       "      <th></th>\n",
       "      <th>0</th>\n",
       "      <th>1</th>\n",
       "      <th>2</th>\n",
       "      <th>3</th>\n",
       "      <th>4</th>\n",
       "      <th>5</th>\n",
       "      <th>6</th>\n",
       "      <th>7</th>\n",
       "      <th>8</th>\n",
       "      <th>9</th>\n",
       "      <th>...</th>\n",
       "      <th>16</th>\n",
       "      <th>17</th>\n",
       "      <th>18</th>\n",
       "      <th>19</th>\n",
       "      <th>20</th>\n",
       "      <th>21</th>\n",
       "      <th>22</th>\n",
       "      <th>23</th>\n",
       "      <th>24</th>\n",
       "      <th>25</th>\n",
       "    </tr>\n",
       "  </thead>\n",
       "  <tbody>\n",
       "    <tr>\n",
       "      <th>0</th>\n",
       "      <td>1.0</td>\n",
       "      <td>0.0</td>\n",
       "      <td>1.0</td>\n",
       "      <td>0.0</td>\n",
       "      <td>0.0</td>\n",
       "      <td>1.0</td>\n",
       "      <td>1.0</td>\n",
       "      <td>0.0</td>\n",
       "      <td>0.0</td>\n",
       "      <td>0.0</td>\n",
       "      <td>...</td>\n",
       "      <td>-0.721400</td>\n",
       "      <td>-0.382245</td>\n",
       "      <td>-0.774151</td>\n",
       "      <td>1.284279</td>\n",
       "      <td>-1.020350</td>\n",
       "      <td>0.679690</td>\n",
       "      <td>-0.725271</td>\n",
       "      <td>-0.127737</td>\n",
       "      <td>-0.632399</td>\n",
       "      <td>0.782966</td>\n",
       "    </tr>\n",
       "    <tr>\n",
       "      <th>1</th>\n",
       "      <td>1.0</td>\n",
       "      <td>1.0</td>\n",
       "      <td>0.0</td>\n",
       "      <td>0.0</td>\n",
       "      <td>1.0</td>\n",
       "      <td>0.0</td>\n",
       "      <td>1.0</td>\n",
       "      <td>0.0</td>\n",
       "      <td>0.0</td>\n",
       "      <td>0.0</td>\n",
       "      <td>...</td>\n",
       "      <td>-0.721400</td>\n",
       "      <td>-0.459799</td>\n",
       "      <td>0.643615</td>\n",
       "      <td>0.282777</td>\n",
       "      <td>0.690023</td>\n",
       "      <td>0.679690</td>\n",
       "      <td>-0.725271</td>\n",
       "      <td>1.511598</td>\n",
       "      <td>-0.632399</td>\n",
       "      <td>0.782966</td>\n",
       "    </tr>\n",
       "    <tr>\n",
       "      <th>2</th>\n",
       "      <td>0.0</td>\n",
       "      <td>0.0</td>\n",
       "      <td>0.0</td>\n",
       "      <td>1.0</td>\n",
       "      <td>0.0</td>\n",
       "      <td>0.0</td>\n",
       "      <td>1.0</td>\n",
       "      <td>0.0</td>\n",
       "      <td>0.0</td>\n",
       "      <td>0.0</td>\n",
       "      <td>...</td>\n",
       "      <td>-0.721400</td>\n",
       "      <td>-0.245196</td>\n",
       "      <td>-0.065268</td>\n",
       "      <td>0.282777</td>\n",
       "      <td>-1.020350</td>\n",
       "      <td>0.679690</td>\n",
       "      <td>1.771041</td>\n",
       "      <td>0.418708</td>\n",
       "      <td>-0.632399</td>\n",
       "      <td>0.782966</td>\n",
       "    </tr>\n",
       "    <tr>\n",
       "      <th>3</th>\n",
       "      <td>1.0</td>\n",
       "      <td>1.0</td>\n",
       "      <td>0.0</td>\n",
       "      <td>0.0</td>\n",
       "      <td>1.0</td>\n",
       "      <td>0.0</td>\n",
       "      <td>1.0</td>\n",
       "      <td>1.0</td>\n",
       "      <td>0.0</td>\n",
       "      <td>0.0</td>\n",
       "      <td>...</td>\n",
       "      <td>-0.721400</td>\n",
       "      <td>0.213475</td>\n",
       "      <td>-0.065268</td>\n",
       "      <td>1.284279</td>\n",
       "      <td>-1.020350</td>\n",
       "      <td>1.408395</td>\n",
       "      <td>-0.725271</td>\n",
       "      <td>-0.127737</td>\n",
       "      <td>-0.632399</td>\n",
       "      <td>-1.277194</td>\n",
       "    </tr>\n",
       "    <tr>\n",
       "      <th>4</th>\n",
       "      <td>0.0</td>\n",
       "      <td>0.0</td>\n",
       "      <td>1.0</td>\n",
       "      <td>0.0</td>\n",
       "      <td>0.0</td>\n",
       "      <td>1.0</td>\n",
       "      <td>0.0</td>\n",
       "      <td>0.0</td>\n",
       "      <td>0.0</td>\n",
       "      <td>0.0</td>\n",
       "      <td>...</td>\n",
       "      <td>-0.721400</td>\n",
       "      <td>-0.024889</td>\n",
       "      <td>2.061382</td>\n",
       "      <td>-1.720227</td>\n",
       "      <td>2.400396</td>\n",
       "      <td>-0.049015</td>\n",
       "      <td>-0.725271</td>\n",
       "      <td>1.511598</td>\n",
       "      <td>-0.632399</td>\n",
       "      <td>-1.277194</td>\n",
       "    </tr>\n",
       "    <tr>\n",
       "      <th>...</th>\n",
       "      <td>...</td>\n",
       "      <td>...</td>\n",
       "      <td>...</td>\n",
       "      <td>...</td>\n",
       "      <td>...</td>\n",
       "      <td>...</td>\n",
       "      <td>...</td>\n",
       "      <td>...</td>\n",
       "      <td>...</td>\n",
       "      <td>...</td>\n",
       "      <td>...</td>\n",
       "      <td>...</td>\n",
       "      <td>...</td>\n",
       "      <td>...</td>\n",
       "      <td>...</td>\n",
       "      <td>...</td>\n",
       "      <td>...</td>\n",
       "      <td>...</td>\n",
       "      <td>...</td>\n",
       "      <td>...</td>\n",
       "      <td>...</td>\n",
       "    </tr>\n",
       "    <tr>\n",
       "      <th>3905</th>\n",
       "      <td>1.0</td>\n",
       "      <td>0.0</td>\n",
       "      <td>1.0</td>\n",
       "      <td>0.0</td>\n",
       "      <td>0.0</td>\n",
       "      <td>1.0</td>\n",
       "      <td>1.0</td>\n",
       "      <td>0.0</td>\n",
       "      <td>0.0</td>\n",
       "      <td>0.0</td>\n",
       "      <td>...</td>\n",
       "      <td>-0.721400</td>\n",
       "      <td>-0.536973</td>\n",
       "      <td>0.643615</td>\n",
       "      <td>1.284279</td>\n",
       "      <td>-0.653841</td>\n",
       "      <td>-1.506426</td>\n",
       "      <td>-0.725271</td>\n",
       "      <td>-0.674182</td>\n",
       "      <td>-0.632399</td>\n",
       "      <td>0.782966</td>\n",
       "    </tr>\n",
       "    <tr>\n",
       "      <th>3906</th>\n",
       "      <td>0.0</td>\n",
       "      <td>0.0</td>\n",
       "      <td>0.0</td>\n",
       "      <td>0.0</td>\n",
       "      <td>1.0</td>\n",
       "      <td>0.0</td>\n",
       "      <td>1.0</td>\n",
       "      <td>0.0</td>\n",
       "      <td>0.0</td>\n",
       "      <td>0.0</td>\n",
       "      <td>...</td>\n",
       "      <td>1.455047</td>\n",
       "      <td>1.529609</td>\n",
       "      <td>-0.065268</td>\n",
       "      <td>-0.718725</td>\n",
       "      <td>-0.898180</td>\n",
       "      <td>1.408395</td>\n",
       "      <td>1.771041</td>\n",
       "      <td>-1.220627</td>\n",
       "      <td>-0.632399</td>\n",
       "      <td>0.782966</td>\n",
       "    </tr>\n",
       "    <tr>\n",
       "      <th>3907</th>\n",
       "      <td>0.0</td>\n",
       "      <td>0.0</td>\n",
       "      <td>0.0</td>\n",
       "      <td>0.0</td>\n",
       "      <td>0.0</td>\n",
       "      <td>1.0</td>\n",
       "      <td>0.0</td>\n",
       "      <td>0.0</td>\n",
       "      <td>0.0</td>\n",
       "      <td>0.0</td>\n",
       "      <td>...</td>\n",
       "      <td>1.455047</td>\n",
       "      <td>-0.360576</td>\n",
       "      <td>0.643615</td>\n",
       "      <td>0.282777</td>\n",
       "      <td>1.545210</td>\n",
       "      <td>-0.777720</td>\n",
       "      <td>-0.725271</td>\n",
       "      <td>2.058043</td>\n",
       "      <td>-0.632399</td>\n",
       "      <td>0.782966</td>\n",
       "    </tr>\n",
       "    <tr>\n",
       "      <th>3908</th>\n",
       "      <td>0.0</td>\n",
       "      <td>1.0</td>\n",
       "      <td>0.0</td>\n",
       "      <td>0.0</td>\n",
       "      <td>0.0</td>\n",
       "      <td>1.0</td>\n",
       "      <td>1.0</td>\n",
       "      <td>1.0</td>\n",
       "      <td>0.0</td>\n",
       "      <td>0.0</td>\n",
       "      <td>...</td>\n",
       "      <td>1.455047</td>\n",
       "      <td>-0.252799</td>\n",
       "      <td>0.643615</td>\n",
       "      <td>1.284279</td>\n",
       "      <td>1.789549</td>\n",
       "      <td>-1.506426</td>\n",
       "      <td>-0.725271</td>\n",
       "      <td>-0.127737</td>\n",
       "      <td>-0.632399</td>\n",
       "      <td>0.782966</td>\n",
       "    </tr>\n",
       "    <tr>\n",
       "      <th>3909</th>\n",
       "      <td>1.0</td>\n",
       "      <td>0.0</td>\n",
       "      <td>0.0</td>\n",
       "      <td>0.0</td>\n",
       "      <td>1.0</td>\n",
       "      <td>0.0</td>\n",
       "      <td>0.0</td>\n",
       "      <td>0.0</td>\n",
       "      <td>0.0</td>\n",
       "      <td>0.0</td>\n",
       "      <td>...</td>\n",
       "      <td>-0.721400</td>\n",
       "      <td>-1.082511</td>\n",
       "      <td>-1.483035</td>\n",
       "      <td>0.282777</td>\n",
       "      <td>-0.776011</td>\n",
       "      <td>-0.049015</td>\n",
       "      <td>-0.725271</td>\n",
       "      <td>-1.220627</td>\n",
       "      <td>1.581280</td>\n",
       "      <td>-1.277194</td>\n",
       "    </tr>\n",
       "  </tbody>\n",
       "</table>\n",
       "<p>3910 rows × 26 columns</p>\n",
       "</div>"
      ],
      "text/plain": [
       "       0    1    2    3    4    5    6    7    8    9   ...        16  \\\n",
       "0     1.0  0.0  1.0  0.0  0.0  1.0  1.0  0.0  0.0  0.0  ... -0.721400   \n",
       "1     1.0  1.0  0.0  0.0  1.0  0.0  1.0  0.0  0.0  0.0  ... -0.721400   \n",
       "2     0.0  0.0  0.0  1.0  0.0  0.0  1.0  0.0  0.0  0.0  ... -0.721400   \n",
       "3     1.0  1.0  0.0  0.0  1.0  0.0  1.0  1.0  0.0  0.0  ... -0.721400   \n",
       "4     0.0  0.0  1.0  0.0  0.0  1.0  0.0  0.0  0.0  0.0  ... -0.721400   \n",
       "...   ...  ...  ...  ...  ...  ...  ...  ...  ...  ...  ...       ...   \n",
       "3905  1.0  0.0  1.0  0.0  0.0  1.0  1.0  0.0  0.0  0.0  ... -0.721400   \n",
       "3906  0.0  0.0  0.0  0.0  1.0  0.0  1.0  0.0  0.0  0.0  ...  1.455047   \n",
       "3907  0.0  0.0  0.0  0.0  0.0  1.0  0.0  0.0  0.0  0.0  ...  1.455047   \n",
       "3908  0.0  1.0  0.0  0.0  0.0  1.0  1.0  1.0  0.0  0.0  ...  1.455047   \n",
       "3909  1.0  0.0  0.0  0.0  1.0  0.0  0.0  0.0  0.0  0.0  ... -0.721400   \n",
       "\n",
       "            17        18        19        20        21        22        23  \\\n",
       "0    -0.382245 -0.774151  1.284279 -1.020350  0.679690 -0.725271 -0.127737   \n",
       "1    -0.459799  0.643615  0.282777  0.690023  0.679690 -0.725271  1.511598   \n",
       "2    -0.245196 -0.065268  0.282777 -1.020350  0.679690  1.771041  0.418708   \n",
       "3     0.213475 -0.065268  1.284279 -1.020350  1.408395 -0.725271 -0.127737   \n",
       "4    -0.024889  2.061382 -1.720227  2.400396 -0.049015 -0.725271  1.511598   \n",
       "...        ...       ...       ...       ...       ...       ...       ...   \n",
       "3905 -0.536973  0.643615  1.284279 -0.653841 -1.506426 -0.725271 -0.674182   \n",
       "3906  1.529609 -0.065268 -0.718725 -0.898180  1.408395  1.771041 -1.220627   \n",
       "3907 -0.360576  0.643615  0.282777  1.545210 -0.777720 -0.725271  2.058043   \n",
       "3908 -0.252799  0.643615  1.284279  1.789549 -1.506426 -0.725271 -0.127737   \n",
       "3909 -1.082511 -1.483035  0.282777 -0.776011 -0.049015 -0.725271 -1.220627   \n",
       "\n",
       "            24        25  \n",
       "0    -0.632399  0.782966  \n",
       "1    -0.632399  0.782966  \n",
       "2    -0.632399  0.782966  \n",
       "3    -0.632399 -1.277194  \n",
       "4    -0.632399 -1.277194  \n",
       "...        ...       ...  \n",
       "3905 -0.632399  0.782966  \n",
       "3906 -0.632399  0.782966  \n",
       "3907 -0.632399  0.782966  \n",
       "3908 -0.632399  0.782966  \n",
       "3909  1.581280 -1.277194  \n",
       "\n",
       "[3910 rows x 26 columns]"
      ]
     },
     "execution_count": 124,
     "metadata": {},
     "output_type": "execute_result"
    }
   ],
   "source": [
    "X_train"
   ]
  },
  {
   "cell_type": "code",
   "execution_count": 125,
   "id": "7b2b45cc",
   "metadata": {},
   "outputs": [],
   "source": [
    "X_test = preprocessor.transform(X_test)"
   ]
  },
  {
   "cell_type": "code",
   "execution_count": 126,
   "id": "2c118c25",
   "metadata": {},
   "outputs": [
    {
     "data": {
      "text/plain": [
       "array([[ 1.        ,  1.        ,  0.        , ..., -1.22062691,\n",
       "        -0.63239892, -1.2771941 ],\n",
       "       [ 1.        ,  1.        ,  0.        , ..., -1.22062691,\n",
       "         1.58128038, -1.2771941 ],\n",
       "       [ 1.        ,  1.        ,  0.        , ...,  0.96515336,\n",
       "        -0.63239892,  0.78296635],\n",
       "       ...,\n",
       "       [ 1.        ,  1.        ,  0.        , ..., -0.67418184,\n",
       "         1.58128038,  0.78296635],\n",
       "       [ 1.        ,  0.        ,  0.        , ..., -0.67418184,\n",
       "        -0.63239892,  0.78296635],\n",
       "       [ 1.        ,  0.        ,  0.        , ..., -0.67418184,\n",
       "        -0.63239892,  0.78296635]], shape=(978, 26))"
      ]
     },
     "execution_count": 126,
     "metadata": {},
     "output_type": "execute_result"
    }
   ],
   "source": [
    "X_test"
   ]
  },
  {
   "cell_type": "markdown",
   "id": "6794c436",
   "metadata": {},
   "source": [
    "---"
   ]
  },
  {
   "cell_type": "markdown",
   "id": "484e9ece",
   "metadata": {},
   "source": [
    "---"
   ]
  },
  {
   "cell_type": "markdown",
   "id": "6042800c",
   "metadata": {},
   "source": [
    "---"
   ]
  },
  {
   "cell_type": "markdown",
   "id": "394e9486",
   "metadata": {},
   "source": [
    "# Training Models"
   ]
  },
  {
   "cell_type": "code",
   "execution_count": 145,
   "id": "b78d2588",
   "metadata": {},
   "outputs": [],
   "source": [
    "from sklearn.linear_model import LogisticRegression\n",
    "from sklearn.tree import DecisionTreeClassifier\n",
    "from sklearn.ensemble import RandomForestClassifier, AdaBoostClassifier, GradientBoostingClassifier"
   ]
  },
  {
   "cell_type": "code",
   "execution_count": 128,
   "id": "c2b90111",
   "metadata": {},
   "outputs": [],
   "source": [
    "from sklearn.metrics import accuracy_score, precision_score, recall_score, f1_score, roc_auc_score"
   ]
  },
  {
   "cell_type": "code",
   "execution_count": 146,
   "id": "d20fcfc4",
   "metadata": {},
   "outputs": [],
   "source": [
    "models = {\n",
    "    'Logistic Regression': LogisticRegression(),\n",
    "    'Decision Tree Classifier': DecisionTreeClassifier(),\n",
    "    'Random Forest Classifier': RandomForestClassifier(),\n",
    "    'AdaBoost Classifier': AdaBoostClassifier(),\n",
    "    'Gradient Boost Classifier': GradientBoostingClassifier()\n",
    "}"
   ]
  },
  {
   "cell_type": "markdown",
   "id": "070ca439",
   "metadata": {},
   "source": [
    "### Fit Models"
   ]
  },
  {
   "cell_type": "code",
   "execution_count": 147,
   "id": "0268945e",
   "metadata": {},
   "outputs": [
    {
     "name": "stdout",
     "output_type": "stream",
     "text": [
      "\n",
      "\n",
      "Logistic Regression\n",
      "\n",
      "\n",
      "Model Performance: Train Set\n",
      "- Accuracy Score: 0.8460\n",
      "- F1 Score: 0.8202\n",
      "- Precision Score: 0.7016\n",
      "- Recall Score: 0.3032\n",
      "- ROC AUC Score: 0.6368\n",
      "-----------------------------------\n",
      "Model Performance: Test Set\n",
      "- Accuracy Score: 0.8364\n",
      "- F1 Score: 0.8087\n",
      "- Precision Score: 0.6914\n",
      "- Recall Score: 0.2932\n",
      "- ROC AUC Score: 0.6307\n",
      "===================================\n",
      "\n",
      "\n",
      "\n",
      "\n",
      "Decision Tree Classifier\n",
      "\n",
      "\n",
      "Model Performance: Train Set\n",
      "- Accuracy Score: 1.0000\n",
      "- F1 Score: 1.0000\n",
      "- Precision Score: 1.0000\n",
      "- Recall Score: 1.0000\n",
      "- ROC AUC Score: 1.0000\n",
      "-----------------------------------\n",
      "Model Performance: Test Set\n",
      "- Accuracy Score: 0.9192\n",
      "- F1 Score: 0.9185\n",
      "- Precision Score: 0.8077\n",
      "- Recall Score: 0.7696\n",
      "- ROC AUC Score: 0.8626\n",
      "===================================\n",
      "\n",
      "\n",
      "\n",
      "\n",
      "Random Forest Classifier\n",
      "\n",
      "\n",
      "Model Performance: Train Set\n",
      "- Accuracy Score: 1.0000\n",
      "- F1 Score: 1.0000\n",
      "- Precision Score: 1.0000\n",
      "- Recall Score: 1.0000\n",
      "- ROC AUC Score: 1.0000\n",
      "-----------------------------------\n",
      "Model Performance: Test Set\n",
      "- Accuracy Score: 0.9274\n",
      "- F1 Score: 0.9216\n",
      "- Precision Score: 0.9688\n",
      "- Recall Score: 0.6492\n",
      "- ROC AUC Score: 0.8221\n",
      "===================================\n",
      "\n",
      "\n",
      "\n",
      "\n",
      "AdaBoost Classifier\n",
      "\n",
      "\n",
      "Model Performance: Train Set\n",
      "- Accuracy Score: 0.8478\n",
      "- F1 Score: 0.8146\n",
      "- Precision Score: 0.7815\n",
      "- Recall Score: 0.2551\n",
      "- ROC AUC Score: 0.6194\n",
      "-----------------------------------\n",
      "Model Performance: Test Set\n",
      "- Accuracy Score: 0.8354\n",
      "- F1 Score: 0.7987\n",
      "- Precision Score: 0.7500\n",
      "- Recall Score: 0.2356\n",
      "- ROC AUC Score: 0.6083\n",
      "===================================\n",
      "\n",
      "\n",
      "\n",
      "\n",
      "Gradient Boost Classifier\n",
      "\n",
      "\n",
      "Model Performance: Train Set\n",
      "- Accuracy Score: 0.8939\n",
      "- F1 Score: 0.8819\n",
      "- Precision Score: 0.8756\n",
      "- Recall Score: 0.5021\n",
      "- ROC AUC Score: 0.7429\n",
      "-----------------------------------\n",
      "Model Performance: Test Set\n",
      "- Accuracy Score: 0.8589\n",
      "- F1 Score: 0.8398\n",
      "- Precision Score: 0.7732\n",
      "- Recall Score: 0.3927\n",
      "- ROC AUC Score: 0.6824\n",
      "===================================\n",
      "\n",
      "\n"
     ]
    }
   ],
   "source": [
    "for i in range(len(list(models))):\n",
    "\n",
    "    print('\\n')\n",
    "    model = list(models.values())[i]\n",
    "    model.fit(X_train,y_train)\n",
    "\n",
    "\n",
    "    #Prediction\n",
    "    y_train_pred = model.predict(X_train)\n",
    "    y_test_pred = model.predict(X_test) \n",
    "\n",
    "\n",
    "    model_train_accuracy = accuracy_score(y_train, y_train_pred)\n",
    "    model_train_f1 = f1_score(y_train, y_train_pred, average='weighted')\n",
    "    model_train_precision = precision_score(y_train, y_train_pred)\n",
    "    model_train_recall = recall_score(y_train, y_train_pred)\n",
    "    model_train_roc_auc = roc_auc_score(y_train, y_train_pred)\n",
    "\n",
    "\n",
    "\n",
    "    model_test_accuracy = accuracy_score(y_test, y_test_pred)\n",
    "    model_test_f1 = f1_score(y_test, y_test_pred, average='weighted')\n",
    "    model_test_precision = precision_score(y_test, y_test_pred)\n",
    "    model_test_recall = recall_score(y_test, y_test_pred)\n",
    "    model_test_roc_auc = roc_auc_score(y_test, y_test_pred)\n",
    "\n",
    "\n",
    "\n",
    "    print(list(models.keys())[i])\n",
    "    print('\\n')\n",
    "\n",
    "    print('Model Performance: Train Set')\n",
    "    print('- Accuracy Score: {:.4f}'.format(model_train_accuracy))\n",
    "    print('- F1 Score: {:.4f}'.format(model_train_f1))\n",
    "    print('- Precision Score: {:.4f}'.format(model_train_precision))\n",
    "    print('- Recall Score: {:.4f}'.format(model_train_recall))\n",
    "    print('- ROC AUC Score: {:.4f}'.format(model_train_roc_auc))\n",
    "\n",
    "    print('-'*35)\n",
    "\n",
    "    print('Model Performance: Test Set')\n",
    "    print('- Accuracy Score: {:.4f}'.format(model_test_accuracy))\n",
    "    print('- F1 Score: {:.4f}'.format(model_test_f1))\n",
    "    print('- Precision Score: {:.4f}'.format(model_test_precision))\n",
    "    print('- Recall Score: {:.4f}'.format(model_test_recall))\n",
    "    print('- ROC AUC Score: {:.4f}'.format(model_test_roc_auc))\n",
    "\n",
    "\n",
    "    print('='*35)\n",
    "    print('\\n')"
   ]
  },
  {
   "cell_type": "markdown",
   "id": "d2b93546",
   "metadata": {},
   "source": [
    "---"
   ]
  },
  {
   "cell_type": "markdown",
   "id": "3ee4a95d",
   "metadata": {},
   "source": [
    "# Hyperparameter Tuning"
   ]
  },
  {
   "cell_type": "code",
   "execution_count": 131,
   "id": "9bff9ecd",
   "metadata": {},
   "outputs": [],
   "source": [
    "adb_params = {\n",
    "    'n_estimators':[50,60,70,80,90],\n",
    "    'algorithm':['SAMME','SAMME.R']\n",
    "}"
   ]
  },
  {
   "cell_type": "code",
   "execution_count": 133,
   "id": "bdbffa5c",
   "metadata": {},
   "outputs": [],
   "source": [
    "rf_params = {\n",
    "    'max_depth':[range(1,16), None],\n",
    "    'max_features': [range(1,9), 'sqrt', 'log2'],\n",
    "    'min_samples_split':[2,8,15,20],\n",
    "    'n_estimators':[100,200,500,1000]\n",
    "}"
   ]
  },
  {
   "cell_type": "code",
   "execution_count": 148,
   "id": "2aefb484",
   "metadata": {},
   "outputs": [],
   "source": [
    "gdb_params = {\n",
    "    'loss':['log_loss','exponential'],\n",
    "    'min_samples_split':[2,8,15,20],\n",
    "    'criterion':['friedman_mse','squared_error','mse'],\n",
    "    'n_estimators':[100,200,500,1000],\n",
    "    'max_depth':[None,range(5,16)]\n",
    "}"
   ]
  },
  {
   "cell_type": "code",
   "execution_count": 152,
   "id": "bb308cfc",
   "metadata": {},
   "outputs": [],
   "source": [
    "rscv_models = [\n",
    "    ('Random Forest Classifier', RandomForestClassifier(), rf_params),\n",
    "    ('AdaBoost Classifier', AdaBoostClassifier(), adb_params),\n",
    "    ('Gradient Boosting Classifier', GradientBoostingClassifier(), gdb_params)\n",
    "]"
   ]
  },
  {
   "cell_type": "code",
   "execution_count": 153,
   "id": "2a7c808e",
   "metadata": {},
   "outputs": [
    {
     "data": {
      "text/plain": [
       "[('Random Forest Classifier',\n",
       "  RandomForestClassifier(),\n",
       "  {'max_depth': [range(1, 16), None],\n",
       "   'max_features': [range(1, 9), 'sqrt', 'log2'],\n",
       "   'min_samples_split': [2, 8, 15, 20],\n",
       "   'n_estimators': [100, 200, 500, 1000]}),\n",
       " ('AdaBoost Classifier',\n",
       "  AdaBoostClassifier(),\n",
       "  {'n_estimators': [50, 60, 70, 80, 90], 'algorithm': ['SAMME', 'SAMME.R']}),\n",
       " ('Gradient Boosting Classifier',\n",
       "  GradientBoostingClassifier(),\n",
       "  {'loss': ['log_loss', 'exponential'],\n",
       "   'min_samples_split': [2, 8, 15, 20],\n",
       "   'criterion': ['friedman_mse', 'squared_error', 'mse'],\n",
       "   'n_estimators': [100, 200, 500, 1000],\n",
       "   'max_depth': [None, range(5, 16)]})]"
      ]
     },
     "execution_count": 153,
     "metadata": {},
     "output_type": "execute_result"
    }
   ],
   "source": [
    "rscv_models"
   ]
  },
  {
   "cell_type": "markdown",
   "id": "352b22d4",
   "metadata": {},
   "source": [
    "# RandomisedSearchCV"
   ]
  },
  {
   "cell_type": "code",
   "execution_count": 154,
   "id": "c41b94c2",
   "metadata": {},
   "outputs": [],
   "source": [
    "from sklearn.model_selection import RandomizedSearchCV"
   ]
  },
  {
   "cell_type": "code",
   "execution_count": 155,
   "id": "288e1a8a",
   "metadata": {},
   "outputs": [
    {
     "name": "stdout",
     "output_type": "stream",
     "text": [
      "Fitting 3 folds for each of 96 candidates, totalling 288 fits\n",
      "[CV] END max_depth=range(1, 16), max_features=range(1, 9), min_samples_split=2, n_estimators=100; total time=   0.0s\n",
      "[CV] END max_depth=range(1, 16), max_features=range(1, 9), min_samples_split=2, n_estimators=100; total time=   0.0s\n",
      "[CV] END max_depth=range(1, 16), max_features=range(1, 9), min_samples_split=2, n_estimators=100; total time=   0.0s\n",
      "[CV] END max_depth=range(1, 16), max_features=range(1, 9), min_samples_split=2, n_estimators=200; total time=   0.0s\n",
      "[CV] END max_depth=range(1, 16), max_features=range(1, 9), min_samples_split=2, n_estimators=200; total time=   0.0s\n",
      "[CV] END max_depth=range(1, 16), max_features=range(1, 9), min_samples_split=2, n_estimators=200; total time=   0.0s\n",
      "[CV] END max_depth=range(1, 16), max_features=range(1, 9), min_samples_split=2, n_estimators=500; total time=   0.0s\n",
      "[CV] END max_depth=range(1, 16), max_features=range(1, 9), min_samples_split=2, n_estimators=500; total time=   0.0s\n",
      "[CV] END max_depth=range(1, 16), max_features=range(1, 9), min_samples_split=2, n_estimators=500; total time=   0.0s\n",
      "[CV] END max_depth=range(1, 16), max_features=range(1, 9), min_samples_split=2, n_estimators=1000; total time=   0.0s\n",
      "[CV] END max_depth=range(1, 16), max_features=range(1, 9), min_samples_split=2, n_estimators=1000; total time=   0.0s\n",
      "[CV] END max_depth=range(1, 16), max_features=range(1, 9), min_samples_split=2, n_estimators=1000; total time=   0.0s\n",
      "[CV] END max_depth=range(1, 16), max_features=range(1, 9), min_samples_split=8, n_estimators=100; total time=   0.0s\n",
      "[CV] END max_depth=range(1, 16), max_features=range(1, 9), min_samples_split=8, n_estimators=100; total time=   0.0s\n",
      "[CV] END max_depth=range(1, 16), max_features=range(1, 9), min_samples_split=8, n_estimators=100; total time=   0.0s\n",
      "[CV] END max_depth=range(1, 16), max_features=range(1, 9), min_samples_split=8, n_estimators=200; total time=   0.0s\n",
      "[CV] END max_depth=range(1, 16), max_features=range(1, 9), min_samples_split=8, n_estimators=200; total time=   0.0s\n",
      "[CV] END max_depth=range(1, 16), max_features=range(1, 9), min_samples_split=8, n_estimators=200; total time=   0.0s\n",
      "[CV] END max_depth=range(1, 16), max_features=range(1, 9), min_samples_split=8, n_estimators=500; total time=   0.0s\n",
      "[CV] END max_depth=range(1, 16), max_features=range(1, 9), min_samples_split=8, n_estimators=500; total time=   0.0s\n",
      "[CV] END max_depth=range(1, 16), max_features=range(1, 9), min_samples_split=8, n_estimators=500; total time=   0.0s\n",
      "[CV] END max_depth=range(1, 16), max_features=range(1, 9), min_samples_split=8, n_estimators=1000; total time=   0.0s\n",
      "[CV] END max_depth=range(1, 16), max_features=range(1, 9), min_samples_split=8, n_estimators=1000; total time=   0.0s\n",
      "[CV] END max_depth=range(1, 16), max_features=range(1, 9), min_samples_split=8, n_estimators=1000; total time=   0.0s\n",
      "[CV] END max_depth=range(1, 16), max_features=range(1, 9), min_samples_split=15, n_estimators=100; total time=   0.0s\n",
      "[CV] END max_depth=range(1, 16), max_features=range(1, 9), min_samples_split=15, n_estimators=100; total time=   0.0s\n",
      "[CV] END max_depth=range(1, 16), max_features=range(1, 9), min_samples_split=15, n_estimators=100; total time=   0.0s\n",
      "[CV] END max_depth=range(1, 16), max_features=range(1, 9), min_samples_split=15, n_estimators=200; total time=   0.0s\n",
      "[CV] END max_depth=range(1, 16), max_features=range(1, 9), min_samples_split=15, n_estimators=200; total time=   0.0s\n",
      "[CV] END max_depth=range(1, 16), max_features=range(1, 9), min_samples_split=15, n_estimators=200; total time=   0.0s\n",
      "[CV] END max_depth=range(1, 16), max_features=range(1, 9), min_samples_split=15, n_estimators=500; total time=   0.0s\n",
      "[CV] END max_depth=range(1, 16), max_features=range(1, 9), min_samples_split=15, n_estimators=500; total time=   0.0s\n",
      "[CV] END max_depth=range(1, 16), max_features=range(1, 9), min_samples_split=15, n_estimators=500; total time=   0.0s\n",
      "[CV] END max_depth=range(1, 16), max_features=range(1, 9), min_samples_split=15, n_estimators=1000; total time=   0.0s\n",
      "[CV] END max_depth=range(1, 16), max_features=range(1, 9), min_samples_split=15, n_estimators=1000; total time=   0.0s\n",
      "[CV] END max_depth=range(1, 16), max_features=range(1, 9), min_samples_split=15, n_estimators=1000; total time=   0.0s\n",
      "[CV] END max_depth=range(1, 16), max_features=range(1, 9), min_samples_split=20, n_estimators=100; total time=   0.0s\n",
      "[CV] END max_depth=range(1, 16), max_features=range(1, 9), min_samples_split=20, n_estimators=100; total time=   0.0s\n",
      "[CV] END max_depth=range(1, 16), max_features=range(1, 9), min_samples_split=20, n_estimators=100; total time=   0.0s\n",
      "[CV] END max_depth=range(1, 16), max_features=range(1, 9), min_samples_split=20, n_estimators=200; total time=   0.0s\n",
      "[CV] END max_depth=range(1, 16), max_features=range(1, 9), min_samples_split=20, n_estimators=200; total time=   0.0s\n",
      "[CV] END max_depth=range(1, 16), max_features=range(1, 9), min_samples_split=20, n_estimators=200; total time=   0.0s\n",
      "[CV] END max_depth=range(1, 16), max_features=range(1, 9), min_samples_split=20, n_estimators=500; total time=   0.0s\n",
      "[CV] END max_depth=range(1, 16), max_features=range(1, 9), min_samples_split=20, n_estimators=500; total time=   0.0s\n",
      "[CV] END max_depth=range(1, 16), max_features=range(1, 9), min_samples_split=20, n_estimators=500; total time=   0.0s\n",
      "[CV] END max_depth=range(1, 16), max_features=range(1, 9), min_samples_split=20, n_estimators=1000; total time=   0.0s\n",
      "[CV] END max_depth=range(1, 16), max_features=range(1, 9), min_samples_split=20, n_estimators=1000; total time=   0.0s\n",
      "[CV] END max_depth=range(1, 16), max_features=range(1, 9), min_samples_split=20, n_estimators=1000; total time=   0.0s\n",
      "[CV] END max_depth=range(1, 16), max_features=sqrt, min_samples_split=2, n_estimators=100; total time=   0.0s\n",
      "[CV] END max_depth=range(1, 16), max_features=sqrt, min_samples_split=2, n_estimators=100; total time=   0.0s\n",
      "[CV] END max_depth=range(1, 16), max_features=sqrt, min_samples_split=2, n_estimators=100; total time=   0.0s\n",
      "[CV] END max_depth=range(1, 16), max_features=sqrt, min_samples_split=2, n_estimators=200; total time=   0.0s\n",
      "[CV] END max_depth=range(1, 16), max_features=sqrt, min_samples_split=2, n_estimators=200; total time=   0.0s\n",
      "[CV] END max_depth=range(1, 16), max_features=sqrt, min_samples_split=2, n_estimators=200; total time=   0.0s\n",
      "[CV] END max_depth=range(1, 16), max_features=sqrt, min_samples_split=2, n_estimators=500; total time=   0.0s\n",
      "[CV] END max_depth=range(1, 16), max_features=sqrt, min_samples_split=2, n_estimators=500; total time=   0.0s\n",
      "[CV] END max_depth=range(1, 16), max_features=sqrt, min_samples_split=2, n_estimators=500; total time=   0.0s\n",
      "[CV] END max_depth=range(1, 16), max_features=sqrt, min_samples_split=2, n_estimators=1000; total time=   0.0s\n",
      "[CV] END max_depth=range(1, 16), max_features=sqrt, min_samples_split=2, n_estimators=1000; total time=   0.0s\n",
      "[CV] END max_depth=range(1, 16), max_features=sqrt, min_samples_split=2, n_estimators=1000; total time=   0.0s\n",
      "[CV] END max_depth=range(1, 16), max_features=sqrt, min_samples_split=8, n_estimators=100; total time=   0.0s\n",
      "[CV] END max_depth=range(1, 16), max_features=sqrt, min_samples_split=8, n_estimators=100; total time=   0.0s\n",
      "[CV] END max_depth=range(1, 16), max_features=sqrt, min_samples_split=8, n_estimators=100; total time=   0.0s\n",
      "[CV] END max_depth=range(1, 16), max_features=sqrt, min_samples_split=8, n_estimators=200; total time=   0.0s\n",
      "[CV] END max_depth=range(1, 16), max_features=sqrt, min_samples_split=8, n_estimators=200; total time=   0.0s\n",
      "[CV] END max_depth=range(1, 16), max_features=sqrt, min_samples_split=8, n_estimators=200; total time=   0.0s\n",
      "[CV] END max_depth=range(1, 16), max_features=sqrt, min_samples_split=8, n_estimators=500; total time=   0.0s\n",
      "[CV] END max_depth=range(1, 16), max_features=sqrt, min_samples_split=8, n_estimators=500; total time=   0.0s\n",
      "[CV] END max_depth=range(1, 16), max_features=sqrt, min_samples_split=8, n_estimators=500; total time=   0.0s\n",
      "[CV] END max_depth=range(1, 16), max_features=sqrt, min_samples_split=8, n_estimators=1000; total time=   0.0s\n",
      "[CV] END max_depth=range(1, 16), max_features=sqrt, min_samples_split=15, n_estimators=100; total time=   0.0s\n",
      "[CV] END max_depth=range(1, 16), max_features=sqrt, min_samples_split=8, n_estimators=1000; total time=   0.0s\n",
      "[CV] END max_depth=range(1, 16), max_features=sqrt, min_samples_split=15, n_estimators=100; total time=   0.0s\n",
      "[CV] END max_depth=range(1, 16), max_features=sqrt, min_samples_split=8, n_estimators=1000; total time=   0.0s\n",
      "[CV] END max_depth=range(1, 16), max_features=sqrt, min_samples_split=15, n_estimators=100; total time=   0.0s\n",
      "[CV] END max_depth=range(1, 16), max_features=sqrt, min_samples_split=15, n_estimators=200; total time=   0.0s\n",
      "[CV] END max_depth=range(1, 16), max_features=sqrt, min_samples_split=15, n_estimators=200; total time=   0.0s\n",
      "[CV] END max_depth=range(1, 16), max_features=sqrt, min_samples_split=15, n_estimators=200; total time=   0.0s\n",
      "[CV] END max_depth=range(1, 16), max_features=sqrt, min_samples_split=15, n_estimators=500; total time=   0.0s\n",
      "[CV] END max_depth=range(1, 16), max_features=sqrt, min_samples_split=15, n_estimators=500; total time=   0.0s\n",
      "[CV] END max_depth=range(1, 16), max_features=sqrt, min_samples_split=15, n_estimators=500; total time=   0.0s\n",
      "[CV] END max_depth=range(1, 16), max_features=sqrt, min_samples_split=15, n_estimators=1000; total time=   0.0s\n",
      "[CV] END max_depth=range(1, 16), max_features=sqrt, min_samples_split=15, n_estimators=1000; total time=   0.0s\n",
      "[CV] END max_depth=range(1, 16), max_features=sqrt, min_samples_split=15, n_estimators=1000; total time=   0.0s\n",
      "[CV] END max_depth=range(1, 16), max_features=sqrt, min_samples_split=20, n_estimators=100; total time=   0.0s\n",
      "[CV] END max_depth=range(1, 16), max_features=sqrt, min_samples_split=20, n_estimators=100; total time=   0.0s\n",
      "[CV] END max_depth=range(1, 16), max_features=sqrt, min_samples_split=20, n_estimators=100; total time=   0.0s\n",
      "[CV] END max_depth=range(1, 16), max_features=sqrt, min_samples_split=20, n_estimators=200; total time=   0.0s\n",
      "[CV] END max_depth=range(1, 16), max_features=sqrt, min_samples_split=20, n_estimators=200; total time=   0.0s\n",
      "[CV] END max_depth=range(1, 16), max_features=sqrt, min_samples_split=20, n_estimators=200; total time=   0.0s\n",
      "[CV] END max_depth=range(1, 16), max_features=sqrt, min_samples_split=20, n_estimators=500; total time=   0.0s\n",
      "[CV] END max_depth=range(1, 16), max_features=sqrt, min_samples_split=20, n_estimators=500; total time=   0.0s\n",
      "[CV] END max_depth=range(1, 16), max_features=sqrt, min_samples_split=20, n_estimators=500; total time=   0.0s\n",
      "[CV] END max_depth=range(1, 16), max_features=sqrt, min_samples_split=20, n_estimators=1000; total time=   0.0s\n",
      "[CV] END max_depth=range(1, 16), max_features=sqrt, min_samples_split=20, n_estimators=1000; total time=   0.0s\n",
      "[CV] END max_depth=range(1, 16), max_features=sqrt, min_samples_split=20, n_estimators=1000; total time=   0.0s\n",
      "[CV] END max_depth=range(1, 16), max_features=log2, min_samples_split=2, n_estimators=100; total time=   0.0s\n",
      "[CV] END max_depth=range(1, 16), max_features=log2, min_samples_split=2, n_estimators=100; total time=   0.0s\n",
      "[CV] END max_depth=range(1, 16), max_features=log2, min_samples_split=2, n_estimators=100; total time=   0.0s\n",
      "[CV] END max_depth=range(1, 16), max_features=log2, min_samples_split=2, n_estimators=200; total time=   0.0s\n",
      "[CV] END max_depth=range(1, 16), max_features=log2, min_samples_split=2, n_estimators=200; total time=   0.0s\n",
      "[CV] END max_depth=range(1, 16), max_features=log2, min_samples_split=2, n_estimators=200; total time=   0.0s\n",
      "[CV] END max_depth=range(1, 16), max_features=log2, min_samples_split=2, n_estimators=500; total time=   0.0s\n",
      "[CV] END max_depth=range(1, 16), max_features=log2, min_samples_split=2, n_estimators=500; total time=   0.0s\n",
      "[CV] END max_depth=range(1, 16), max_features=log2, min_samples_split=2, n_estimators=500; total time=   0.0s\n",
      "[CV] END max_depth=range(1, 16), max_features=log2, min_samples_split=2, n_estimators=1000; total time=   0.0s\n",
      "[CV] END max_depth=range(1, 16), max_features=log2, min_samples_split=2, n_estimators=1000; total time=   0.0s\n",
      "[CV] END max_depth=range(1, 16), max_features=log2, min_samples_split=8, n_estimators=100; total time=   0.0s\n",
      "[CV] END max_depth=range(1, 16), max_features=log2, min_samples_split=2, n_estimators=1000; total time=   0.0s\n",
      "[CV] END max_depth=range(1, 16), max_features=log2, min_samples_split=8, n_estimators=100; total time=   0.0s\n",
      "[CV] END max_depth=range(1, 16), max_features=log2, min_samples_split=8, n_estimators=100; total time=   0.0s\n",
      "[CV] END max_depth=range(1, 16), max_features=log2, min_samples_split=8, n_estimators=200; total time=   0.0s\n",
      "[CV] END max_depth=range(1, 16), max_features=log2, min_samples_split=8, n_estimators=200; total time=   0.0s\n",
      "[CV] END max_depth=range(1, 16), max_features=log2, min_samples_split=8, n_estimators=200; total time=   0.0s\n",
      "[CV] END max_depth=range(1, 16), max_features=log2, min_samples_split=8, n_estimators=500; total time=   0.0s\n",
      "[CV] END max_depth=range(1, 16), max_features=log2, min_samples_split=8, n_estimators=500; total time=   0.0s\n",
      "[CV] END max_depth=range(1, 16), max_features=log2, min_samples_split=8, n_estimators=500; total time=   0.0s\n",
      "[CV] END max_depth=range(1, 16), max_features=log2, min_samples_split=8, n_estimators=1000; total time=   0.0s\n",
      "[CV] END max_depth=range(1, 16), max_features=log2, min_samples_split=15, n_estimators=100; total time=   0.0s\n",
      "[CV] END max_depth=range(1, 16), max_features=log2, min_samples_split=8, n_estimators=1000; total time=   0.0s\n",
      "[CV] END max_depth=range(1, 16), max_features=log2, min_samples_split=15, n_estimators=100; total time=   0.0s\n",
      "[CV] END max_depth=range(1, 16), max_features=log2, min_samples_split=8, n_estimators=1000; total time=   0.0s\n",
      "[CV] END max_depth=range(1, 16), max_features=log2, min_samples_split=15, n_estimators=100; total time=   0.0s\n",
      "[CV] END max_depth=range(1, 16), max_features=log2, min_samples_split=15, n_estimators=200; total time=   0.0s\n",
      "[CV] END max_depth=range(1, 16), max_features=log2, min_samples_split=15, n_estimators=200; total time=   0.0s\n",
      "[CV] END max_depth=range(1, 16), max_features=log2, min_samples_split=15, n_estimators=200; total time=   0.0s\n",
      "[CV] END max_depth=range(1, 16), max_features=log2, min_samples_split=15, n_estimators=500; total time=   0.0s\n",
      "[CV] END max_depth=range(1, 16), max_features=log2, min_samples_split=15, n_estimators=500; total time=   0.0s\n",
      "[CV] END max_depth=range(1, 16), max_features=log2, min_samples_split=15, n_estimators=1000; total time=   0.0s\n",
      "[CV] END max_depth=range(1, 16), max_features=log2, min_samples_split=15, n_estimators=500; total time=   0.0s\n",
      "[CV] END max_depth=range(1, 16), max_features=log2, min_samples_split=15, n_estimators=1000; total time=   0.0s\n",
      "[CV] END max_depth=range(1, 16), max_features=log2, min_samples_split=20, n_estimators=100; total time=   0.0s\n",
      "[CV] END max_depth=range(1, 16), max_features=log2, min_samples_split=15, n_estimators=1000; total time=   0.0s\n",
      "[CV] END max_depth=range(1, 16), max_features=log2, min_samples_split=20, n_estimators=100; total time=   0.0s\n",
      "[CV] END max_depth=range(1, 16), max_features=log2, min_samples_split=20, n_estimators=100; total time=   0.0s\n",
      "[CV] END max_depth=range(1, 16), max_features=log2, min_samples_split=20, n_estimators=200; total time=   0.0s\n",
      "[CV] END max_depth=range(1, 16), max_features=log2, min_samples_split=20, n_estimators=200; total time=   0.0s\n",
      "[CV] END max_depth=range(1, 16), max_features=log2, min_samples_split=20, n_estimators=200; total time=   0.0s\n",
      "[CV] END max_depth=range(1, 16), max_features=log2, min_samples_split=20, n_estimators=500; total time=   0.0s\n",
      "[CV] END max_depth=range(1, 16), max_features=log2, min_samples_split=20, n_estimators=500; total time=   0.0s\n",
      "[CV] END max_depth=range(1, 16), max_features=log2, min_samples_split=20, n_estimators=1000; total time=   0.0s\n",
      "[CV] END max_depth=range(1, 16), max_features=log2, min_samples_split=20, n_estimators=500; total time=   0.0s\n",
      "[CV] END max_depth=range(1, 16), max_features=log2, min_samples_split=20, n_estimators=1000; total time=   0.0s\n",
      "[CV] END max_depth=range(1, 16), max_features=log2, min_samples_split=20, n_estimators=1000; total time=   0.0s\n",
      "[CV] END max_depth=None, max_features=range(1, 9), min_samples_split=2, n_estimators=200; total time=   0.0s\n",
      "[CV] END max_depth=None, max_features=range(1, 9), min_samples_split=2, n_estimators=100; total time=   0.0s\n",
      "[CV] END max_depth=None, max_features=range(1, 9), min_samples_split=2, n_estimators=200; total time=   0.0s\n",
      "[CV] END max_depth=None, max_features=range(1, 9), min_samples_split=2, n_estimators=100; total time=   0.0s\n",
      "[CV] END max_depth=None, max_features=range(1, 9), min_samples_split=2, n_estimators=500; total time=   0.0s\n",
      "[CV] END max_depth=None, max_features=range(1, 9), min_samples_split=2, n_estimators=100; total time=   0.0s\n",
      "[CV] END max_depth=None, max_features=range(1, 9), min_samples_split=8, n_estimators=100; total time=   0.0s\n",
      "[CV] END max_depth=None, max_features=range(1, 9), min_samples_split=2, n_estimators=500; total time=   0.0s\n",
      "[CV] END max_depth=None, max_features=range(1, 9), min_samples_split=2, n_estimators=200; total time=   0.0s\n",
      "[CV] END max_depth=None, max_features=range(1, 9), min_samples_split=8, n_estimators=100; total time=   0.0s\n",
      "[CV] END max_depth=None, max_features=range(1, 9), min_samples_split=2, n_estimators=500; total time=   0.0s\n",
      "[CV] END max_depth=None, max_features=range(1, 9), min_samples_split=8, n_estimators=100; total time=   0.0s\n",
      "[CV] END max_depth=None, max_features=range(1, 9), min_samples_split=2, n_estimators=1000; total time=   0.0s\n",
      "[CV] END max_depth=None, max_features=range(1, 9), min_samples_split=8, n_estimators=200; total time=   0.0s\n",
      "[CV] END max_depth=None, max_features=range(1, 9), min_samples_split=2, n_estimators=1000; total time=   0.0s\n",
      "[CV] END max_depth=None, max_features=range(1, 9), min_samples_split=8, n_estimators=500; total time=   0.0s\n",
      "[CV] END max_depth=None, max_features=range(1, 9), min_samples_split=2, n_estimators=1000; total time=   0.0s\n",
      "[CV] END max_depth=None, max_features=range(1, 9), min_samples_split=8, n_estimators=200; total time=   0.0s\n",
      "[CV] END max_depth=None, max_features=range(1, 9), min_samples_split=8, n_estimators=1000; total time=   0.0s\n",
      "[CV] END max_depth=None, max_features=range(1, 9), min_samples_split=8, n_estimators=200; total time=   0.0s\n",
      "[CV] END max_depth=None, max_features=range(1, 9), min_samples_split=8, n_estimators=1000; total time=   0.0s\n",
      "[CV] END max_depth=None, max_features=range(1, 9), min_samples_split=8, n_estimators=500; total time=   0.0s\n",
      "[CV] END max_depth=None, max_features=range(1, 9), min_samples_split=8, n_estimators=1000; total time=   0.0s\n",
      "[CV] END max_depth=None, max_features=range(1, 9), min_samples_split=15, n_estimators=200; total time=   0.0s\n",
      "[CV] END max_depth=None, max_features=range(1, 9), min_samples_split=8, n_estimators=500; total time=   0.0s\n",
      "[CV] END max_depth=None, max_features=range(1, 9), min_samples_split=15, n_estimators=100; total time=   0.0s\n",
      "[CV] END max_depth=None, max_features=range(1, 9), min_samples_split=15, n_estimators=200; total time=   0.0s\n",
      "[CV] END max_depth=None, max_features=range(1, 9), min_samples_split=20, n_estimators=100; total time=   0.0s\n",
      "[CV] END max_depth=None, max_features=range(1, 9), min_samples_split=15, n_estimators=100; total time=   0.0s\n",
      "[CV] END max_depth=None, max_features=range(1, 9), min_samples_split=15, n_estimators=500; total time=   0.0s\n",
      "[CV] END max_depth=None, max_features=range(1, 9), min_samples_split=15, n_estimators=500; total time=   0.0s\n",
      "[CV] END max_depth=None, max_features=range(1, 9), min_samples_split=15, n_estimators=100; total time=   0.0s\n",
      "[CV] END max_depth=None, max_features=range(1, 9), min_samples_split=20, n_estimators=100; total time=   0.0s\n",
      "[CV] END max_depth=None, max_features=range(1, 9), min_samples_split=15, n_estimators=500; total time=   0.0s\n",
      "[CV] END max_depth=None, max_features=range(1, 9), min_samples_split=15, n_estimators=200; total time=   0.0s\n",
      "[CV] END max_depth=None, max_features=range(1, 9), min_samples_split=20, n_estimators=100; total time=   0.0s\n",
      "[CV] END max_depth=None, max_features=range(1, 9), min_samples_split=15, n_estimators=1000; total time=   0.0s\n",
      "[CV] END max_depth=None, max_features=range(1, 9), min_samples_split=20, n_estimators=200; total time=   0.0s\n",
      "[CV] END max_depth=None, max_features=range(1, 9), min_samples_split=15, n_estimators=1000; total time=   0.0s\n",
      "[CV] END max_depth=None, max_features=range(1, 9), min_samples_split=15, n_estimators=1000; total time=   0.0s\n",
      "[CV] END max_depth=None, max_features=range(1, 9), min_samples_split=20, n_estimators=500; total time=   0.0s\n",
      "[CV] END max_depth=None, max_features=range(1, 9), min_samples_split=20, n_estimators=200; total time=   0.0s\n",
      "[CV] END max_depth=None, max_features=range(1, 9), min_samples_split=20, n_estimators=200; total time=   0.0s\n",
      "[CV] END max_depth=None, max_features=range(1, 9), min_samples_split=20, n_estimators=1000; total time=   0.0s\n",
      "[CV] END max_depth=None, max_features=range(1, 9), min_samples_split=20, n_estimators=500; total time=   0.0s\n",
      "[CV] END max_depth=None, max_features=range(1, 9), min_samples_split=20, n_estimators=1000; total time=   0.0s\n",
      "[CV] END max_depth=None, max_features=range(1, 9), min_samples_split=20, n_estimators=500; total time=   0.0s\n",
      "[CV] END max_depth=None, max_features=range(1, 9), min_samples_split=20, n_estimators=1000; total time=   0.0s\n",
      "[CV] END max_depth=None, max_features=sqrt, min_samples_split=8, n_estimators=100; total time=   0.2s\n",
      "[CV] END max_depth=None, max_features=sqrt, min_samples_split=2, n_estimators=100; total time=   0.2s\n",
      "[CV] END max_depth=None, max_features=sqrt, min_samples_split=8, n_estimators=100; total time=   0.2s\n",
      "[CV] END max_depth=None, max_features=sqrt, min_samples_split=15, n_estimators=200; total time=   0.4s\n",
      "[CV] END max_depth=None, max_features=sqrt, min_samples_split=15, n_estimators=200; total time=   0.4s\n",
      "[CV] END max_depth=None, max_features=sqrt, min_samples_split=2, n_estimators=100; total time=   0.2s\n",
      "[CV] END max_depth=None, max_features=sqrt, min_samples_split=2, n_estimators=200; total time=   0.5s\n",
      "[CV] END max_depth=None, max_features=sqrt, min_samples_split=8, n_estimators=100; total time=   0.2s\n",
      "[CV] END max_depth=None, max_features=sqrt, min_samples_split=2, n_estimators=100; total time=   0.2s\n",
      "[CV] END max_depth=None, max_features=sqrt, min_samples_split=2, n_estimators=200; total time=   0.5s\n",
      "[CV] END max_depth=None, max_features=sqrt, min_samples_split=15, n_estimators=500; total time=   1.0s\n",
      "[CV] END max_depth=None, max_features=sqrt, min_samples_split=15, n_estimators=500; total time=   1.0s\n",
      "[CV] END max_depth=None, max_features=sqrt, min_samples_split=15, n_estimators=500; total time=   1.0s\n",
      "[CV] END max_depth=None, max_features=sqrt, min_samples_split=8, n_estimators=200; total time=   0.4s\n",
      "[CV] END max_depth=None, max_features=sqrt, min_samples_split=8, n_estimators=500; total time=   1.1s\n",
      "[CV] END max_depth=None, max_features=sqrt, min_samples_split=2, n_estimators=200; total time=   0.4s\n",
      "[CV] END max_depth=None, max_features=sqrt, min_samples_split=20, n_estimators=100; total time=   0.2s\n",
      "[CV] END max_depth=None, max_features=sqrt, min_samples_split=20, n_estimators=100; total time=   0.2s\n",
      "[CV] END max_depth=None, max_features=sqrt, min_samples_split=20, n_estimators=100; total time=   0.2s\n",
      "[CV] END max_depth=None, max_features=sqrt, min_samples_split=8, n_estimators=200; total time=   0.4s\n",
      "[CV] END max_depth=None, max_features=sqrt, min_samples_split=20, n_estimators=200; total time=   0.4s\n",
      "[CV] END max_depth=None, max_features=sqrt, min_samples_split=20, n_estimators=200; total time=   0.4s\n",
      "[CV] END max_depth=None, max_features=sqrt, min_samples_split=20, n_estimators=200; total time=   0.4s\n",
      "[CV] END max_depth=None, max_features=sqrt, min_samples_split=8, n_estimators=200; total time=   0.5s\n",
      "[CV] END max_depth=None, max_features=sqrt, min_samples_split=15, n_estimators=1000; total time=   2.0s\n",
      "[CV] END max_depth=None, max_features=sqrt, min_samples_split=2, n_estimators=500; total time=   1.1s\n",
      "[CV] END max_depth=None, max_features=sqrt, min_samples_split=20, n_estimators=500; total time=   1.0s\n",
      "[CV] END max_depth=None, max_features=sqrt, min_samples_split=20, n_estimators=500; total time=   1.0s\n",
      "[CV] END max_depth=None, max_features=sqrt, min_samples_split=15, n_estimators=1000; total time=   2.1s\n",
      "[CV] END max_depth=None, max_features=sqrt, min_samples_split=15, n_estimators=1000; total time=   2.1s\n",
      "[CV] END max_depth=None, max_features=sqrt, min_samples_split=20, n_estimators=500; total time=   1.0s\n",
      "[CV] END max_depth=None, max_features=log2, min_samples_split=2, n_estimators=100; total time=   0.2s\n",
      "[CV] END max_depth=None, max_features=log2, min_samples_split=2, n_estimators=100; total time=   0.2s\n",
      "[CV] END max_depth=None, max_features=log2, min_samples_split=2, n_estimators=100; total time=   0.2s\n",
      "[CV] END max_depth=None, max_features=sqrt, min_samples_split=8, n_estimators=500; total time=   1.0s\n",
      "[CV] END max_depth=None, max_features=log2, min_samples_split=2, n_estimators=200; total time=   0.4s\n",
      "[CV] END max_depth=None, max_features=log2, min_samples_split=2, n_estimators=200; total time=   0.4s\n",
      "[CV] END max_depth=None, max_features=log2, min_samples_split=2, n_estimators=200; total time=   0.4s\n",
      "[CV] END max_depth=None, max_features=sqrt, min_samples_split=8, n_estimators=1000; total time=   2.1s\n",
      "[CV] END max_depth=None, max_features=sqrt, min_samples_split=2, n_estimators=500; total time=   1.1s\n",
      "[CV] END max_depth=None, max_features=sqrt, min_samples_split=20, n_estimators=1000; total time=   1.9s\n",
      "[CV] END max_depth=None, max_features=log2, min_samples_split=2, n_estimators=500; total time=   1.0s\n",
      "[CV] END max_depth=None, max_features=sqrt, min_samples_split=20, n_estimators=1000; total time=   2.0s\n",
      "[CV] END max_depth=None, max_features=log2, min_samples_split=2, n_estimators=500; total time=   1.1s\n",
      "[CV] END max_depth=None, max_features=sqrt, min_samples_split=8, n_estimators=500; total time=   1.2s\n",
      "[CV] END max_depth=None, max_features=log2, min_samples_split=2, n_estimators=500; total time=   1.1s\n",
      "[CV] END max_depth=None, max_features=log2, min_samples_split=8, n_estimators=100; total time=   0.2s\n",
      "[CV] END max_depth=None, max_features=sqrt, min_samples_split=20, n_estimators=1000; total time=   2.0s\n",
      "[CV] END max_depth=None, max_features=log2, min_samples_split=8, n_estimators=100; total time=   0.2s\n",
      "[CV] END max_depth=None, max_features=sqrt, min_samples_split=2, n_estimators=500; total time=   1.1s\n",
      "[CV] END max_depth=None, max_features=log2, min_samples_split=8, n_estimators=100; total time=   0.2s\n",
      "[CV] END max_depth=None, max_features=log2, min_samples_split=8, n_estimators=200; total time=   0.4s\n",
      "[CV] END max_depth=None, max_features=log2, min_samples_split=8, n_estimators=200; total time=   0.4s\n",
      "[CV] END max_depth=None, max_features=log2, min_samples_split=8, n_estimators=200; total time=   0.4s\n",
      "[CV] END max_depth=None, max_features=log2, min_samples_split=8, n_estimators=500; total time=   0.9s\n",
      "[CV] END max_depth=None, max_features=log2, min_samples_split=2, n_estimators=1000; total time=   2.2s\n",
      "[CV] END max_depth=None, max_features=log2, min_samples_split=8, n_estimators=500; total time=   1.0s\n",
      "[CV] END max_depth=None, max_features=sqrt, min_samples_split=8, n_estimators=1000; total time=   2.2s\n",
      "[CV] END max_depth=None, max_features=log2, min_samples_split=15, n_estimators=100; total time=   0.2s\n",
      "[CV] END max_depth=None, max_features=log2, min_samples_split=15, n_estimators=100; total time=   0.2s\n",
      "[CV] END max_depth=None, max_features=log2, min_samples_split=8, n_estimators=500; total time=   0.9s\n",
      "[CV] END max_depth=None, max_features=log2, min_samples_split=15, n_estimators=100; total time=   0.2s\n",
      "[CV] END max_depth=None, max_features=log2, min_samples_split=2, n_estimators=1000; total time=   2.2s\n",
      "[CV] END max_depth=None, max_features=log2, min_samples_split=2, n_estimators=1000; total time=   2.1s\n",
      "[CV] END max_depth=None, max_features=log2, min_samples_split=15, n_estimators=200; total time=   0.4s\n",
      "[CV] END max_depth=None, max_features=log2, min_samples_split=15, n_estimators=200; total time=   0.4s\n",
      "[CV] END max_depth=None, max_features=log2, min_samples_split=15, n_estimators=200; total time=   0.4s\n",
      "[CV] END max_depth=None, max_features=sqrt, min_samples_split=2, n_estimators=1000; total time=   2.3s\n",
      "[CV] END max_depth=None, max_features=log2, min_samples_split=8, n_estimators=1000; total time=   2.1s\n",
      "[CV] END max_depth=None, max_features=log2, min_samples_split=15, n_estimators=500; total time=   1.1s\n",
      "[CV] END max_depth=None, max_features=log2, min_samples_split=8, n_estimators=1000; total time=   2.2s\n",
      "[CV] END max_depth=None, max_features=log2, min_samples_split=15, n_estimators=500; total time=   1.1s\n",
      "[CV] END max_depth=None, max_features=log2, min_samples_split=15, n_estimators=500; total time=   1.1s\n",
      "[CV] END max_depth=None, max_features=log2, min_samples_split=20, n_estimators=100; total time=   0.2s\n",
      "[CV] END max_depth=None, max_features=log2, min_samples_split=20, n_estimators=100; total time=   0.2s\n",
      "[CV] END max_depth=None, max_features=log2, min_samples_split=20, n_estimators=100; total time=   0.2s\n",
      "[CV] END max_depth=None, max_features=log2, min_samples_split=20, n_estimators=200; total time=   0.4s\n",
      "[CV] END max_depth=None, max_features=log2, min_samples_split=20, n_estimators=200; total time=   0.4s\n",
      "[CV] END max_depth=None, max_features=log2, min_samples_split=20, n_estimators=200; total time=   0.3s\n",
      "[CV] END max_depth=None, max_features=log2, min_samples_split=8, n_estimators=1000; total time=   2.2s\n",
      "[CV] END max_depth=None, max_features=sqrt, min_samples_split=8, n_estimators=1000; total time=   2.3s\n",
      "[CV] END max_depth=None, max_features=sqrt, min_samples_split=15, n_estimators=100; total time=   0.2s\n",
      "[CV] END max_depth=None, max_features=log2, min_samples_split=15, n_estimators=1000; total time=   2.0s\n",
      "[CV] END max_depth=None, max_features=log2, min_samples_split=20, n_estimators=500; total time=   0.9s\n",
      "[CV] END max_depth=None, max_features=log2, min_samples_split=15, n_estimators=1000; total time=   2.0s\n",
      "[CV] END max_depth=None, max_features=sqrt, min_samples_split=15, n_estimators=100; total time=   0.2s\n",
      "[CV] END max_depth=None, max_features=log2, min_samples_split=20, n_estimators=500; total time=   0.8s\n",
      "[CV] END max_depth=None, max_features=log2, min_samples_split=20, n_estimators=500; total time=   0.9s\n",
      "[CV] END max_depth=None, max_features=sqrt, min_samples_split=15, n_estimators=100; total time=   0.2s\n",
      "[CV] END max_depth=None, max_features=log2, min_samples_split=15, n_estimators=1000; total time=   1.8s\n",
      "[CV] END max_depth=None, max_features=sqrt, min_samples_split=15, n_estimators=200; total time=   0.3s\n",
      "[CV] END max_depth=None, max_features=sqrt, min_samples_split=2, n_estimators=1000; total time=   2.1s\n",
      "[CV] END max_depth=None, max_features=log2, min_samples_split=20, n_estimators=1000; total time=   1.5s\n",
      "[CV] END max_depth=None, max_features=log2, min_samples_split=20, n_estimators=1000; total time=   1.5s\n",
      "[CV] END max_depth=None, max_features=log2, min_samples_split=20, n_estimators=1000; total time=   1.3s\n",
      "[CV] END max_depth=None, max_features=sqrt, min_samples_split=2, n_estimators=1000; total time=   1.5s\n",
      "Fitting 3 folds for each of 10 candidates, totalling 30 fits\n",
      "[CV] END ...................algorithm=SAMME, n_estimators=50; total time=   0.1s\n",
      "[CV] END ...................algorithm=SAMME, n_estimators=50; total time=   0.1s\n",
      "[CV] END ...................algorithm=SAMME, n_estimators=50; total time=   0.1s\n",
      "[CV] END ...................algorithm=SAMME, n_estimators=60; total time=   0.1s\n",
      "[CV] END ...................algorithm=SAMME, n_estimators=60; total time=   0.1s\n",
      "[CV] END ...................algorithm=SAMME, n_estimators=60; total time=   0.1s\n",
      "[CV] END .................algorithm=SAMME.R, n_estimators=50; total time=   0.0s\n",
      "[CV] END .................algorithm=SAMME.R, n_estimators=50; total time=   0.0s\n",
      "[CV] END .................algorithm=SAMME.R, n_estimators=50; total time=   0.0s\n",
      "[CV] END .................algorithm=SAMME.R, n_estimators=60; total time=   0.0s\n",
      "[CV] END .................algorithm=SAMME.R, n_estimators=60; total time=   0.0s\n",
      "[CV] END .................algorithm=SAMME.R, n_estimators=60; total time=   0.0s\n",
      "[CV] END .................algorithm=SAMME.R, n_estimators=70; total time=   0.0s\n",
      "[CV] END .................algorithm=SAMME.R, n_estimators=70; total time=   0.0s\n",
      "[CV] END .................algorithm=SAMME.R, n_estimators=70; total time=   0.0s\n",
      "[CV] END .................algorithm=SAMME.R, n_estimators=80; total time=   0.0s\n",
      "[CV] END .................algorithm=SAMME.R, n_estimators=80; total time=   0.0s\n",
      "[CV] END .................algorithm=SAMME.R, n_estimators=80; total time=   0.0s\n",
      "[CV] END .................algorithm=SAMME.R, n_estimators=90; total time=   0.0s\n",
      "[CV] END .................algorithm=SAMME.R, n_estimators=90; total time=   0.0s\n",
      "[CV] END .................algorithm=SAMME.R, n_estimators=90; total time=   0.0s\n",
      "[CV] END ...................algorithm=SAMME, n_estimators=70; total time=   0.1s\n",
      "[CV] END ...................algorithm=SAMME, n_estimators=70; total time=   0.1s\n",
      "[CV] END ...................algorithm=SAMME, n_estimators=70; total time=   0.1s\n",
      "[CV] END ...................algorithm=SAMME, n_estimators=80; total time=   0.1s\n",
      "[CV] END ...................algorithm=SAMME, n_estimators=80; total time=   0.1s\n",
      "[CV] END ...................algorithm=SAMME, n_estimators=80; total time=   0.1s\n",
      "[CV] END ...................algorithm=SAMME, n_estimators=90; total time=   0.1s\n",
      "[CV] END ...................algorithm=SAMME, n_estimators=90; total time=   0.2s\n",
      "[CV] END ...................algorithm=SAMME, n_estimators=90; total time=   0.1s\n",
      "Fitting 3 folds for each of 100 candidates, totalling 300 fits\n",
      "[CV] END criterion=squared_error, loss=exponential, max_depth=range(5, 16), min_samples_split=8, n_estimators=500; total time=   0.0s\n",
      "[CV] END criterion=squared_error, loss=exponential, max_depth=range(5, 16), min_samples_split=8, n_estimators=500; total time=   0.0s\n",
      "[CV] END criterion=squared_error, loss=exponential, max_depth=range(5, 16), min_samples_split=8, n_estimators=500; total time=   0.0s\n",
      "[CV] END criterion=squared_error, loss=log_loss, max_depth=range(5, 16), min_samples_split=8, n_estimators=100; total time=   0.0s\n",
      "[CV] END criterion=squared_error, loss=log_loss, max_depth=range(5, 16), min_samples_split=8, n_estimators=100; total time=   0.0s\n",
      "[CV] END criterion=squared_error, loss=log_loss, max_depth=range(5, 16), min_samples_split=8, n_estimators=100; total time=   0.0s\n",
      "[CV] END criterion=squared_error, loss=exponential, max_depth=range(5, 16), min_samples_split=2, n_estimators=100; total time=   0.0s\n",
      "[CV] END criterion=squared_error, loss=exponential, max_depth=range(5, 16), min_samples_split=2, n_estimators=100; total time=   0.0s\n",
      "[CV] END criterion=squared_error, loss=exponential, max_depth=range(5, 16), min_samples_split=2, n_estimators=100; total time=   0.0s\n",
      "[CV] END criterion=mse, loss=exponential, max_depth=None, min_samples_split=2, n_estimators=1000; total time=   0.0s\n",
      "[CV] END criterion=mse, loss=exponential, max_depth=None, min_samples_split=2, n_estimators=1000; total time=   0.0s\n",
      "[CV] END criterion=squared_error, loss=log_loss, max_depth=range(5, 16), min_samples_split=2, n_estimators=100; total time=   0.0s\n",
      "[CV] END criterion=mse, loss=exponential, max_depth=None, min_samples_split=2, n_estimators=1000; total time=   0.0s\n",
      "[CV] END criterion=squared_error, loss=log_loss, max_depth=range(5, 16), min_samples_split=2, n_estimators=100; total time=   0.0s\n",
      "[CV] END criterion=squared_error, loss=log_loss, max_depth=range(5, 16), min_samples_split=2, n_estimators=100; total time=   0.0s\n",
      "[CV] END criterion=mse, loss=log_loss, max_depth=None, min_samples_split=20, n_estimators=500; total time=   0.0s\n",
      "[CV] END criterion=mse, loss=log_loss, max_depth=None, min_samples_split=20, n_estimators=500; total time=   0.0s\n",
      "[CV] END criterion=mse, loss=log_loss, max_depth=None, min_samples_split=20, n_estimators=500; total time=   0.0s\n",
      "[CV] END criterion=mse, loss=log_loss, max_depth=range(5, 16), min_samples_split=15, n_estimators=1000; total time=   0.0s\n",
      "[CV] END criterion=mse, loss=log_loss, max_depth=range(5, 16), min_samples_split=15, n_estimators=1000; total time=   0.0s\n",
      "[CV] END criterion=mse, loss=log_loss, max_depth=range(5, 16), min_samples_split=15, n_estimators=1000; total time=   0.0s\n",
      "[CV] END criterion=mse, loss=log_loss, max_depth=None, min_samples_split=2, n_estimators=100; total time=   0.0s\n",
      "[CV] END criterion=mse, loss=log_loss, max_depth=None, min_samples_split=2, n_estimators=100; total time=   0.0s\n",
      "[CV] END criterion=mse, loss=log_loss, max_depth=None, min_samples_split=2, n_estimators=100; total time=   0.0s\n",
      "[CV] END criterion=mse, loss=log_loss, max_depth=range(5, 16), min_samples_split=2, n_estimators=200; total time=   0.0s\n",
      "[CV] END criterion=mse, loss=log_loss, max_depth=range(5, 16), min_samples_split=2, n_estimators=200; total time=   0.0s\n",
      "[CV] END criterion=mse, loss=log_loss, max_depth=range(5, 16), min_samples_split=2, n_estimators=200; total time=   0.0s\n",
      "[CV] END criterion=mse, loss=exponential, max_depth=None, min_samples_split=15, n_estimators=200; total time=   0.0s\n",
      "[CV] END criterion=mse, loss=exponential, max_depth=None, min_samples_split=15, n_estimators=200; total time=   0.0s\n",
      "[CV] END criterion=mse, loss=exponential, max_depth=None, min_samples_split=15, n_estimators=200; total time=   0.0s\n",
      "[CV] END criterion=friedman_mse, loss=log_loss, max_depth=None, min_samples_split=2, n_estimators=200; total time=   2.6s\n",
      "[CV] END criterion=mse, loss=log_loss, max_depth=range(5, 16), min_samples_split=2, n_estimators=1000; total time=   0.0s\n",
      "[CV] END criterion=mse, loss=log_loss, max_depth=range(5, 16), min_samples_split=2, n_estimators=1000; total time=   0.0s\n",
      "[CV] END criterion=mse, loss=log_loss, max_depth=range(5, 16), min_samples_split=2, n_estimators=1000; total time=   0.0s\n",
      "[CV] END criterion=friedman_mse, loss=log_loss, max_depth=None, min_samples_split=2, n_estimators=200; total time=   2.6s\n",
      "[CV] END criterion=friedman_mse, loss=exponential, max_depth=None, min_samples_split=20, n_estimators=200; total time=   4.0s\n",
      "[CV] END criterion=friedman_mse, loss=exponential, max_depth=None, min_samples_split=20, n_estimators=200; total time=   4.1s\n",
      "[CV] END criterion=mse, loss=log_loss, max_depth=range(5, 16), min_samples_split=8, n_estimators=500; total time=   0.0s\n",
      "[CV] END criterion=mse, loss=log_loss, max_depth=range(5, 16), min_samples_split=8, n_estimators=500; total time=   0.0s\n",
      "[CV] END criterion=mse, loss=log_loss, max_depth=range(5, 16), min_samples_split=8, n_estimators=500; total time=   0.0s\n",
      "[CV] END criterion=friedman_mse, loss=exponential, max_depth=None, min_samples_split=20, n_estimators=200; total time=   4.3s\n",
      "[CV] END criterion=squared_error, loss=log_loss, max_depth=None, min_samples_split=8, n_estimators=1000; total time=   5.2s\n",
      "[CV] END criterion=friedman_mse, loss=log_loss, max_depth=None, min_samples_split=2, n_estimators=200; total time=   2.9s\n",
      "[CV] END criterion=friedman_mse, loss=log_loss, max_depth=range(5, 16), min_samples_split=15, n_estimators=200; total time=   0.0s\n",
      "[CV] END criterion=friedman_mse, loss=log_loss, max_depth=range(5, 16), min_samples_split=15, n_estimators=200; total time=   0.0s\n",
      "[CV] END criterion=friedman_mse, loss=log_loss, max_depth=range(5, 16), min_samples_split=15, n_estimators=200; total time=   0.0s\n",
      "[CV] END criterion=squared_error, loss=log_loss, max_depth=None, min_samples_split=8, n_estimators=1000; total time=   5.6s\n",
      "[CV] END criterion=squared_error, loss=log_loss, max_depth=None, min_samples_split=15, n_estimators=1000; total time=   5.8s\n",
      "[CV] END criterion=squared_error, loss=log_loss, max_depth=None, min_samples_split=15, n_estimators=1000; total time=   6.1s\n",
      "[CV] END criterion=mse, loss=exponential, max_depth=range(5, 16), min_samples_split=2, n_estimators=200; total time=   0.0s\n",
      "[CV] END criterion=mse, loss=exponential, max_depth=range(5, 16), min_samples_split=2, n_estimators=200; total time=   0.0s\n",
      "[CV] END criterion=mse, loss=exponential, max_depth=range(5, 16), min_samples_split=15, n_estimators=500; total time=   0.0s\n",
      "[CV] END criterion=mse, loss=exponential, max_depth=range(5, 16), min_samples_split=15, n_estimators=500; total time=   0.0s\n",
      "[CV] END criterion=mse, loss=exponential, max_depth=range(5, 16), min_samples_split=15, n_estimators=500; total time=   0.0s\n",
      "[CV] END criterion=squared_error, loss=log_loss, max_depth=None, min_samples_split=15, n_estimators=1000; total time=   6.5s\n",
      "[CV] END criterion=squared_error, loss=exponential, max_depth=range(5, 16), min_samples_split=8, n_estimators=100; total time=   0.0s\n",
      "[CV] END criterion=squared_error, loss=exponential, max_depth=range(5, 16), min_samples_split=8, n_estimators=100; total time=   0.0s\n",
      "[CV] END criterion=squared_error, loss=exponential, max_depth=range(5, 16), min_samples_split=8, n_estimators=100; total time=   0.0s\n",
      "[CV] END criterion=squared_error, loss=log_loss, max_depth=range(5, 16), min_samples_split=20, n_estimators=200; total time=   0.0s\n",
      "[CV] END criterion=squared_error, loss=log_loss, max_depth=range(5, 16), min_samples_split=20, n_estimators=200; total time=   0.0s\n",
      "[CV] END criterion=squared_error, loss=log_loss, max_depth=range(5, 16), min_samples_split=20, n_estimators=200; total time=   0.0s\n",
      "[CV] END criterion=mse, loss=log_loss, max_depth=range(5, 16), min_samples_split=8, n_estimators=100; total time=   0.0s\n",
      "[CV] END criterion=mse, loss=log_loss, max_depth=range(5, 16), min_samples_split=8, n_estimators=100; total time=   0.0s\n",
      "[CV] END criterion=mse, loss=log_loss, max_depth=range(5, 16), min_samples_split=8, n_estimators=100; total time=   0.0s\n",
      "[CV] END criterion=squared_error, loss=exponential, max_depth=range(5, 16), min_samples_split=2, n_estimators=200; total time=   0.0s\n",
      "[CV] END criterion=squared_error, loss=exponential, max_depth=range(5, 16), min_samples_split=2, n_estimators=200; total time=   0.0s\n",
      "[CV] END criterion=squared_error, loss=exponential, max_depth=range(5, 16), min_samples_split=2, n_estimators=200; total time=   0.0s\n",
      "[CV] END criterion=mse, loss=exponential, max_depth=range(5, 16), min_samples_split=15, n_estimators=1000; total time=   0.0s\n",
      "[CV] END criterion=mse, loss=exponential, max_depth=range(5, 16), min_samples_split=15, n_estimators=1000; total time=   0.0s\n",
      "[CV] END criterion=mse, loss=exponential, max_depth=range(5, 16), min_samples_split=15, n_estimators=1000; total time=   0.0s\n",
      "[CV] END criterion=squared_error, loss=exponential, max_depth=None, min_samples_split=8, n_estimators=100; total time=   2.7s\n",
      "[CV] END criterion=squared_error, loss=exponential, max_depth=None, min_samples_split=8, n_estimators=100; total time=   2.7s\n",
      "[CV] END criterion=squared_error, loss=log_loss, max_depth=None, min_samples_split=15, n_estimators=500; total time=   6.1s\n",
      "[CV] END criterion=squared_error, loss=exponential, max_depth=range(5, 16), min_samples_split=8, n_estimators=1000; total time=   0.0s\n",
      "[CV] END criterion=friedman_mse, loss=log_loss, max_depth=range(5, 16), min_samples_split=15, n_estimators=500; total time=   0.0s\n",
      "[CV] END criterion=friedman_mse, loss=log_loss, max_depth=range(5, 16), min_samples_split=15, n_estimators=500; total time=   0.0s\n",
      "[CV] END criterion=friedman_mse, loss=log_loss, max_depth=range(5, 16), min_samples_split=15, n_estimators=500; total time=   0.0s\n",
      "[CV] END criterion=mse, loss=log_loss, max_depth=range(5, 16), min_samples_split=2, n_estimators=100; total time=   0.0s\n",
      "[CV] END criterion=mse, loss=log_loss, max_depth=range(5, 16), min_samples_split=2, n_estimators=100; total time=   0.0s\n",
      "[CV] END criterion=mse, loss=log_loss, max_depth=range(5, 16), min_samples_split=2, n_estimators=100; total time=   0.0s\n",
      "[CV] END criterion=mse, loss=exponential, max_depth=None, min_samples_split=20, n_estimators=200; total time=   0.0s\n",
      "[CV] END criterion=mse, loss=exponential, max_depth=None, min_samples_split=20, n_estimators=200; total time=   0.0s\n",
      "[CV] END criterion=mse, loss=exponential, max_depth=None, min_samples_split=20, n_estimators=200; total time=   0.0s\n",
      "[CV] END criterion=friedman_mse, loss=exponential, max_depth=range(5, 16), min_samples_split=2, n_estimators=100; total time=   0.0s\n",
      "[CV] END criterion=friedman_mse, loss=exponential, max_depth=range(5, 16), min_samples_split=2, n_estimators=100; total time=   0.0s\n",
      "[CV] END criterion=friedman_mse, loss=exponential, max_depth=range(5, 16), min_samples_split=2, n_estimators=100; total time=   0.0s\n",
      "[CV] END criterion=squared_error, loss=log_loss, max_depth=range(5, 16), min_samples_split=2, n_estimators=200; total time=   0.0s\n",
      "[CV] END criterion=squared_error, loss=log_loss, max_depth=range(5, 16), min_samples_split=2, n_estimators=200; total time=   0.0s\n",
      "[CV] END criterion=squared_error, loss=log_loss, max_depth=range(5, 16), min_samples_split=2, n_estimators=200; total time=   0.0s\n",
      "[CV] END criterion=mse, loss=log_loss, max_depth=None, min_samples_split=2, n_estimators=500; total time=   0.0s\n",
      "[CV] END criterion=mse, loss=log_loss, max_depth=None, min_samples_split=2, n_estimators=500; total time=   0.0s\n",
      "[CV] END criterion=mse, loss=log_loss, max_depth=None, min_samples_split=2, n_estimators=500; total time=   0.0s\n",
      "[CV] END criterion=squared_error, loss=log_loss, max_depth=range(5, 16), min_samples_split=15, n_estimators=100; total time=   0.0s\n",
      "[CV] END criterion=squared_error, loss=log_loss, max_depth=range(5, 16), min_samples_split=15, n_estimators=100; total time=   0.0s\n",
      "[CV] END criterion=squared_error, loss=log_loss, max_depth=range(5, 16), min_samples_split=15, n_estimators=100; total time=   0.0s\n",
      "[CV] END criterion=mse, loss=log_loss, max_depth=None, min_samples_split=8, n_estimators=200; total time=   0.0s\n",
      "[CV] END criterion=mse, loss=log_loss, max_depth=None, min_samples_split=8, n_estimators=200; total time=   0.0s\n",
      "[CV] END criterion=mse, loss=log_loss, max_depth=None, min_samples_split=8, n_estimators=200; total time=   0.0s\n",
      "[CV] END criterion=squared_error, loss=exponential, max_depth=None, min_samples_split=8, n_estimators=100; total time=   2.2s\n",
      "[CV] END criterion=squared_error, loss=log_loss, max_depth=None, min_samples_split=15, n_estimators=500; total time=   5.7s\n",
      "[CV] END criterion=squared_error, loss=log_loss, max_depth=None, min_samples_split=8, n_estimators=1000; total time=   4.8s\n",
      "[CV] END criterion=squared_error, loss=exponential, max_depth=range(5, 16), min_samples_split=20, n_estimators=1000; total time=   0.0s\n",
      "[CV] END criterion=squared_error, loss=exponential, max_depth=range(5, 16), min_samples_split=20, n_estimators=1000; total time=   0.0s\n",
      "[CV] END criterion=squared_error, loss=exponential, max_depth=None, min_samples_split=20, n_estimators=200; total time=   4.1s\n",
      "[CV] END criterion=friedman_mse, loss=log_loss, max_depth=None, min_samples_split=8, n_estimators=1000; total time=   5.3s\n",
      "[CV] END criterion=friedman_mse, loss=log_loss, max_depth=range(5, 16), min_samples_split=20, n_estimators=1000; total time=   0.0s\n",
      "[CV] END criterion=friedman_mse, loss=log_loss, max_depth=range(5, 16), min_samples_split=20, n_estimators=1000; total time=   0.0s\n",
      "[CV] END criterion=friedman_mse, loss=log_loss, max_depth=range(5, 16), min_samples_split=20, n_estimators=1000; total time=   0.0s\n",
      "[CV] END criterion=mse, loss=exponential, max_depth=None, min_samples_split=2, n_estimators=100; total time=   0.0s\n",
      "[CV] END criterion=mse, loss=exponential, max_depth=None, min_samples_split=2, n_estimators=100; total time=   0.0s\n",
      "[CV] END criterion=mse, loss=exponential, max_depth=None, min_samples_split=2, n_estimators=100; total time=   0.0s\n",
      "[CV] END criterion=friedman_mse, loss=log_loss, max_depth=range(5, 16), min_samples_split=20, n_estimators=100; total time=   0.0s\n",
      "[CV] END criterion=friedman_mse, loss=log_loss, max_depth=range(5, 16), min_samples_split=20, n_estimators=100; total time=   0.0s\n",
      "[CV] END criterion=friedman_mse, loss=log_loss, max_depth=range(5, 16), min_samples_split=20, n_estimators=100; total time=   0.0s\n",
      "[CV] END criterion=friedman_mse, loss=log_loss, max_depth=range(5, 16), min_samples_split=15, n_estimators=1000; total time=   0.0s\n",
      "[CV] END criterion=friedman_mse, loss=log_loss, max_depth=range(5, 16), min_samples_split=15, n_estimators=1000; total time=   0.0s\n",
      "[CV] END criterion=friedman_mse, loss=log_loss, max_depth=range(5, 16), min_samples_split=15, n_estimators=1000; total time=   0.0s\n",
      "[CV] END criterion=mse, loss=exponential, max_depth=range(5, 16), min_samples_split=20, n_estimators=200; total time=   0.0s\n",
      "[CV] END criterion=mse, loss=exponential, max_depth=range(5, 16), min_samples_split=20, n_estimators=200; total time=   0.0s\n",
      "[CV] END criterion=mse, loss=exponential, max_depth=range(5, 16), min_samples_split=20, n_estimators=200; total time=   0.0s\n",
      "[CV] END criterion=friedman_mse, loss=exponential, max_depth=range(5, 16), min_samples_split=2, n_estimators=1000; total time=   0.0s\n",
      "[CV] END criterion=friedman_mse, loss=exponential, max_depth=range(5, 16), min_samples_split=2, n_estimators=1000; total time=   0.0s\n",
      "[CV] END criterion=friedman_mse, loss=exponential, max_depth=range(5, 16), min_samples_split=2, n_estimators=1000; total time=   0.0s\n",
      "[CV] END criterion=friedman_mse, loss=log_loss, max_depth=range(5, 16), min_samples_split=2, n_estimators=100; total time=   0.0s\n",
      "[CV] END criterion=friedman_mse, loss=log_loss, max_depth=range(5, 16), min_samples_split=2, n_estimators=100; total time=   0.0s\n",
      "[CV] END criterion=friedman_mse, loss=log_loss, max_depth=range(5, 16), min_samples_split=2, n_estimators=100; total time=   0.0s\n",
      "[CV] END criterion=friedman_mse, loss=exponential, max_depth=range(5, 16), min_samples_split=20, n_estimators=100; total time=   0.0s\n",
      "[CV] END criterion=friedman_mse, loss=exponential, max_depth=range(5, 16), min_samples_split=20, n_estimators=100; total time=   0.0s\n",
      "[CV] END criterion=friedman_mse, loss=exponential, max_depth=range(5, 16), min_samples_split=20, n_estimators=100; total time=   0.0s\n",
      "[CV] END criterion=squared_error, loss=log_loss, max_depth=None, min_samples_split=8, n_estimators=500; total time=   5.2s\n",
      "[CV] END criterion=squared_error, loss=exponential, max_depth=None, min_samples_split=20, n_estimators=200; total time=   4.4s\n",
      "[CV] END criterion=friedman_mse, loss=log_loss, max_depth=None, min_samples_split=8, n_estimators=1000; total time=   5.5s\n",
      "[CV] END criterion=friedman_mse, loss=exponential, max_depth=None, min_samples_split=2, n_estimators=200; total time=   2.9s\n",
      "[CV] END criterion=squared_error, loss=log_loss, max_depth=None, min_samples_split=2, n_estimators=200; total time=   2.8s\n",
      "[CV] END criterion=squared_error, loss=exponential, max_depth=None, min_samples_split=20, n_estimators=500; total time=   6.5s\n",
      "[CV] END criterion=friedman_mse, loss=exponential, max_depth=None, min_samples_split=2, n_estimators=200; total time=   2.9s\n",
      "[CV] END criterion=squared_error, loss=log_loss, max_depth=None, min_samples_split=2, n_estimators=200; total time=   2.7s\n",
      "[CV] END criterion=squared_error, loss=exponential, max_depth=None, min_samples_split=20, n_estimators=200; total time=   4.3s\n",
      "[CV] END criterion=squared_error, loss=exponential, max_depth=range(5, 16), min_samples_split=8, n_estimators=1000; total time=   0.0s\n",
      "[CV] END criterion=squared_error, loss=exponential, max_depth=range(5, 16), min_samples_split=8, n_estimators=1000; total time=   0.0s\n",
      "[CV] END criterion=friedman_mse, loss=log_loss, max_depth=None, min_samples_split=8, n_estimators=200; total time=   5.3s\n",
      "[CV] END criterion=friedman_mse, loss=log_loss, max_depth=None, min_samples_split=8, n_estimators=200; total time=   4.8s\n",
      "[CV] END criterion=squared_error, loss=log_loss, max_depth=None, min_samples_split=8, n_estimators=500; total time=   4.8s\n",
      "[CV] END criterion=friedman_mse, loss=log_loss, max_depth=None, min_samples_split=8, n_estimators=500; total time=   4.8s\n",
      "[CV] END criterion=friedman_mse, loss=log_loss, max_depth=None, min_samples_split=8, n_estimators=1000; total time=   5.3s\n",
      "[CV] END criterion=squared_error, loss=log_loss, max_depth=None, min_samples_split=15, n_estimators=500; total time=   7.1s\n",
      "[CV] END criterion=friedman_mse, loss=exponential, max_depth=None, min_samples_split=2, n_estimators=200; total time=   3.1s\n",
      "[CV] END criterion=squared_error, loss=log_loss, max_depth=None, min_samples_split=2, n_estimators=200; total time=   3.0s\n",
      "[CV] END criterion=squared_error, loss=exponential, max_depth=range(5, 16), min_samples_split=20, n_estimators=1000; total time=   0.0s\n",
      "[CV] END criterion=squared_error, loss=log_loss, max_depth=None, min_samples_split=2, n_estimators=100; total time=   1.7s\n",
      "[CV] END criterion=squared_error, loss=log_loss, max_depth=None, min_samples_split=8, n_estimators=100; total time=   2.9s\n",
      "[CV] END criterion=squared_error, loss=log_loss, max_depth=None, min_samples_split=2, n_estimators=100; total time=   1.6s\n",
      "[CV] END criterion=squared_error, loss=log_loss, max_depth=None, min_samples_split=2, n_estimators=100; total time=   1.5s\n",
      "[CV] END criterion=squared_error, loss=exponential, max_depth=None, min_samples_split=20, n_estimators=500; total time=   7.0s\n",
      "[CV] END criterion=squared_error, loss=log_loss, max_depth=None, min_samples_split=8, n_estimators=100; total time=   2.5s\n",
      "[CV] END criterion=squared_error, loss=log_loss, max_depth=None, min_samples_split=8, n_estimators=500; total time=   5.2s\n",
      "[CV] END criterion=mse, loss=exponential, max_depth=range(5, 16), min_samples_split=2, n_estimators=200; total time=   0.0s\n",
      "[CV] END criterion=friedman_mse, loss=log_loss, max_depth=None, min_samples_split=8, n_estimators=500; total time=   5.2s\n",
      "[CV] END criterion=friedman_mse, loss=log_loss, max_depth=None, min_samples_split=8, n_estimators=500; total time=   5.6s\n",
      "[CV] END criterion=mse, loss=log_loss, max_depth=range(5, 16), min_samples_split=8, n_estimators=200; total time=   0.0s\n",
      "[CV] END criterion=friedman_mse, loss=log_loss, max_depth=None, min_samples_split=8, n_estimators=200; total time=   5.6s\n",
      "[CV] END criterion=mse, loss=log_loss, max_depth=range(5, 16), min_samples_split=8, n_estimators=200; total time=   0.0s\n",
      "[CV] END criterion=mse, loss=log_loss, max_depth=range(5, 16), min_samples_split=8, n_estimators=200; total time=   0.0s\n",
      "[CV] END criterion=friedman_mse, loss=exponential, max_depth=None, min_samples_split=2, n_estimators=1000; total time=   3.1s\n",
      "[CV] END criterion=squared_error, loss=exponential, max_depth=None, min_samples_split=8, n_estimators=500; total time=   5.3s\n",
      "[CV] END criterion=squared_error, loss=log_loss, max_depth=None, min_samples_split=8, n_estimators=100; total time=   2.5s\n",
      "[CV] END criterion=squared_error, loss=exponential, max_depth=None, min_samples_split=8, n_estimators=500; total time=   5.2s\n",
      "[CV] END criterion=squared_error, loss=exponential, max_depth=None, min_samples_split=8, n_estimators=500; total time=   5.6s\n",
      "[CV] END criterion=friedman_mse, loss=exponential, max_depth=None, min_samples_split=2, n_estimators=1000; total time=   3.1s\n",
      "[CV] END criterion=friedman_mse, loss=exponential, max_depth=None, min_samples_split=2, n_estimators=1000; total time=   3.3s\n",
      "[CV] END criterion=friedman_mse, loss=exponential, max_depth=None, min_samples_split=20, n_estimators=100; total time=   2.0s\n",
      "[CV] END criterion=friedman_mse, loss=exponential, max_depth=None, min_samples_split=20, n_estimators=100; total time=   1.8s\n",
      "[CV] END criterion=friedman_mse, loss=exponential, max_depth=None, min_samples_split=20, n_estimators=100; total time=   1.9s\n",
      "[CV] END criterion=squared_error, loss=exponential, max_depth=None, min_samples_split=20, n_estimators=500; total time=   7.2s\n",
      "[CV] END criterion=mse, loss=exponential, max_depth=None, min_samples_split=20, n_estimators=500; total time=   0.0s\n",
      "[CV] END criterion=mse, loss=exponential, max_depth=None, min_samples_split=20, n_estimators=500; total time=   0.0s\n",
      "[CV] END criterion=mse, loss=exponential, max_depth=None, min_samples_split=20, n_estimators=500; total time=   0.0s\n",
      "[CV] END criterion=mse, loss=log_loss, max_depth=range(5, 16), min_samples_split=8, n_estimators=1000; total time=   0.0s\n",
      "[CV] END criterion=mse, loss=log_loss, max_depth=range(5, 16), min_samples_split=8, n_estimators=1000; total time=   0.0s\n",
      "[CV] END criterion=mse, loss=log_loss, max_depth=range(5, 16), min_samples_split=8, n_estimators=1000; total time=   0.0s\n",
      "[CV] END criterion=mse, loss=log_loss, max_depth=range(5, 16), min_samples_split=20, n_estimators=500; total time=   0.0s\n",
      "[CV] END criterion=mse, loss=log_loss, max_depth=range(5, 16), min_samples_split=20, n_estimators=500; total time=   0.0s\n",
      "[CV] END criterion=mse, loss=log_loss, max_depth=range(5, 16), min_samples_split=20, n_estimators=500; total time=   0.0s\n",
      "[CV] END criterion=mse, loss=exponential, max_depth=range(5, 16), min_samples_split=8, n_estimators=1000; total time=   0.0s\n",
      "[CV] END criterion=mse, loss=exponential, max_depth=range(5, 16), min_samples_split=8, n_estimators=1000; total time=   0.0s\n",
      "[CV] END criterion=mse, loss=exponential, max_depth=range(5, 16), min_samples_split=8, n_estimators=1000; total time=   0.0s\n",
      "[CV] END criterion=friedman_mse, loss=log_loss, max_depth=None, min_samples_split=15, n_estimators=1000; total time=   5.9s\n",
      "[CV] END criterion=friedman_mse, loss=log_loss, max_depth=None, min_samples_split=15, n_estimators=1000; total time=   6.0s\n",
      "[CV] END criterion=friedman_mse, loss=log_loss, max_depth=None, min_samples_split=15, n_estimators=1000; total time=   7.1s\n",
      "[CV] END criterion=squared_error, loss=exponential, max_depth=range(5, 16), min_samples_split=15, n_estimators=500; total time=   0.0s\n",
      "[CV] END criterion=squared_error, loss=exponential, max_depth=range(5, 16), min_samples_split=15, n_estimators=500; total time=   0.0s\n",
      "[CV] END criterion=squared_error, loss=exponential, max_depth=range(5, 16), min_samples_split=15, n_estimators=500; total time=   0.0s\n",
      "[CV] END criterion=mse, loss=log_loss, max_depth=range(5, 16), min_samples_split=20, n_estimators=200; total time=   0.0s\n",
      "[CV] END criterion=mse, loss=log_loss, max_depth=range(5, 16), min_samples_split=20, n_estimators=200; total time=   0.0s\n",
      "[CV] END criterion=mse, loss=log_loss, max_depth=range(5, 16), min_samples_split=20, n_estimators=200; total time=   0.0s\n",
      "[CV] END criterion=squared_error, loss=log_loss, max_depth=range(5, 16), min_samples_split=15, n_estimators=1000; total time=   0.0s\n",
      "[CV] END criterion=squared_error, loss=log_loss, max_depth=range(5, 16), min_samples_split=15, n_estimators=1000; total time=   0.0s\n",
      "[CV] END criterion=squared_error, loss=log_loss, max_depth=range(5, 16), min_samples_split=15, n_estimators=1000; total time=   0.0s\n",
      "[CV] END criterion=friedman_mse, loss=log_loss, max_depth=None, min_samples_split=20, n_estimators=500; total time=   6.8s\n",
      "[CV] END criterion=friedman_mse, loss=log_loss, max_depth=None, min_samples_split=20, n_estimators=500; total time=   6.5s\n",
      "[CV] END criterion=friedman_mse, loss=log_loss, max_depth=None, min_samples_split=20, n_estimators=500; total time=   6.9s\n",
      "[CV] END criterion=squared_error, loss=exponential, max_depth=None, min_samples_split=2, n_estimators=500; total time=   2.9s\n",
      "[CV] END criterion=squared_error, loss=exponential, max_depth=None, min_samples_split=8, n_estimators=1000; total time=   5.7s\n",
      "[CV] END criterion=squared_error, loss=exponential, max_depth=None, min_samples_split=8, n_estimators=1000; total time=   5.6s\n",
      "[CV] END criterion=squared_error, loss=exponential, max_depth=None, min_samples_split=8, n_estimators=1000; total time=   5.7s\n",
      "[CV] END criterion=friedman_mse, loss=exponential, max_depth=None, min_samples_split=20, n_estimators=1000; total time=   6.9s\n",
      "[CV] END criterion=squared_error, loss=exponential, max_depth=None, min_samples_split=2, n_estimators=500; total time=   3.0s\n",
      "[CV] END criterion=mse, loss=log_loss, max_depth=range(5, 16), min_samples_split=15, n_estimators=100; total time=   0.0s\n",
      "[CV] END criterion=mse, loss=log_loss, max_depth=range(5, 16), min_samples_split=15, n_estimators=100; total time=   0.0s\n",
      "[CV] END criterion=mse, loss=log_loss, max_depth=range(5, 16), min_samples_split=15, n_estimators=100; total time=   0.0s\n",
      "[CV] END criterion=squared_error, loss=exponential, max_depth=None, min_samples_split=2, n_estimators=500; total time=   3.0s\n",
      "[CV] END criterion=friedman_mse, loss=exponential, max_depth=None, min_samples_split=20, n_estimators=1000; total time=   7.3s\n",
      "[CV] END criterion=friedman_mse, loss=exponential, max_depth=None, min_samples_split=20, n_estimators=1000; total time=   7.8s\n",
      "[CV] END criterion=friedman_mse, loss=exponential, max_depth=range(5, 16), min_samples_split=8, n_estimators=100; total time=   0.0s\n",
      "[CV] END criterion=friedman_mse, loss=exponential, max_depth=range(5, 16), min_samples_split=8, n_estimators=100; total time=   0.0s\n",
      "[CV] END criterion=friedman_mse, loss=exponential, max_depth=range(5, 16), min_samples_split=8, n_estimators=100; total time=   0.0s\n",
      "[CV] END criterion=mse, loss=log_loss, max_depth=None, min_samples_split=2, n_estimators=1000; total time=   0.0s\n",
      "[CV] END criterion=mse, loss=log_loss, max_depth=None, min_samples_split=2, n_estimators=1000; total time=   0.0s\n",
      "[CV] END criterion=mse, loss=log_loss, max_depth=None, min_samples_split=2, n_estimators=1000; total time=   0.0s\n",
      "[CV] END criterion=friedman_mse, loss=exponential, max_depth=range(5, 16), min_samples_split=2, n_estimators=500; total time=   0.0s\n",
      "[CV] END criterion=friedman_mse, loss=exponential, max_depth=range(5, 16), min_samples_split=2, n_estimators=500; total time=   0.0s\n",
      "[CV] END criterion=friedman_mse, loss=exponential, max_depth=range(5, 16), min_samples_split=2, n_estimators=500; total time=   0.0s\n",
      "[CV] END criterion=squared_error, loss=log_loss, max_depth=None, min_samples_split=20, n_estimators=200; total time=   4.4s\n",
      "[CV] END criterion=friedman_mse, loss=exponential, max_depth=None, min_samples_split=2, n_estimators=500; total time=   3.2s\n",
      "[CV] END criterion=friedman_mse, loss=exponential, max_depth=None, min_samples_split=2, n_estimators=500; total time=   3.3s\n",
      "[CV] END criterion=mse, loss=exponential, max_depth=None, min_samples_split=20, n_estimators=100; total time=   0.0s\n",
      "[CV] END criterion=mse, loss=exponential, max_depth=None, min_samples_split=20, n_estimators=100; total time=   0.0s\n",
      "[CV] END criterion=mse, loss=exponential, max_depth=None, min_samples_split=20, n_estimators=100; total time=   0.0s\n",
      "[CV] END criterion=friedman_mse, loss=exponential, max_depth=None, min_samples_split=2, n_estimators=500; total time=   3.3s\n",
      "[CV] END criterion=squared_error, loss=log_loss, max_depth=None, min_samples_split=15, n_estimators=100; total time=   2.4s\n",
      "[CV] END criterion=squared_error, loss=log_loss, max_depth=None, min_samples_split=20, n_estimators=200; total time=   4.4s\n",
      "[CV] END criterion=squared_error, loss=exponential, max_depth=range(5, 16), min_samples_split=15, n_estimators=100; total time=   0.0s\n",
      "[CV] END criterion=squared_error, loss=exponential, max_depth=range(5, 16), min_samples_split=15, n_estimators=100; total time=   0.0s\n",
      "[CV] END criterion=squared_error, loss=exponential, max_depth=range(5, 16), min_samples_split=15, n_estimators=100; total time=   0.0s\n",
      "[CV] END criterion=friedman_mse, loss=log_loss, max_depth=range(5, 16), min_samples_split=8, n_estimators=100; total time=   0.0s\n",
      "[CV] END criterion=friedman_mse, loss=log_loss, max_depth=range(5, 16), min_samples_split=8, n_estimators=100; total time=   0.0s\n",
      "[CV] END criterion=friedman_mse, loss=log_loss, max_depth=range(5, 16), min_samples_split=8, n_estimators=100; total time=   0.0s\n",
      "[CV] END criterion=friedman_mse, loss=exponential, max_depth=range(5, 16), min_samples_split=15, n_estimators=100; total time=   0.0s\n",
      "[CV] END criterion=friedman_mse, loss=exponential, max_depth=range(5, 16), min_samples_split=15, n_estimators=100; total time=   0.0s\n",
      "[CV] END criterion=friedman_mse, loss=exponential, max_depth=range(5, 16), min_samples_split=15, n_estimators=100; total time=   0.0s\n",
      "[CV] END criterion=squared_error, loss=log_loss, max_depth=None, min_samples_split=15, n_estimators=100; total time=   2.0s\n",
      "[CV] END criterion=squared_error, loss=log_loss, max_depth=None, min_samples_split=20, n_estimators=200; total time=   4.6s\n",
      "[CV] END criterion=squared_error, loss=log_loss, max_depth=None, min_samples_split=15, n_estimators=100; total time=   2.0s\n",
      "[CV] END criterion=squared_error, loss=exponential, max_depth=None, min_samples_split=15, n_estimators=200; total time=   5.0s\n",
      "[CV] END criterion=squared_error, loss=exponential, max_depth=None, min_samples_split=15, n_estimators=200; total time=   5.3s\n",
      "[CV] END criterion=squared_error, loss=exponential, max_depth=None, min_samples_split=15, n_estimators=200; total time=   5.2s\n",
      "[CV] END criterion=mse, loss=exponential, max_depth=None, min_samples_split=15, n_estimators=100; total time=   0.0s\n",
      "[CV] END criterion=mse, loss=exponential, max_depth=None, min_samples_split=15, n_estimators=100; total time=   0.0s\n",
      "[CV] END criterion=mse, loss=exponential, max_depth=None, min_samples_split=15, n_estimators=100; total time=   0.0s\n",
      "[CV] END criterion=squared_error, loss=exponential, max_depth=range(5, 16), min_samples_split=15, n_estimators=1000; total time=   0.0s\n",
      "[CV] END criterion=squared_error, loss=exponential, max_depth=range(5, 16), min_samples_split=15, n_estimators=1000; total time=   0.0s\n",
      "[CV] END criterion=squared_error, loss=exponential, max_depth=range(5, 16), min_samples_split=15, n_estimators=1000; total time=   0.0s\n",
      "[CV] END criterion=squared_error, loss=exponential, max_depth=range(5, 16), min_samples_split=20, n_estimators=100; total time=   0.0s\n",
      "[CV] END criterion=squared_error, loss=exponential, max_depth=range(5, 16), min_samples_split=20, n_estimators=100; total time=   0.0s\n",
      "[CV] END criterion=squared_error, loss=exponential, max_depth=range(5, 16), min_samples_split=20, n_estimators=100; total time=   0.0s\n",
      "[CV] END criterion=friedman_mse, loss=log_loss, max_depth=None, min_samples_split=2, n_estimators=500; total time=   2.7s\n",
      "[CV] END criterion=friedman_mse, loss=log_loss, max_depth=None, min_samples_split=2, n_estimators=500; total time=   2.8s\n",
      "[CV] END criterion=friedman_mse, loss=exponential, max_depth=None, min_samples_split=15, n_estimators=100; total time=   2.0s\n",
      "[CV] END criterion=friedman_mse, loss=log_loss, max_depth=range(5, 16), min_samples_split=2, n_estimators=1000; total time=   0.0s\n",
      "[CV] END criterion=friedman_mse, loss=log_loss, max_depth=range(5, 16), min_samples_split=2, n_estimators=1000; total time=   0.0s\n",
      "[CV] END criterion=friedman_mse, loss=log_loss, max_depth=range(5, 16), min_samples_split=2, n_estimators=1000; total time=   0.0s\n",
      "[CV] END criterion=friedman_mse, loss=exponential, max_depth=None, min_samples_split=15, n_estimators=100; total time=   2.2s\n",
      "[CV] END criterion=squared_error, loss=log_loss, max_depth=range(5, 16), min_samples_split=20, n_estimators=100; total time=   0.0s\n",
      "[CV] END criterion=squared_error, loss=log_loss, max_depth=range(5, 16), min_samples_split=20, n_estimators=100; total time=   0.0s\n",
      "[CV] END criterion=squared_error, loss=log_loss, max_depth=range(5, 16), min_samples_split=20, n_estimators=100; total time=   0.0s\n",
      "[CV] END criterion=squared_error, loss=exponential, max_depth=range(5, 16), min_samples_split=2, n_estimators=500; total time=   0.0s\n",
      "[CV] END criterion=squared_error, loss=exponential, max_depth=range(5, 16), min_samples_split=2, n_estimators=500; total time=   0.0s\n",
      "[CV] END criterion=squared_error, loss=exponential, max_depth=range(5, 16), min_samples_split=2, n_estimators=500; total time=   0.0s\n",
      "[CV] END criterion=friedman_mse, loss=log_loss, max_depth=range(5, 16), min_samples_split=8, n_estimators=500; total time=   0.0s\n",
      "[CV] END criterion=friedman_mse, loss=log_loss, max_depth=range(5, 16), min_samples_split=8, n_estimators=500; total time=   0.0s\n",
      "[CV] END criterion=friedman_mse, loss=log_loss, max_depth=range(5, 16), min_samples_split=8, n_estimators=500; total time=   0.0s\n",
      "[CV] END criterion=mse, loss=log_loss, max_depth=None, min_samples_split=20, n_estimators=1000; total time=   0.0s\n",
      "[CV] END criterion=mse, loss=log_loss, max_depth=None, min_samples_split=20, n_estimators=1000; total time=   0.0s\n",
      "[CV] END criterion=mse, loss=log_loss, max_depth=None, min_samples_split=20, n_estimators=1000; total time=   0.0s\n",
      "[CV] END criterion=friedman_mse, loss=log_loss, max_depth=None, min_samples_split=2, n_estimators=500; total time=   2.6s\n",
      "[CV] END criterion=friedman_mse, loss=exponential, max_depth=None, min_samples_split=15, n_estimators=100; total time=   2.1s\n",
      "[CV] END criterion=friedman_mse, loss=exponential, max_depth=None, min_samples_split=8, n_estimators=100; total time=   2.6s\n",
      "[CV] END criterion=friedman_mse, loss=exponential, max_depth=None, min_samples_split=8, n_estimators=100; total time=   2.7s\n",
      "[CV] END criterion=friedman_mse, loss=exponential, max_depth=None, min_samples_split=8, n_estimators=100; total time=   2.6s\n",
      "[CV] END criterion=squared_error, loss=log_loss, max_depth=range(5, 16), min_samples_split=2, n_estimators=500; total time=   0.0s\n",
      "[CV] END criterion=squared_error, loss=log_loss, max_depth=range(5, 16), min_samples_split=2, n_estimators=500; total time=   0.0s\n",
      "[CV] END criterion=squared_error, loss=log_loss, max_depth=range(5, 16), min_samples_split=2, n_estimators=500; total time=   0.0s\n",
      "[CV] END criterion=friedman_mse, loss=log_loss, max_depth=None, min_samples_split=15, n_estimators=100; total time=   2.3s\n",
      "[CV] END criterion=squared_error, loss=exponential, max_depth=None, min_samples_split=8, n_estimators=200; total time=   5.2s\n",
      "[CV] END criterion=squared_error, loss=exponential, max_depth=None, min_samples_split=8, n_estimators=200; total time=   5.5s\n",
      "[CV] END criterion=mse, loss=exponential, max_depth=None, min_samples_split=2, n_estimators=200; total time=   0.0s\n",
      "[CV] END criterion=mse, loss=exponential, max_depth=None, min_samples_split=2, n_estimators=200; total time=   0.0s\n",
      "[CV] END criterion=mse, loss=exponential, max_depth=None, min_samples_split=2, n_estimators=200; total time=   0.0s\n",
      "[CV] END criterion=friedman_mse, loss=log_loss, max_depth=None, min_samples_split=15, n_estimators=100; total time=   2.1s\n",
      "[CV] END criterion=friedman_mse, loss=log_loss, max_depth=None, min_samples_split=15, n_estimators=100; total time=   2.3s\n",
      "[CV] END criterion=squared_error, loss=exponential, max_depth=None, min_samples_split=8, n_estimators=200; total time=   5.7s\n",
      "[CV] END criterion=friedman_mse, loss=exponential, max_depth=None, min_samples_split=2, n_estimators=100; total time=   1.5s\n",
      "[CV] END criterion=friedman_mse, loss=exponential, max_depth=None, min_samples_split=2, n_estimators=100; total time=   1.5s\n",
      "[CV] END criterion=friedman_mse, loss=exponential, max_depth=None, min_samples_split=2, n_estimators=100; total time=   1.6s\n",
      "[CV] END criterion=squared_error, loss=exponential, max_depth=None, min_samples_split=15, n_estimators=500; total time=   6.3s\n",
      "[CV] END criterion=squared_error, loss=exponential, max_depth=None, min_samples_split=15, n_estimators=500; total time=   6.6s\n",
      "[CV] END criterion=friedman_mse, loss=exponential, max_depth=None, min_samples_split=8, n_estimators=200; total time=   4.6s\n",
      "[CV] END criterion=friedman_mse, loss=exponential, max_depth=None, min_samples_split=8, n_estimators=200; total time=   4.8s\n",
      "[CV] END criterion=squared_error, loss=exponential, max_depth=None, min_samples_split=15, n_estimators=500; total time=   7.2s\n",
      "[CV] END criterion=friedman_mse, loss=exponential, max_depth=None, min_samples_split=8, n_estimators=200; total time=   4.0s\n"
     ]
    }
   ],
   "source": [
    "model_param = {}\n",
    "\n",
    "for name, model, params, in rscv_models:\n",
    "\n",
    "    rscv = RandomizedSearchCV(\n",
    "        estimator=model,\n",
    "        param_distributions=params,\n",
    "        n_iter=100,\n",
    "        cv=3,\n",
    "        verbose=2,\n",
    "        n_jobs=-1\n",
    "    )\n",
    "\n",
    "    rscv.fit(X_train,y_train)\n",
    "\n",
    "    model_param[name] = rscv.best_params_"
   ]
  },
  {
   "cell_type": "code",
   "execution_count": 157,
   "id": "87c08078",
   "metadata": {},
   "outputs": [
    {
     "name": "stdout",
     "output_type": "stream",
     "text": [
      "\n",
      "\n",
      "---------------- Best Params for Random Forest Classifier -------------------\n",
      "{'n_estimators': 200, 'min_samples_split': 2, 'max_features': 'log2', 'max_depth': None}\n",
      "\n",
      "\n",
      "\n",
      "\n",
      "---------------- Best Params for AdaBoost Classifier -------------------\n",
      "{'n_estimators': 80, 'algorithm': 'SAMME'}\n",
      "\n",
      "\n",
      "\n",
      "\n",
      "---------------- Best Params for Gradient Boosting Classifier -------------------\n",
      "{'n_estimators': 200, 'min_samples_split': 15, 'max_depth': None, 'loss': 'exponential', 'criterion': 'squared_error'}\n",
      "\n",
      "\n"
     ]
    }
   ],
   "source": [
    "for model_name in model_param:\n",
    "    print('\\n')\n",
    "    print(f'---------------- Best Params for {model_name} -------------------')\n",
    "    print(model_param[model_name])\n",
    "    print('\\n')"
   ]
  },
  {
   "cell_type": "markdown",
   "id": "3a2251b6",
   "metadata": {},
   "source": [
    "---"
   ]
  },
  {
   "cell_type": "markdown",
   "id": "d4fadcce",
   "metadata": {},
   "source": [
    "# Training Model with the Best Parameters"
   ]
  },
  {
   "cell_type": "code",
   "execution_count": 142,
   "id": "ed8226a1",
   "metadata": {},
   "outputs": [
    {
     "data": {
      "text/plain": [
       "{'n_estimators': 80, 'algorithm': 'SAMME'}"
      ]
     },
     "execution_count": 142,
     "metadata": {},
     "output_type": "execute_result"
    }
   ],
   "source": [
    "model_param[model_name]"
   ]
  },
  {
   "cell_type": "markdown",
   "id": "0964d9c0",
   "metadata": {},
   "source": [
    "### Specifying Best Parameters"
   ]
  },
  {
   "cell_type": "code",
   "execution_count": 160,
   "id": "11d61c1a",
   "metadata": {},
   "outputs": [],
   "source": [
    "models = {\n",
    "    'Random Forest Classifier': RandomForestClassifier(\n",
    "        n_estimators=200,\n",
    "        min_samples_split=2,\n",
    "        max_features='log2',\n",
    "        max_depth=None\n",
    "    ),\n",
    "    'AdaBoost Classifier': AdaBoostClassifier(\n",
    "        n_estimators=80,\n",
    "        algorithm='SAMME'\n",
    "    ),\n",
    "    'GradientBoostingClassifier': GradientBoostingClassifier(\n",
    "        n_estimators=200, \n",
    "        min_samples_split=15, \n",
    "        max_depth=None, \n",
    "        loss='exponential', \n",
    "        criterion='squared_error'\n",
    "    )\n",
    "}"
   ]
  },
  {
   "cell_type": "markdown",
   "id": "11e37d2c",
   "metadata": {},
   "source": [
    "### Retraining the Best Performing Model with the Best Parameters"
   ]
  },
  {
   "cell_type": "code",
   "execution_count": 161,
   "id": "ef386dd7",
   "metadata": {},
   "outputs": [
    {
     "name": "stdout",
     "output_type": "stream",
     "text": [
      "\n",
      "\n",
      "Random Forest Classifier\n",
      "\n",
      "\n",
      "Model Performance: Train Set\n",
      "- Accuracy Score: 1.0000\n",
      "- F1 Score: 1.0000\n",
      "- Precision Score: 1.0000\n",
      "- Recall Score: 1.0000\n",
      "- ROC AUC Score: 1.0000\n",
      "-----------------------------------\n",
      "Model Performance: Test Set\n",
      "- Accuracy Score: 0.9254\n",
      "- F1 Score: 0.7697\n",
      "- Precision Score: 0.9683\n",
      "- Recall Score: 0.6387\n",
      "- ROC AUC Score: 0.8168\n",
      "===================================\n",
      "\n",
      "\n",
      "\n",
      "\n",
      "AdaBoost Classifier\n",
      "\n",
      "\n",
      "Model Performance: Train Set\n",
      "- Accuracy Score: 0.8465\n",
      "- F1 Score: 0.3802\n",
      "- Precision Score: 0.7699\n",
      "- Recall Score: 0.2524\n",
      "- ROC AUC Score: 0.6176\n",
      "-----------------------------------\n",
      "Model Performance: Test Set\n",
      "- Accuracy Score: 0.8364\n",
      "- F1 Score: 0.3496\n",
      "- Precision Score: 0.7818\n",
      "- Recall Score: 0.2251\n",
      "- ROC AUC Score: 0.6049\n",
      "===================================\n",
      "\n",
      "\n",
      "\n",
      "\n",
      "GradientBoostingClassifier\n",
      "\n",
      "\n",
      "Model Performance: Train Set\n",
      "- Accuracy Score: 1.0000\n",
      "- F1 Score: 1.0000\n",
      "- Precision Score: 1.0000\n",
      "- Recall Score: 1.0000\n",
      "- ROC AUC Score: 1.0000\n",
      "-----------------------------------\n",
      "Model Performance: Test Set\n",
      "- Accuracy Score: 0.9560\n",
      "- F1 Score: 0.8782\n",
      "- Precision Score: 0.9568\n",
      "- Recall Score: 0.8115\n",
      "- ROC AUC Score: 0.9013\n",
      "===================================\n",
      "\n",
      "\n"
     ]
    }
   ],
   "source": [
    "for i in range(len(list(models))):\n",
    "\n",
    "    print('\\n')\n",
    "    model = list(models.values())[i]\n",
    "    model.fit(X_train,y_train)\n",
    "\n",
    "\n",
    "    #Prediction\n",
    "    y_train_pred = model.predict(X_train)\n",
    "    y_test_pred = model.predict(X_test) \n",
    "\n",
    "\n",
    "    model_train_accuracy = accuracy_score(y_train, y_train_pred)\n",
    "    model_train_f1 = f1_score(y_train, y_train_pred)\n",
    "    model_train_precision = precision_score(y_train, y_train_pred)\n",
    "    model_train_recall = recall_score(y_train, y_train_pred)\n",
    "    model_train_roc_auc = roc_auc_score(y_train, y_train_pred)\n",
    "\n",
    "\n",
    "\n",
    "    model_test_accuracy = accuracy_score(y_test, y_test_pred)\n",
    "    model_test_f1 = f1_score(y_test, y_test_pred)\n",
    "    model_test_precision = precision_score(y_test, y_test_pred)\n",
    "    model_test_recall = recall_score(y_test, y_test_pred)\n",
    "    model_test_roc_auc = roc_auc_score(y_test, y_test_pred)\n",
    "\n",
    "\n",
    "\n",
    "    print(list(models.keys())[i])\n",
    "    print('\\n')\n",
    "\n",
    "    print('Model Performance: Train Set')\n",
    "    print('- Accuracy Score: {:.4f}'.format(model_train_accuracy))\n",
    "    print('- F1 Score: {:.4f}'.format(model_train_f1))\n",
    "    print('- Precision Score: {:.4f}'.format(model_train_precision))\n",
    "    print('- Recall Score: {:.4f}'.format(model_train_recall))\n",
    "    print('- ROC AUC Score: {:.4f}'.format(model_train_roc_auc))\n",
    "\n",
    "    print('-'*35)\n",
    "\n",
    "    print('Model Performance: Test Set')\n",
    "    print('- Accuracy Score: {:.4f}'.format(model_test_accuracy))\n",
    "    print('- F1 Score: {:.4f}'.format(model_test_f1))\n",
    "    print('- Precision Score: {:.4f}'.format(model_test_precision))\n",
    "    print('- Recall Score: {:.4f}'.format(model_test_recall))\n",
    "    print('- ROC AUC Score: {:.4f}'.format(model_test_roc_auc))\n",
    "\n",
    "\n",
    "    print('='*35)\n",
    "    print('\\n')"
   ]
  },
  {
   "cell_type": "markdown",
   "id": "1ebfa8cf",
   "metadata": {},
   "source": [
    "---"
   ]
  },
  {
   "cell_type": "markdown",
   "id": "dad36028",
   "metadata": {},
   "source": [
    "## Plotting the ROC AUC Curve"
   ]
  },
  {
   "cell_type": "code",
   "execution_count": null,
   "id": "3f318a11",
   "metadata": {},
   "outputs": [],
   "source": [
    "from sklearn.metrics import roc_auc_score, roc_curve"
   ]
  },
  {
   "cell_type": "code",
   "execution_count": null,
   "id": "e4c3f953",
   "metadata": {},
   "outputs": [],
   "source": [
    "auc_models = [\n",
    "    {\n",
    "        'label': list(models.keys())[0],\n",
    "        'model': list(models.values())[0],\n",
    "        'auc': model_test_roc_auc\n",
    "    }\n",
    "]"
   ]
  },
  {
   "cell_type": "code",
   "execution_count": null,
   "id": "a6aa81ac",
   "metadata": {},
   "outputs": [],
   "source": [
    "auc_models"
   ]
  },
  {
   "cell_type": "code",
   "execution_count": null,
   "id": "7c583d9a",
   "metadata": {},
   "outputs": [],
   "source": [
    "plt.figure()\n",
    "\n",
    "for algo in auc_models:\n",
    "\n",
    "    model = algo['model']\n",
    "    model.fit(X_train,y_train)\n",
    "\n",
    "    fpr, tpr, threshold = roc_curve(y_test, model.predict_proba(X_test)[:,1])\n",
    "\n",
    "    plt.plot(fpr, tpr, label='%s ROC (area=%0.2f)' % (algo['label'], algo['auc']))   \n",
    "\n",
    "plt.plot([0,1],[0,1],'r--')\n",
    "plt.xlim([0.0, 1.0])\n",
    "plt.ylim([0.0, 1.05])\n",
    "\n",
    "plt.xlabel('1 - Specificity (FPR)')\n",
    "plt.ylabel('Sensitivity (TPR)')\n",
    "plt.title('Receiver Operating Characteristic')\n",
    "\n",
    "plt.legend()\n",
    "plt.show();"
   ]
  },
  {
   "cell_type": "markdown",
   "id": "3b227093",
   "metadata": {},
   "source": [
    "---"
   ]
  }
 ],
 "metadata": {
  "kernelspec": {
   "display_name": "eda_env",
   "language": "python",
   "name": "python3"
  },
  "language_info": {
   "codemirror_mode": {
    "name": "ipython",
    "version": 3
   },
   "file_extension": ".py",
   "mimetype": "text/x-python",
   "name": "python",
   "nbconvert_exporter": "python",
   "pygments_lexer": "ipython3",
   "version": "3.12.11"
  }
 },
 "nbformat": 4,
 "nbformat_minor": 5
}
